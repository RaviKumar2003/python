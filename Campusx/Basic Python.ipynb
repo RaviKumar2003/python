{
 "cells": [
  {
   "cell_type": "markdown",
   "id": "94726594-e404-4400-a335-341efa47ebc4",
   "metadata": {},
   "source": [
    "# Introduction to Python for Data Science"
   ]
  },
  {
   "cell_type": "code",
   "execution_count": 2,
   "id": "3eda33f7-c850-41f0-a498-0555e80c2ab1",
   "metadata": {},
   "outputs": [
    {
     "name": "stdout",
     "output_type": "stream",
     "text": [
      "hello\n"
     ]
    }
   ],
   "source": [
    "print('hello')"
   ]
  },
  {
   "cell_type": "code",
   "execution_count": 4,
   "id": "2084d146-08d0-4aa9-be7f-7f7455485434",
   "metadata": {},
   "outputs": [
    {
     "name": "stdout",
     "output_type": "stream",
     "text": [
      "hello-World\n"
     ]
    }
   ],
   "source": [
    "print('hello', end ='-')\n",
    "print('World')\n"
   ]
  },
  {
   "cell_type": "code",
   "execution_count": null,
   "id": "e42e8414-0cf1-4c35-8143-a1ab2094751f",
   "metadata": {},
   "outputs": [],
   "source": []
  },
  {
   "cell_type": "markdown",
   "id": "a8ecb87a-0d77-4b3d-bf82-4d2e7edc7340",
   "metadata": {},
   "source": [
    "# Data type"
   ]
  },
  {
   "cell_type": "code",
   "execution_count": 7,
   "id": "a0959d6f-1983-41ba-a132-ff90ca678487",
   "metadata": {},
   "outputs": [
    {
     "name": "stdout",
     "output_type": "stream",
     "text": [
      "8\n"
     ]
    }
   ],
   "source": [
    "# Integer\n",
    "print(8)"
   ]
  },
  {
   "cell_type": "code",
   "execution_count": 9,
   "id": "6878a4f3-dc15-4216-84c9-cb25ff308478",
   "metadata": {},
   "outputs": [
    {
     "name": "stdout",
     "output_type": "stream",
     "text": [
      "3.14\n"
     ]
    }
   ],
   "source": [
    "#Decimal\n",
    "print(3.14)"
   ]
  },
  {
   "cell_type": "code",
   "execution_count": 11,
   "id": "89c2ff8b-30ff-4f4d-ab7f-12dc65799c24",
   "metadata": {},
   "outputs": [
    {
     "name": "stdout",
     "output_type": "stream",
     "text": [
      "True\n"
     ]
    }
   ],
   "source": [
    "#Boolean\n",
    "print(True)"
   ]
  },
  {
   "cell_type": "code",
   "execution_count": 13,
   "id": "612de575-da96-443c-b5fe-e85be88c7139",
   "metadata": {},
   "outputs": [
    {
     "name": "stdout",
     "output_type": "stream",
     "text": [
      "False\n"
     ]
    }
   ],
   "source": [
    "print(False)"
   ]
  },
  {
   "cell_type": "code",
   "execution_count": 15,
   "id": "6433f1e5-dfff-4856-a522-cb1febb40b4b",
   "metadata": {},
   "outputs": [
    {
     "name": "stdout",
     "output_type": "stream",
     "text": [
      "Hello world\n"
     ]
    }
   ],
   "source": [
    "#String\n",
    "print('Hello world')"
   ]
  },
  {
   "cell_type": "code",
   "execution_count": 17,
   "id": "716904cd-6592-4466-8ec3-cbfe56e2f286",
   "metadata": {},
   "outputs": [
    {
     "name": "stdout",
     "output_type": "stream",
     "text": [
      "[1, 2, 3, 4, 5]\n"
     ]
    }
   ],
   "source": [
    "#list\n",
    "print([1,2,3,4,5])"
   ]
  },
  {
   "cell_type": "code",
   "execution_count": 19,
   "id": "42c55aab-f7db-4a8e-ba95-13a93f8ae696",
   "metadata": {},
   "outputs": [
    {
     "name": "stdout",
     "output_type": "stream",
     "text": [
      "(1, 2, 3, 4, 5)\n"
     ]
    }
   ],
   "source": [
    "#Tuple\n",
    "print((1,2,3,4,5))"
   ]
  },
  {
   "cell_type": "code",
   "execution_count": 21,
   "id": "1a6e806b-8e73-4d8c-98dd-fefb2c23eae8",
   "metadata": {},
   "outputs": [
    {
     "name": "stdout",
     "output_type": "stream",
     "text": [
      "{1, 2, 3, 4, 5}\n"
     ]
    }
   ],
   "source": [
    "#sets\n",
    "print({1,2,3,4,5})"
   ]
  },
  {
   "cell_type": "code",
   "execution_count": 23,
   "id": "9dfcc6ae-ddbd-427e-aa3b-4f0b8efb708f",
   "metadata": {},
   "outputs": [
    {
     "name": "stdout",
     "output_type": "stream",
     "text": [
      "{'Name': 'Ravi', 'gender': 'Male', 'Weight': 70}\n"
     ]
    }
   ],
   "source": [
    "#Dictionary\n",
    "print({'Name':'Ravi', 'gender':'Male','Weight':70})"
   ]
  },
  {
   "cell_type": "code",
   "execution_count": 25,
   "id": "d80ba922-174d-4691-8aaf-31b894ec78e4",
   "metadata": {},
   "outputs": [
    {
     "data": {
      "text/plain": [
       "list"
      ]
     },
     "execution_count": 25,
     "metadata": {},
     "output_type": "execute_result"
    }
   ],
   "source": [
    "#type\n",
    "type([1,2,3])"
   ]
  },
  {
   "cell_type": "code",
   "execution_count": 27,
   "id": "959c7a9f-d171-4b99-ba75-a40883b24bd2",
   "metadata": {},
   "outputs": [
    {
     "ename": "SyntaxError",
     "evalue": "invalid syntax (3533524596.py, line 7)",
     "output_type": "error",
     "traceback": [
      "\u001b[1;36m  Cell \u001b[1;32mIn[27], line 7\u001b[1;36m\u001b[0m\n\u001b[1;33m    int a =5\u001b[0m\n\u001b[1;37m        ^\u001b[0m\n\u001b[1;31mSyntaxError\u001b[0m\u001b[1;31m:\u001b[0m invalid syntax\n"
     ]
    }
   ],
   "source": [
    "#Dynamic Binding\n",
    "a =5\n",
    "print(a)\n",
    "a =\"Ravi\"\n",
    "print(a)\n",
    "#static binding\n",
    "int a =5"
   ]
  },
  {
   "cell_type": "code",
   "execution_count": 29,
   "id": "9df359a8-76da-4475-9219-e76f383ad8b1",
   "metadata": {},
   "outputs": [
    {
     "ename": "SyntaxError",
     "evalue": "invalid syntax (594395199.py, line 1)",
     "output_type": "error",
     "traceback": [
      "\u001b[1;36m  Cell \u001b[1;32mIn[29], line 1\u001b[1;36m\u001b[0m\n\u001b[1;33m    int a =5\u001b[0m\n\u001b[1;37m        ^\u001b[0m\n\u001b[1;31mSyntaxError\u001b[0m\u001b[1;31m:\u001b[0m invalid syntax\n"
     ]
    }
   ],
   "source": [
    "int a =5"
   ]
  },
  {
   "cell_type": "code",
   "execution_count": 31,
   "id": "89b455d0-b9af-4bc9-9b4c-605a5c86d43a",
   "metadata": {},
   "outputs": [],
   "source": [
    "a =5"
   ]
  },
  {
   "cell_type": "markdown",
   "id": "8b690020-a95f-4233-abbc-4dad906fca23",
   "metadata": {},
   "source": [
    "# Dynamic Binding\n",
    "a =5\n",
    "print(a)\n",
    "a =\"Ravi\"\n",
    "print(a)"
   ]
  },
  {
   "cell_type": "markdown",
   "id": "b77ad26b-ba6d-4163-8cde-78f86c62700f",
   "metadata": {},
   "source": [
    "# User Input"
   ]
  },
  {
   "cell_type": "code",
   "execution_count": 36,
   "id": "8ddcfbab-dea4-44ca-891c-850e756cbb87",
   "metadata": {},
   "outputs": [
    {
     "name": "stdin",
     "output_type": "stream",
     "text": [
      "Enter Email sonnelravi@gmail.com\n"
     ]
    },
    {
     "data": {
      "text/plain": [
       "'sonnelravi@gmail.com'"
      ]
     },
     "execution_count": 36,
     "metadata": {},
     "output_type": "execute_result"
    }
   ],
   "source": [
    "#Static vs Dynamic\n",
    "input('Enter Email')"
   ]
  },
  {
   "cell_type": "code",
   "execution_count": 43,
   "id": "74221ade-bb78-412f-86c0-1cf9ed59e9f9",
   "metadata": {},
   "outputs": [
    {
     "name": "stdin",
     "output_type": "stream",
     "text": [
      "Enter first number 50\n",
      "Enter Second number 26\n"
     ]
    },
    {
     "name": "stdout",
     "output_type": "stream",
     "text": [
      "5026\n"
     ]
    }
   ],
   "source": [
    "#take input fromusers and store them in a variable\n",
    "fnum =input('Enter first number')\n",
    "snum =input('Enter Second number')\n",
    "#add the 2 variables\n",
    "result =fnum+snum\n",
    "#print the result\n",
    "print(result)\n"
   ]
  },
  {
   "cell_type": "code",
   "execution_count": 45,
   "id": "b28d83e7-04e3-4495-af39-7b9d8c216f43",
   "metadata": {},
   "outputs": [
    {
     "data": {
      "text/plain": [
       "str"
      ]
     },
     "execution_count": 45,
     "metadata": {},
     "output_type": "execute_result"
    }
   ],
   "source": [
    "#type checking\n",
    "type(fnum)\n"
   ]
  },
  {
   "cell_type": "code",
   "execution_count": 47,
   "id": "0c7929d0-dd72-4a81-8d1d-317f42f66417",
   "metadata": {},
   "outputs": [
    {
     "data": {
      "text/plain": [
       "str"
      ]
     },
     "execution_count": 47,
     "metadata": {},
     "output_type": "execute_result"
    }
   ],
   "source": [
    "type(snum)"
   ]
  },
  {
   "cell_type": "code",
   "execution_count": 51,
   "id": "5accf972-5fa6-4ddd-a2ee-104c58c4326e",
   "metadata": {},
   "outputs": [
    {
     "name": "stdin",
     "output_type": "stream",
     "text": [
      "Enter first number 50\n",
      "Enter Second number 26\n"
     ]
    },
    {
     "name": "stdout",
     "output_type": "stream",
     "text": [
      "76\n"
     ]
    },
    {
     "data": {
      "text/plain": [
       "str"
      ]
     },
     "execution_count": 51,
     "metadata": {},
     "output_type": "execute_result"
    }
   ],
   "source": [
    "#above result due concatenation of string\n",
    "#take input fromusers and store them in a variable\n",
    "fnum =input('Enter first number')\n",
    "snum =input('Enter Second number')\n",
    "#add the 2 variables\n",
    "result =int(fnum)+int(snum)\n",
    "#print the result\n",
    "print(result)\n",
    "type(fnum)\n",
    "type(snum)"
   ]
  },
  {
   "cell_type": "code",
   "execution_count": 53,
   "id": "5d6b47c4-a275-4b95-8173-0b3e048b0631",
   "metadata": {},
   "outputs": [
    {
     "name": "stdin",
     "output_type": "stream",
     "text": [
      "Enter first number 50\n",
      "Enter Second number 26\n"
     ]
    },
    {
     "name": "stdout",
     "output_type": "stream",
     "text": [
      "76\n"
     ]
    },
    {
     "data": {
      "text/plain": [
       "int"
      ]
     },
     "execution_count": 53,
     "metadata": {},
     "output_type": "execute_result"
    }
   ],
   "source": [
    "#above result due concatenation of string\n",
    "#take input fromusers and store them in a variable\n",
    "fnum =int(input('Enter first number'))\n",
    "snum =int(input('Enter Second number'))\n",
    "#add the 2 variables\n",
    "result =fnum+snum\n",
    "#print the result\n",
    "print(result)\n",
    "type(fnum)\n",
    "type(snum)"
   ]
  },
  {
   "cell_type": "code",
   "execution_count": 55,
   "id": "91ce07a4-6f0e-4221-b7ca-110dd733d80a",
   "metadata": {},
   "outputs": [
    {
     "ename": "TypeError",
     "evalue": "unsupported operand type(s) for +: 'int' and 'str'",
     "output_type": "error",
     "traceback": [
      "\u001b[1;31m---------------------------------------------------------------------------\u001b[0m",
      "\u001b[1;31mTypeError\u001b[0m                                 Traceback (most recent call last)",
      "Cell \u001b[1;32mIn[55], line 1\u001b[0m\n\u001b[1;32m----> 1\u001b[0m \u001b[38;5;28mprint\u001b[39m(\u001b[38;5;241m4\u001b[39m\u001b[38;5;241m+\u001b[39m\u001b[38;5;124m'\u001b[39m\u001b[38;5;124m4\u001b[39m\u001b[38;5;124m'\u001b[39m)\n",
      "\u001b[1;31mTypeError\u001b[0m: unsupported operand type(s) for +: 'int' and 'str'"
     ]
    }
   ],
   "source": [
    "print(4+'4')"
   ]
  },
  {
   "cell_type": "code",
   "execution_count": 57,
   "id": "a10570e3-e613-4439-80ce-70d5748add6a",
   "metadata": {},
   "outputs": [
    {
     "ename": "TypeError",
     "evalue": "int() argument must be a string, a bytes-like object or a real number, not 'complex'",
     "output_type": "error",
     "traceback": [
      "\u001b[1;31m---------------------------------------------------------------------------\u001b[0m",
      "\u001b[1;31mTypeError\u001b[0m                                 Traceback (most recent call last)",
      "Cell \u001b[1;32mIn[57], line 3\u001b[0m\n\u001b[0;32m      1\u001b[0m \u001b[38;5;66;03m#explicit\u001b[39;00m\n\u001b[0;32m      2\u001b[0m \u001b[38;5;66;03m#str --> int\u001b[39;00m\n\u001b[1;32m----> 3\u001b[0m \u001b[38;5;28mint\u001b[39m(\u001b[38;5;241m4\u001b[39m\u001b[38;5;241m+\u001b[39m\u001b[38;5;241m5\u001b[39mj)\n",
      "\u001b[1;31mTypeError\u001b[0m: int() argument must be a string, a bytes-like object or a real number, not 'complex'"
     ]
    }
   ],
   "source": [
    "#explicit\n",
    "#str --> int\n",
    "int(4+5j)"
   ]
  },
  {
   "cell_type": "code",
   "execution_count": 59,
   "id": "20fb8050-7321-4fcc-943d-2ed55dbb3bef",
   "metadata": {},
   "outputs": [
    {
     "ename": "NameError",
     "evalue": "name 'b' is not defined",
     "output_type": "error",
     "traceback": [
      "\u001b[1;31m---------------------------------------------------------------------------\u001b[0m",
      "\u001b[1;31mNameError\u001b[0m                                 Traceback (most recent call last)",
      "Cell \u001b[1;32mIn[59], line 7\u001b[0m\n\u001b[0;32m      5\u001b[0m x \u001b[38;5;241m=\u001b[39m \u001b[38;5;241m3.14\u001b[39mj\n\u001b[0;32m      6\u001b[0m y \u001b[38;5;241m=\u001b[39m\u001b[38;5;241m3\u001b[39m\u001b[38;5;241m+\u001b[39m\u001b[38;5;241m4\u001b[39mj\n\u001b[1;32m----> 7\u001b[0m \u001b[38;5;28mprint\u001b[39m(a,b,c,d)\n\u001b[0;32m      8\u001b[0m \u001b[38;5;28mprint\u001b[39m(float_1,float_2,float_3)\n\u001b[0;32m      9\u001b[0m \u001b[38;5;28mprint\u001b[39m(x,x\u001b[38;5;241m.\u001b[39mreal,x\u001b[38;5;241m.\u001b[39mimag)\n",
      "\u001b[1;31mNameError\u001b[0m: name 'b' is not defined"
     ]
    }
   ],
   "source": [
    "float_1 =10.5\n",
    "float_2 =1.5e2\n",
    "float_3 =1.5e-3\n",
    "#complex literal\n",
    "x = 3.14j\n",
    "y =3+4j\n",
    "print(a,b,c,d)\n",
    "print(float_1,float_2,float_3)\n",
    "print(x,x.real,x.imag)\n"
   ]
  },
  {
   "cell_type": "code",
   "execution_count": 63,
   "id": "630b25a5-715f-474f-b794-d46befbbdc21",
   "metadata": {},
   "outputs": [
    {
     "name": "stdout",
     "output_type": "stream",
     "text": [
      "10 192 3090\n",
      "10.5 150.0 0.0015\n",
      "3.14j 0.0 3.14\n"
     ]
    }
   ],
   "source": [
    "float_1 =10.5\n",
    "float_2 =1.5e2\n",
    "float_3 =1.5e-3\n",
    "a =0b1010\n",
    "b =0o300\n",
    "c =0xc12\n",
    "#complex literal\n",
    "x = 3.14j\n",
    "y =3+4j\n",
    "print(a,b,c)\n",
    "print(float_1,float_2,float_3)\n",
    "print(x,x.real,x.imag)"
   ]
  },
  {
   "cell_type": "code",
   "execution_count": 65,
   "id": "6a9519b5-44dc-4714-bf2d-1784ff301219",
   "metadata": {},
   "outputs": [
    {
     "data": {
      "text/plain": [
       "5"
      ]
     },
     "execution_count": 65,
     "metadata": {},
     "output_type": "execute_result"
    }
   ],
   "source": [
    "True+4"
   ]
  },
  {
   "cell_type": "code",
   "execution_count": 67,
   "id": "e51f4bf3-e5e2-4cd6-8090-2e2b2e066c6e",
   "metadata": {},
   "outputs": [
    {
     "data": {
      "text/plain": [
       "4"
      ]
     },
     "execution_count": 67,
     "metadata": {},
     "output_type": "execute_result"
    }
   ],
   "source": [
    "False+4"
   ]
  },
  {
   "cell_type": "markdown",
   "id": "4ea305e3-3ddc-4cb9-9842-4ebda75bb10d",
   "metadata": {},
   "source": [
    "# Operators in Python\n",
    "1 Arithematic operator\n",
    "\n",
    "2 Relational operator\n",
    "\n",
    "3 Logical operator\n",
    "\n",
    "4 Bitwise Operator\n",
    "\n",
    "5 Assigment Operator\n",
    "\n",
    "6 Membership Operator\n"
   ]
  },
  {
   "cell_type": "code",
   "execution_count": 6,
   "id": "5fddd130-6d8c-4bae-ba88-1267b0ee088c",
   "metadata": {},
   "outputs": [
    {
     "name": "stdout",
     "output_type": "stream",
     "text": [
      "11\n",
      "-1\n",
      "30\n",
      "2.5\n",
      "2\n",
      "1\n",
      "25\n"
     ]
    }
   ],
   "source": [
    "#Arithematic operator\n",
    "print(5+6)\n",
    "\n",
    "print(5-6)\n",
    "\n",
    "print(5*6)\n",
    "\n",
    "print(5/2)\n",
    "\n",
    "print(5//2)\n",
    "\n",
    "print(5%2)\n",
    "\n",
    "print(5**2)\n"
   ]
  },
  {
   "cell_type": "code",
   "execution_count": 8,
   "id": "ce61d7ae-0c19-4188-b597-5a95efd60ce5",
   "metadata": {},
   "outputs": [
    {
     "name": "stdout",
     "output_type": "stream",
     "text": [
      "False\n",
      "True\n",
      "True\n",
      "True\n",
      "True\n",
      "True\n"
     ]
    }
   ],
   "source": [
    "#Relational Operator\n",
    "print(4>5)\n",
    "\n",
    "print(4>=4)\n",
    "\n",
    "print(4<5)\n",
    "\n",
    "print(4<=5)\n",
    "\n",
    "print(4 == 4)\n",
    "print(4!= 5)"
   ]
  },
  {
   "cell_type": "code",
   "execution_count": 10,
   "id": "abaafc64-f292-4d51-8fb3-7fda55b36465",
   "metadata": {},
   "outputs": [
    {
     "name": "stdout",
     "output_type": "stream",
     "text": [
      "4\n",
      "3\n",
      "False\n",
      "7\n"
     ]
    }
   ],
   "source": [
    "#Logical operator\n",
    "print(3 and 4)\n",
    "\n",
    "print(3 or 4)\n",
    "\n",
    "print(not 3)\n",
    "\n",
    "print(3 ^ 4)"
   ]
  },
  {
   "cell_type": "code",
   "execution_count": 12,
   "id": "4eb33afa-f0ec-4d5d-bd83-f4ca675587e2",
   "metadata": {},
   "outputs": [
    {
     "name": "stdout",
     "output_type": "stream",
     "text": [
      "2\n"
     ]
    }
   ],
   "source": [
    "print(2 or 3)"
   ]
  },
  {
   "cell_type": "code",
   "execution_count": 16,
   "id": "1cbef5b9-4dcc-42e7-9341-bbc16bd63320",
   "metadata": {},
   "outputs": [
    {
     "name": "stdout",
     "output_type": "stream",
     "text": [
      "2\n",
      "3\n",
      "1\n",
      "-4\n",
      "1\n",
      "20\n"
     ]
    }
   ],
   "source": [
    "#Bitwise Operator\n",
    "#and\n",
    "print(2&3)\n",
    "\n",
    "print(2|3)\n",
    "\n",
    "print(2^3)\n",
    "\n",
    "print(~3)\n",
    "\n",
    "print(4>>2)\n",
    "\n",
    "print(5<<2)"
   ]
  },
  {
   "cell_type": "code",
   "execution_count": 18,
   "id": "dc967750-d517-44eb-b9e0-639c8d0f8c6a",
   "metadata": {},
   "outputs": [
    {
     "name": "stdout",
     "output_type": "stream",
     "text": [
      "2\n",
      "4\n",
      "3\n"
     ]
    }
   ],
   "source": [
    "#Assignment Operator\n",
    "a =2\n",
    "print(a)\n",
    "\n",
    "a+=2\n",
    "print(a)\n",
    "\n",
    "a-=1\n",
    "print(a)\n",
    "\n",
    "#  like c and c++ there is not increment and decrement unary operator\n",
    "\n",
    "\n"
   ]
  },
  {
   "cell_type": "code",
   "execution_count": 20,
   "id": "18ba237b-372d-4b33-a10f-35687a80b3a7",
   "metadata": {},
   "outputs": [
    {
     "name": "stdout",
     "output_type": "stream",
     "text": [
      "True\n"
     ]
    }
   ],
   "source": [
    "#Membership Operator\n",
    "# in,  not in\n",
    "print('D' in 'Delhi')"
   ]
  },
  {
   "cell_type": "code",
   "execution_count": 22,
   "id": "2e8b4d50-6f7c-4b15-b21c-464fc618bfa6",
   "metadata": {},
   "outputs": [
    {
     "name": "stdout",
     "output_type": "stream",
     "text": [
      "True\n"
     ]
    }
   ],
   "source": [
    "print('E' not in 'Delhi')"
   ]
  },
  {
   "cell_type": "code",
   "execution_count": 24,
   "id": "3a650278-3c84-4215-859d-74e321b22ba8",
   "metadata": {},
   "outputs": [
    {
     "name": "stdout",
     "output_type": "stream",
     "text": [
      "True\n"
     ]
    }
   ],
   "source": [
    "print(1 in [1,2,3,4])"
   ]
  },
  {
   "cell_type": "code",
   "execution_count": 28,
   "id": "1768c864-787c-440d-a9df-7fa17f974eb9",
   "metadata": {},
   "outputs": [
    {
     "name": "stdin",
     "output_type": "stream",
     "text": [
      "Enter a 3digit number 789\n"
     ]
    },
    {
     "name": "stdout",
     "output_type": "stream",
     "text": [
      "24\n"
     ]
    }
   ],
   "source": [
    "number = int(input('Enter a 3digit number'))\n",
    "\n",
    " #345%10 --> 5\n",
    "a = number%10\n",
    "number =number//10\n",
    "#34%10 -> 4\n",
    "b =number%10\n",
    "number =number//10\n",
    "# 3 % 10 -> 3\n",
    "c =number%10\n",
    "\n",
    "print(a+b+c)\n"
   ]
  },
  {
   "cell_type": "code",
   "execution_count": 40,
   "id": "d9e133f1-807d-4b13-bf5e-dc829defb18a",
   "metadata": {},
   "outputs": [
    {
     "name": "stdin",
     "output_type": "stream",
     "text": [
      "Enter email sonnelravi@gmail.com\n",
      "Enter password 1234\n"
     ]
    },
    {
     "name": "stdout",
     "output_type": "stream",
     "text": [
      "Welcome\n"
     ]
    }
   ],
   "source": [
    "#login program and indetation\n",
    "#email -> sonnelravi@gmail.com\n",
    "#password -> 1234\n",
    "email = input('Enter email')\n",
    "password = input('Enter password')\n",
    "\n",
    "if (email == 'sonnelravi@gmail.com' and password == '1234'):\n",
    "    print('Welcome')\n",
    "else:\n",
    "    print('Not correct')\n"
   ]
  },
  {
   "cell_type": "code",
   "execution_count": 1,
   "id": "49107332-0d8d-44b7-8992-4dc89211fe41",
   "metadata": {},
   "outputs": [
    {
     "name": "stdin",
     "output_type": "stream",
     "text": [
      "first num 12\n",
      "second num 13\n",
      "third num 14\n"
     ]
    },
    {
     "name": "stdout",
     "output_type": "stream",
     "text": [
      "Smallest Number 12\n"
     ]
    }
   ],
   "source": [
    "#min of three number\n",
    "a =int(input('first num'))\n",
    "b =int(input('second num'))\n",
    "c =int(input('third num'))\n",
    "if(a<b and a<c):\n",
    "    print('Smallest Number',a)\n",
    "elif b<c:\n",
    "    print('Smallest Number',b)\n",
    "else:\n",
    "    print('Smallest Number',c)\n",
    "    "
   ]
  },
  {
   "cell_type": "code",
   "execution_count": 3,
   "id": "8b99fa4f-2c84-4ead-9013-2316e061bcf0",
   "metadata": {},
   "outputs": [
    {
     "name": "stdin",
     "output_type": "stream",
     "text": [
      "first num 34\n",
      "second num 11\n",
      "third num 67\n"
     ]
    },
    {
     "name": "stdout",
     "output_type": "stream",
     "text": [
      "largest Number 67\n"
     ]
    }
   ],
   "source": [
    "#max of three number\n",
    "a =int(input('first num'))\n",
    "b =int(input('second num'))\n",
    "c =int(input('third num'))\n",
    "if(a>b and a>c):\n",
    "    print('Largest Number',a)\n",
    "elif b>c:\n",
    "    print('Largest Number',b)\n",
    "else:\n",
    "    print('largest Number',c)\n"
   ]
  },
  {
   "cell_type": "code",
   "execution_count": 7,
   "id": "e4e2fa99-9463-47a6-8374-f78f0f35b315",
   "metadata": {},
   "outputs": [
    {
     "name": "stdin",
     "output_type": "stream",
     "text": [
      "Enter the 1st number 78\n",
      "Enter the 2nd number 13\n",
      "Enter the operator /\n"
     ]
    },
    {
     "name": "stdout",
     "output_type": "stream",
     "text": [
      "6.0\n"
     ]
    }
   ],
   "source": [
    "#Menu driven calculator\n",
    "fnum = int(input('Enter the 1st number'))\n",
    "snum = int(input('Enter the 2nd number'))\n",
    "op = input('Enter the operator')\n",
    "if op == '+':\n",
    "    print(fnum + snum)\n",
    "elif op == '-':\n",
    "    print(fnum - snum)\n",
    "elif op =='*':\n",
    "    print(fnum * snum)\n",
    "elif op =='/':\n",
    "    print(fnum/snum)\n",
    "else:\n",
    "    print(\"It is not advanced calculator\")\n"
   ]
  },
  {
   "cell_type": "code",
   "execution_count": 9,
   "id": "e9c6d3ae-52f9-4ca5-91be-c6b5e972862a",
   "metadata": {},
   "outputs": [
    {
     "name": "stdin",
     "output_type": "stream",
     "text": [
      "\n",
      "Hi! How can I help you.\n",
      "1. Enter 1 for pin change\n",
      "2. Enter 2 for Withdrawl\n",
      "3. Enter 3 for Balance check\n",
      "4. Enter 4 for exit\n",
      " 1\n"
     ]
    },
    {
     "name": "stdout",
     "output_type": "stream",
     "text": [
      "pin change\n"
     ]
    }
   ],
   "source": [
    "#Menu driven of atm\n",
    "menu = input(\"\"\"\n",
    "Hi! How can I help you.\n",
    "1. Enter 1 for pin change\n",
    "2. Enter 2 for Withdrawl\n",
    "3. Enter 3 for Balance check\n",
    "4. Enter 4 for exit\n",
    "\"\"\")\n",
    "if menu == '1':\n",
    "    print('pin change')\n",
    "elif menu == '2':\n",
    "    print('Wihtdrawl')\n",
    "elif menu == '3':\n",
    "    print('Balance Check')\n",
    "elif menu == '4':\n",
    "    print('Exit')"
   ]
  },
  {
   "cell_type": "code",
   "execution_count": null,
   "id": "7defebc2-6a2b-4683-82ac-f7be923ce6cb",
   "metadata": {},
   "outputs": [],
   "source": []
  },
  {
   "cell_type": "markdown",
   "id": "e05bfc10-d885-45e9-ba4e-4f8bf7fecee7",
   "metadata": {},
   "source": [
    "# Modules in Python\n",
    "1. math\n",
    "2. keywords\n",
    "3. constant\n",
    "4. random"
   ]
  },
  {
   "cell_type": "code",
   "execution_count": 12,
   "id": "dd130faa-30a1-4c75-b97b-4593c6a23e0e",
   "metadata": {},
   "outputs": [
    {
     "data": {
      "text/plain": [
       "120"
      ]
     },
     "execution_count": 12,
     "metadata": {},
     "output_type": "execute_result"
    }
   ],
   "source": [
    "#math\n",
    "import math\n",
    "math.factorial(5)"
   ]
  },
  {
   "cell_type": "code",
   "execution_count": 14,
   "id": "408c75a9-2f32-41fa-89be-1c253350d2c3",
   "metadata": {},
   "outputs": [
    {
     "data": {
      "text/plain": [
       "6"
      ]
     },
     "execution_count": 14,
     "metadata": {},
     "output_type": "execute_result"
    }
   ],
   "source": [
    "import math\n",
    "math.floor(6.7)"
   ]
  },
  {
   "cell_type": "code",
   "execution_count": 16,
   "id": "1c2af4e9-43a0-4a1c-8737-3baf970441c4",
   "metadata": {},
   "outputs": [
    {
     "name": "stdout",
     "output_type": "stream",
     "text": [
      "['False', 'None', 'True', 'and', 'as', 'assert', 'async', 'await', 'break', 'class', 'continue', 'def', 'del', 'elif', 'else', 'except', 'finally', 'for', 'from', 'global', 'if', 'import', 'in', 'is', 'lambda', 'nonlocal', 'not', 'or', 'pass', 'raise', 'return', 'try', 'while', 'with', 'yield']\n"
     ]
    }
   ],
   "source": [
    "#Keywords\n",
    "import keyword\n",
    "print(keyword.kwlist)"
   ]
  },
  {
   "cell_type": "code",
   "execution_count": 18,
   "id": "b7ca467e-7e9c-49d6-af5f-a3cd9777162d",
   "metadata": {},
   "outputs": [
    {
     "name": "stdout",
     "output_type": "stream",
     "text": [
      "66\n"
     ]
    }
   ],
   "source": [
    "#Random\n",
    "import random\n",
    "print(random.randint(1,100))"
   ]
  },
  {
   "cell_type": "code",
   "execution_count": 20,
   "id": "5b78dcf2-62b3-46a8-b1a2-8698da1f3bd7",
   "metadata": {},
   "outputs": [
    {
     "name": "stdout",
     "output_type": "stream",
     "text": [
      "6\n"
     ]
    }
   ],
   "source": [
    "#Random\n",
    "import random\n",
    "print(random.randint(1,100))"
   ]
  },
  {
   "cell_type": "code",
   "execution_count": 22,
   "id": "9bfc38e4-520e-4868-bda7-b301bb91c9c9",
   "metadata": {},
   "outputs": [
    {
     "name": "stdout",
     "output_type": "stream",
     "text": [
      "2024-08-21 02:01:48.592797\n"
     ]
    }
   ],
   "source": [
    "#date time\n",
    "import datetime\n",
    "print(datetime.datetime.now())"
   ]
  },
  {
   "cell_type": "markdown",
   "id": "9145b871-d3ae-4fda-8ac8-2d54f4d363cd",
   "metadata": {},
   "source": [
    "help('modules')"
   ]
  },
  {
   "cell_type": "code",
   "execution_count": 27,
   "id": "0acc7aa1-e433-479b-a762-15f057b81eba",
   "metadata": {},
   "outputs": [
    {
     "name": "stdout",
     "output_type": "stream",
     "text": [
      "\n",
      "Please wait a moment while I gather a list of all available modules...\n",
      "\n"
     ]
    },
    {
     "name": "stderr",
     "output_type": "stream",
     "text": [
      "C:\\Users\\HP\\anaconda3\\Lib\\site-packages\\paramiko\\transport.py:219: CryptographyDeprecationWarning: Blowfish has been deprecated and will be removed in a future release\n",
      "  \"class\": algorithms.Blowfish,\n",
      "C:\\Users\\HP\\anaconda3\\Lib\\site-packages\\nltk\\twitter\\__init__.py:20: UserWarning: The twython library has not been installed. Some functionality from the twitter package will not be available.\n",
      "  warnings.warn(\n",
      "C:\\Users\\HP\\anaconda3\\Lib\\pkgutil.py:78: UserWarning: The numpy.array_api submodule is still experimental. See NEP 47.\n",
      "  __import__(info.name)\n",
      "No QCoreApplication instance found. Application patches not applied. You have to call load_stylesheet function after instantiation of QApplication to take effect. \n"
     ]
    },
    {
     "name": "stdout",
     "output_type": "stream",
     "text": [
      "7f0197f6d050da244d93__mypyc code                math                smmap\n",
      "IPython             codecs              matplotlib          smtplib\n",
      "OpenSSL             codeop              matplotlib_inline   snappy\n",
      "PIL                 collections         mccabe              sndhdr\n",
      "PyQt5               colorama            mdit_py_plugins     sniffio\n",
      "__future__          colorcet            mdurl               snowballstemmer\n",
      "__hello__           colorsys            menuinst            socket\n",
      "__phello__          comm                mimetypes           socketserver\n",
      "_abc                commctrl            mistune             socks\n",
      "_aix_support        compileall          mkl                 sockshandler\n",
      "_argon2_cffi_bindings concurrent          mkl_fft             sortedcontainers\n",
      "_ast                conda               mmap                soupsieve\n",
      "_asyncio            conda_build         mmapfile            sphinx\n",
      "_bisect             conda_content_trust mmsystem            spyder\n",
      "_black_version      conda_env           modulefinder        spyder_kernels\n",
      "_blake2             conda_index         more_itertools      sqlalchemy\n",
      "_brotli             conda_libmamba_solver mpmath              sqlite3\n",
      "_bz2                conda_pack          msgpack             sre_compile\n",
      "_cffi_backend       conda_package_handling msilib              sre_constants\n",
      "_codecs             conda_package_streaming msvcrt              sre_parse\n",
      "_codecs_cn          conda_token         multidict           ssl\n",
      "_codecs_hk          configparser        multipledispatch    sspi\n",
      "_codecs_iso2022     constantly          multiprocessing     sspicon\n",
      "_codecs_jp          contextlib          mypy                stack_data\n",
      "_codecs_kr          contextvars         mypy_extensions     stat\n",
      "_codecs_tw          contourpy           mypyc               statistics\n",
      "_collections        cookiecutter        nacl                statsmodels\n",
      "_collections_abc    copy                navigator_updater   streamlit\n",
      "_compat_pickle      copyreg             nbclient            string\n",
      "_compression        cpuinfo             nbconvert           stringprep\n",
      "_contextvars        crypt               nbformat            struct\n",
      "_csv                cryptography        nest_asyncio        subprocess\n",
      "_ctypes             cssselect           netbios             sunau\n",
      "_ctypes_test        csv                 netrc               sympy\n",
      "_datetime           ctypes              networkx            symtable\n",
      "_decimal            curl                nltk                sys\n",
      "_distutils_hack     curses              nntplib             sysconfig\n",
      "_elementtree        cwp                 notebook            tables\n",
      "_functools          cycler              notebook_shim       tabnanny\n",
      "_hashlib            cytoolz             nt                  tabulate\n",
      "_heapq              dask                ntpath              tarfile\n",
      "_imp                dask_expr           ntsecuritycon       tblib\n",
      "_io                 dataclasses         nturl2path          telnetlib\n",
      "_json               datashader          numba               tempfile\n",
      "_locale             datetime            numbergen           tenacity\n",
      "_lsprof             dateutil            numbers             terminado\n",
      "_lzma               dbi                 numexpr             test\n",
      "_markupbase         dbm                 numpy               test_pycosat\n",
      "_md5                dde                 numpydoc            text_unidecode\n",
      "_msi                debugpy             odbc                textdistance\n",
      "_multibytecodec     decimal             opcode              textwrap\n",
      "_multiprocessing    decorator           openpyxl            this\n",
      "_nsis               defusedxml          operator            threading\n",
      "_opcode             diff_match_patch    optparse            threadpoolctl\n",
      "_operator           difflib             os                  three_merge\n",
      "_osx_support        dill                overrides           tifffile\n",
      "_overlapped         dis                 packaging           time\n",
      "_pickle             distributed         pandas              timeit\n",
      "_plotly_future_     distro              pandocfilters       timer\n",
      "_plotly_utils       docstring_to_markdown panel               tinycss2\n",
      "_py_abc             doctest             param               tkinter\n",
      "_pydatetime         docutils            paramiko            tldextract\n",
      "_pydecimal          dotenv              parsel              tlz\n",
      "_pyio               email               parso               token\n",
      "_pylong             encodings           partd               tokenize\n",
      "_pytest             ensurepip           pathlib             toml\n",
      "_queue              entrypoints         pathspec            tomli\n",
      "_random             enum                patsy               tomlkit\n",
      "_sha1               erfa                pdb                 tomllib\n",
      "_sha2               errno               perfmon             toolz\n",
      "_sha3               et_xmlfile          pexpect             tornado\n",
      "_signal             executing           pickle              tqdm\n",
      "_sitebuiltins       fastjsonschema      pickleshare         trace\n",
      "_socket             faulthandler        pickletools         traceback\n",
      "_sqlite3            filecmp             pip                 tracemalloc\n",
      "_sre                fileinput           pipes               traitlets\n",
      "_ssl                filelock            pkce                truststore\n",
      "_stat               flake8              pkg_resources       tty\n",
      "_statistics         flask               pkginfo             turtle\n",
      "_string             fnmatch             pkgutil             turtledemo\n",
      "_strptime           fontTools           platform            twisted\n",
      "_struct             fractions           platformdirs        types\n",
      "_symtable           frozendict          plistlib            typing\n",
      "_system_path        frozenlist          plotly              typing_extensions\n",
      "_testbuffer         fsspec              pluggy              tzdata\n",
      "_testcapi           ftplib              ply                 uc_micro\n",
      "_testclinic         functools           poplib              ujson\n",
      "_testconsole        gc                  posixpath           unicodedata\n",
      "_testimportmultiple genericpath         pprint              unicodedata2\n",
      "_testinternalcapi   gensim              profile             unidecode\n",
      "_testmultiphase     getopt              prometheus_client   unittest\n",
      "_testsinglephase    getpass             prompt_toolkit      urllib\n",
      "_thread             gettext             protego             urllib3\n",
      "_threading_local    git                 pstats              uu\n",
      "_tkinter            gitdb               psutil              uuid\n",
      "_tokenize           glob                pty                 venv\n",
      "_tracemalloc        graphlib            ptyprocess          w3lib\n",
      "_typing             greenlet            pure_eval           warnings\n",
      "_uuid               gzip                py                  watchdog\n",
      "_warnings           h11                 py_compile          wave\n",
      "_weakref            h5py                pyarrow             wcwidth\n",
      "_weakrefset         hashlib             pyasn1              weakref\n",
      "_win32sysloader     heapdict            pyasn1_modules      webbrowser\n",
      "_winapi             heapq               pyclbr              webencodings\n",
      "_winxptheme         hmac                pycodestyle         websocket\n",
      "_wmi                holoviews           pycosat             werkzeug\n",
      "_xxinterpchannels   html                pycparser           whatthepatch\n",
      "_xxsubinterpreters  http                pyct                wheel\n",
      "_yaml               httpcore            pycurl              widgetsnbextension\n",
      "_zoneinfo           httpx               pydantic            win2kras\n",
      "abc                 hvplot              pydantic_core       win32api\n",
      "adodbapi            hyperlink           pydeck              win32clipboard\n",
      "aext_assistant      idlelib             pydispatch          win32com\n",
      "aext_assistant_server idna                pydoc               win32con\n",
      "aext_core           imagecodecs         pydoc_data          win32console\n",
      "aext_core_server    imageio             pydocstyle          win32cred\n",
      "aext_panels         imagesize           pyexpat             win32crypt\n",
      "aext_panels_server  imaplib             pyflakes            win32cryptcon\n",
      "aext_share_notebook imblearn            pygments            win32ctypes\n",
      "aext_share_notebook_server imghdr              pylab               win32event\n",
      "aext_shared         importlib           pylint              win32evtlog\n",
      "afxres              importlib_metadata  pylint_venv         win32evtlogutil\n",
      "aifc                incremental         pyls_spyder         win32file\n",
      "aiobotocore         inflection          pylsp               win32gui\n",
      "aiohttp             iniconfig           pylsp_black         win32gui_struct\n",
      "aioitertools        inspect             pylsp_jsonrpc       win32help\n",
      "aiosignal           intake              pyodbc              win32inet\n",
      "alabaster           intervaltree        pyparsing           win32inetcon\n",
      "altair              io                  pytest              win32job\n",
      "anaconda_anon_usage ipaddress           pythoncom           win32lz\n",
      "anaconda_catalogs   ipykernel           pythonjsonlogger    win32net\n",
      "anaconda_cloud_auth ipykernel_launcher  pytoolconfig        win32netcon\n",
      "anaconda_navigator  ipython_genutils    pytz                win32pdh\n",
      "anaconda_project    ipywidgets          pyviz_comms         win32pdhquery\n",
      "annotated_types     isapi               pywin               win32pdhutil\n",
      "antigravity         isort               pywin32_bootstrap   win32pipe\n",
      "anyio               isympy              pywin32_testutil    win32print\n",
      "appdirs             itemadapter         pywintypes          win32process\n",
      "archspec            itemloaders         pywt                win32profile\n",
      "argon2              itertools           qdarkstyle          win32ras\n",
      "argparse            itsdangerous        qstylizer           win32rcparser\n",
      "array               jedi                qtawesome           win32security\n",
      "arrow               jellyfish           qtconsole           win32service\n",
      "ast                 jinja2              qtpy                win32serviceutil\n",
      "astroid             jmespath            queue               win32timezone\n",
      "astropy             joblib              queuelib            win32trace\n",
      "astropy_iers_data   json                quopri              win32traceutil\n",
      "asttokens           json5               random              win32transaction\n",
      "async_lru           jsonpatch           rasutil             win32ts\n",
      "asyncio             jsonpointer         re                  win32ui\n",
      "atexit              jsonschema          referencing         win32uiole\n",
      "atomicwrites        jsonschema_specifications regcheck            win32verstamp\n",
      "attr                jupyter             regex               win32wnet\n",
      "attrs               jupyter_client      regutil             win_inet_pton\n",
      "audioop             jupyter_console     repo_cli            winerror\n",
      "automat             jupyter_core        reprlib             winioctlcon\n",
      "autopep8            jupyter_events      requests            winnt\n",
      "babel               jupyter_lsp         requests_file       winperf\n",
      "base64              jupyter_server      requests_toolbelt   winpty\n",
      "bcrypt              jupyter_server_terminals rfc3339_validator   winreg\n",
      "bdb                 jupyterlab          rfc3986_validator   winsound\n",
      "binaryornot         jupyterlab_plotly   rich                winxpgui\n",
      "binascii            jupyterlab_pygments rlcompleter         winxptheme\n",
      "binstar_client      jupyterlab_server   rope                wrapt\n",
      "bisect              jupyterlab_widgets  rpds                wsgiref\n",
      "black               jwt                 rtree               xarray\n",
      "blackd              keyring             ruamel_yaml         xdrlib\n",
      "bleach              keyword             runpy               xlwings\n",
      "blib2to3            kiwisolver          s3fs                xlwingsjs\n",
      "blinker             lazy_loader         sched               xml\n",
      "bokeh               lazy_object_proxy   scipy               xmlrpc\n",
      "boltons             lckr_jupyterlab_variableinspector scrapy              xxlimited\n",
      "botocore            lib2to3             seaborn             xxlimited_35\n",
      "bottleneck          libarchive          secrets             xxsubtype\n",
      "brotli              libmambapy          select              xyzservices\n",
      "bs4                 lief                selectors           yaml\n",
      "builtins            linecache           semver              yapf\n",
      "bz2                 linkify_it          send2trash          yapf_third_party\n",
      "cProfile            llvmlite            service_identity    yapftests\n",
      "cachetools          lmdb                servicemanager      yarl\n",
      "calendar            locale              setuptools          zict\n",
      "certifi             locket              shelve              zipapp\n",
      "cffi                logging             shlex               zipfile\n",
      "cgi                 lxml                shutil              zipimport\n",
      "cgitb               lz4                 signal              zipp\n",
      "chardet             lzma                sipbuild            zlib\n",
      "charset_normalizer  mailbox             site                zmq\n",
      "chunk               mailcap             six                 zoneinfo\n",
      "click               markdown            skimage             zope\n",
      "cloudpickle         markdown_it         sklearn             zstandard\n",
      "cmath               markupsafe          slugify             \n",
      "cmd                 marshal             smart_open          \n",
      "\n",
      "Enter any module name to get more help.  Or, type \"modules spam\" to search\n",
      "for modules whose name or summary contain the string \"spam\".\n",
      "\n"
     ]
    }
   ],
   "source": [
    "help('modules')"
   ]
  },
  {
   "cell_type": "markdown",
   "id": "41081782-4ad8-4eff-afc5-3fe79b51a105",
   "metadata": {},
   "source": [
    "# Loops \n",
    "1. for loop\n",
    "2. nested for loop\n",
    "3. while loop\n",
    "4. nested while loop"
   ]
  },
  {
   "cell_type": "code",
   "execution_count": 29,
   "id": "9e212c0f-7489-450e-9fce-8e7035d350d4",
   "metadata": {},
   "outputs": [
    {
     "ename": "SyntaxError",
     "evalue": "invalid syntax (2508162945.py, line 3)",
     "output_type": "error",
     "traceback": [
      "\u001b[1;36m  Cell \u001b[1;32mIn[29], line 3\u001b[1;36m\u001b[0m\n\u001b[1;33m    int i =1\u001b[0m\n\u001b[1;37m        ^\u001b[0m\n\u001b[1;31mSyntaxError\u001b[0m\u001b[1;31m:\u001b[0m invalid syntax\n"
     ]
    }
   ],
   "source": [
    "# Using while loop print table\n",
    "number =int(input(\"Enter number\"))\n",
    "int i =1\n",
    "while(i<11)\n",
    "{\n",
    "    print(i*number)\n",
    "    i+=1;\n",
    "}\n",
    "            "
   ]
  },
  {
   "cell_type": "code",
   "execution_count": 31,
   "id": "5b1e5707-007a-4701-8bcc-ddecc8d0c7c5",
   "metadata": {},
   "outputs": [
    {
     "ename": "IndentationError",
     "evalue": "unexpected indent (1807291090.py, line 3)",
     "output_type": "error",
     "traceback": [
      "\u001b[1;36m  Cell \u001b[1;32mIn[31], line 3\u001b[1;36m\u001b[0m\n\u001b[1;33m    i =1\u001b[0m\n\u001b[1;37m    ^\u001b[0m\n\u001b[1;31mIndentationError\u001b[0m\u001b[1;31m:\u001b[0m unexpected indent\n"
     ]
    }
   ],
   "source": [
    "# Using while loop print table\n",
    "number =int(input(\"Enter number\"))\n",
    " i =1\n",
    "while(i<11)\n",
    "{\n",
    "    print(i*number)\n",
    "    i+=1;\n",
    "}"
   ]
  },
  {
   "cell_type": "code",
   "execution_count": 33,
   "id": "319f3212-7fb4-41ea-9bf6-e3272ea1de62",
   "metadata": {},
   "outputs": [
    {
     "ename": "SyntaxError",
     "evalue": "expected ':' (2416712405.py, line 4)",
     "output_type": "error",
     "traceback": [
      "\u001b[1;36m  Cell \u001b[1;32mIn[33], line 4\u001b[1;36m\u001b[0m\n\u001b[1;33m    while(i<11)\u001b[0m\n\u001b[1;37m               ^\u001b[0m\n\u001b[1;31mSyntaxError\u001b[0m\u001b[1;31m:\u001b[0m expected ':'\n"
     ]
    }
   ],
   "source": [
    "# Using while loop print table\n",
    "number =int(input(\"Enter number\"))\n",
    "i =1\n",
    "while(i<11)\n",
    "{\n",
    "    print(i*number)\n",
    "    i+=1;\n",
    "}"
   ]
  },
  {
   "cell_type": "code",
   "execution_count": 39,
   "id": "e9ef65ea-d113-44c0-a94a-9971a7c9533b",
   "metadata": {},
   "outputs": [
    {
     "ename": "SyntaxError",
     "evalue": "expected ':' (2416712405.py, line 4)",
     "output_type": "error",
     "traceback": [
      "\u001b[1;36m  Cell \u001b[1;32mIn[39], line 4\u001b[1;36m\u001b[0m\n\u001b[1;33m    while(i<11)\u001b[0m\n\u001b[1;37m               ^\u001b[0m\n\u001b[1;31mSyntaxError\u001b[0m\u001b[1;31m:\u001b[0m expected ':'\n"
     ]
    }
   ],
   "source": [
    "# Using while loop print table\n",
    "number =int(input(\"Enter number\"))\n",
    "i =1\n",
    "while(i<11)\n",
    "{\n",
    "    print(i*number)\n",
    "    i+=1;\n",
    "}"
   ]
  },
  {
   "cell_type": "code",
   "execution_count": 47,
   "id": "36f5a095-5943-49f8-b260-eb036827b246",
   "metadata": {},
   "outputs": [
    {
     "ename": "SyntaxError",
     "evalue": "invalid syntax. Perhaps you forgot a comma? (2292423845.py, line 6)",
     "output_type": "error",
     "traceback": [
      "\u001b[1;36m  Cell \u001b[1;32mIn[47], line 6\u001b[1;36m\u001b[0m\n\u001b[1;33m    print(i*number)\u001b[0m\n\u001b[1;37m    ^\u001b[0m\n\u001b[1;31mSyntaxError\u001b[0m\u001b[1;31m:\u001b[0m invalid syntax. Perhaps you forgot a comma?\n"
     ]
    }
   ],
   "source": [
    "# Using while loop print table\n",
    "number =int(input(\"Enter number\"))\n",
    "i =1\n",
    "while(i<11):{\n",
    "\n",
    "    print(i*number)\n",
    "    i+=1;\n",
    "}"
   ]
  },
  {
   "cell_type": "code",
   "execution_count": 45,
   "id": "9ae2ccf3-1824-4c0d-b045-0b9c88724ebf",
   "metadata": {},
   "outputs": [
    {
     "name": "stdin",
     "output_type": "stream",
     "text": [
      "Enter number 5\n"
     ]
    },
    {
     "name": "stdout",
     "output_type": "stream",
     "text": [
      "5\n",
      "10\n",
      "15\n",
      "20\n",
      "25\n",
      "30\n",
      "35\n",
      "40\n",
      "45\n",
      "50\n"
     ]
    }
   ],
   "source": [
    "# Using while loop print table\n",
    "number =int(input(\"Enter number\"))\n",
    "i =1\n",
    "while(i<11):\n",
    "\n",
    "    print(i*number)\n",
    "    i+=1;\n"
   ]
  },
  {
   "cell_type": "code",
   "execution_count": 49,
   "id": "d647b6bb-32c8-4437-ba6b-7d99aa69bacd",
   "metadata": {},
   "outputs": [
    {
     "name": "stdin",
     "output_type": "stream",
     "text": [
      "Enter the nubmer 5\n"
     ]
    },
    {
     "name": "stdout",
     "output_type": "stream",
     "text": [
      "5 * 1 = 5\n",
      "5 * 2 = 10\n",
      "5 * 3 = 15\n",
      "5 * 4 = 20\n",
      "5 * 5 = 25\n",
      "5 * 6 = 30\n",
      "5 * 7 = 35\n",
      "5 * 8 = 40\n",
      "5 * 9 = 45\n",
      "5 * 10 = 50\n"
     ]
    }
   ],
   "source": [
    "number = int(input('Enter the nubmer'))\n",
    "i =1\n",
    "while i<11:\n",
    "    print(number, '*', i,'=',number*i)\n",
    "    i+=1;"
   ]
  },
  {
   "cell_type": "code",
   "execution_count": 51,
   "id": "858d7e30-50a9-487b-bcc5-8699b511a417",
   "metadata": {},
   "outputs": [
    {
     "name": "stdout",
     "output_type": "stream",
     "text": [
      "1\n",
      "2\n",
      "Limit crossed\n"
     ]
    }
   ],
   "source": [
    "#while loop with else\n",
    "x =1\n",
    "while x<3:\n",
    "    print(x)\n",
    "    x+=1\n",
    "else:\n",
    "    print('Limit crossed')"
   ]
  },
  {
   "cell_type": "code",
   "execution_count": 53,
   "id": "673ce0d8-b960-4ea6-b609-ccecf25c01de",
   "metadata": {},
   "outputs": [
    {
     "name": "stdin",
     "output_type": "stream",
     "text": [
      "Guess Number 45\n"
     ]
    },
    {
     "name": "stdout",
     "output_type": "stream",
     "text": [
      "wrong! guess higher\n"
     ]
    },
    {
     "name": "stdin",
     "output_type": "stream",
     "text": [
      "Guess Number 60\n"
     ]
    },
    {
     "name": "stdout",
     "output_type": "stream",
     "text": [
      "wrong! guess higher\n"
     ]
    },
    {
     "name": "stdin",
     "output_type": "stream",
     "text": [
      "Guess Number 70\n"
     ]
    },
    {
     "name": "stdout",
     "output_type": "stream",
     "text": [
      "wrong! Guess lesser\n"
     ]
    },
    {
     "name": "stdin",
     "output_type": "stream",
     "text": [
      "Guess Number 65\n"
     ]
    },
    {
     "name": "stdout",
     "output_type": "stream",
     "text": [
      "wrong! guess higher\n"
     ]
    },
    {
     "name": "stdin",
     "output_type": "stream",
     "text": [
      "Guess Number 66\n"
     ]
    },
    {
     "name": "stdout",
     "output_type": "stream",
     "text": [
      "wrong! guess higher\n"
     ]
    },
    {
     "name": "stdin",
     "output_type": "stream",
     "text": [
      "Guess Number 67\n"
     ]
    },
    {
     "name": "stdout",
     "output_type": "stream",
     "text": [
      "wrong! guess higher\n"
     ]
    },
    {
     "name": "stdin",
     "output_type": "stream",
     "text": [
      "Guess Number 68\n"
     ]
    },
    {
     "name": "stdout",
     "output_type": "stream",
     "text": [
      "Correct Guess\n"
     ]
    }
   ],
   "source": [
    "#guessing game\n",
    "#generate a random integer between 1 and 100\n",
    "import random\n",
    "jackpot = random.randint(1,100)\n",
    "guess = int(input('Guess Number'))\n",
    "while guess != jackpot:\n",
    "    \n",
    "    if guess<jackpot:\n",
    "        print('wrong! guess higher')\n",
    "    else:\n",
    "        print('wrong! Guess lesser')\n",
    "    guess = int(input('Guess Number'))\n",
    "else:\n",
    "    print(\"Correct Guess\")\n",
    "    "
   ]
  },
  {
   "cell_type": "code",
   "execution_count": 55,
   "id": "26c840a6-6386-4279-8a54-c8c29b621785",
   "metadata": {},
   "outputs": [
    {
     "name": "stdout",
     "output_type": "stream",
     "text": [
      "1\n",
      "2\n",
      "3\n",
      "4\n",
      "5\n",
      "6\n",
      "7\n",
      "8\n",
      "9\n",
      "10\n"
     ]
    }
   ],
   "source": [
    "for i in range(1,11):\n",
    "    print(i)"
   ]
  },
  {
   "cell_type": "code",
   "execution_count": 57,
   "id": "964a8043-968b-42f8-b1e3-b7ee55ac2c85",
   "metadata": {},
   "outputs": [
    {
     "name": "stdout",
     "output_type": "stream",
     "text": [
      "1\n",
      "3\n",
      "5\n",
      "7\n",
      "9\n",
      "11\n",
      "13\n",
      "15\n",
      "17\n",
      "19\n"
     ]
    }
   ],
   "source": [
    "for i in range(1,20,2):\n",
    "    print(i)"
   ]
  },
  {
   "cell_type": "code",
   "execution_count": 59,
   "id": "ab8044f5-7ae0-4a37-a706-2107410f35f0",
   "metadata": {},
   "outputs": [
    {
     "name": "stdout",
     "output_type": "stream",
     "text": [
      "1\n",
      "2\n",
      "3\n",
      "4\n",
      "5\n"
     ]
    }
   ],
   "source": [
    "# Foor loop demo\n",
    "for i in [1,2,3,4,5]:\n",
    "    print(i)"
   ]
  },
  {
   "cell_type": "markdown",
   "id": "d36aac66-d7b0-41a1-8597-5b4ad3242340",
   "metadata": {},
   "source": [
    "#Program: The current population of a town is 10000. The population \n",
    "of the town is increasing at the rate of 10% per year. you have to\n",
    "write a program to find out the population at end of last 10 years"
   ]
  },
  {
   "cell_type": "code",
   "execution_count": 62,
   "id": "bd74a5fa-00f0-4324-8ec8-d1557760e10f",
   "metadata": {},
   "outputs": [
    {
     "ename": "NameError",
     "evalue": "name 'curr_pop' is not defined",
     "output_type": "error",
     "traceback": [
      "\u001b[1;31m---------------------------------------------------------------------------\u001b[0m",
      "\u001b[1;31mNameError\u001b[0m                                 Traceback (most recent call last)",
      "Cell \u001b[1;32mIn[62], line 2\u001b[0m\n\u001b[0;32m      1\u001b[0m \u001b[38;5;28;01mfor\u001b[39;00m i \u001b[38;5;129;01min\u001b[39;00m \u001b[38;5;28mrange\u001b[39m (\u001b[38;5;241m10\u001b[39m,\u001b[38;5;241m0\u001b[39m,\u001b[38;5;241m-\u001b[39m\u001b[38;5;241m1\u001b[39m):\n\u001b[1;32m----> 2\u001b[0m     \u001b[38;5;28mprint\u001b[39m(i, curr_pop)\n\u001b[0;32m      3\u001b[0m     curr_pop \u001b[38;5;241m=\u001b[39m curr_pop\u001b[38;5;241m/\u001b[39m\u001b[38;5;241m1.1\u001b[39m\n",
      "\u001b[1;31mNameError\u001b[0m: name 'curr_pop' is not defined"
     ]
    }
   ],
   "source": [
    "for i in range (10,0,-1):\n",
    "    print(i, curr_pop)\n",
    "    curr_pop = curr_pop/1.1"
   ]
  },
  {
   "cell_type": "code",
   "execution_count": 64,
   "id": "79c884b7-3b03-4616-98f7-ec055c637953",
   "metadata": {},
   "outputs": [
    {
     "name": "stdout",
     "output_type": "stream",
     "text": [
      "10 10000\n",
      "9 9090.90909090909\n",
      "8 8264.462809917353\n",
      "7 7513.148009015775\n",
      "6 6830.134553650703\n",
      "5 6209.213230591548\n",
      "4 5644.739300537771\n",
      "3 5131.5811823070635\n",
      "2 4665.07380209733\n",
      "1 4240.976183724845\n"
     ]
    }
   ],
   "source": [
    "curr_pop = 10000\n",
    "for i in range(10,0,-1):\n",
    "    print(i, curr_pop)\n",
    "    curr_pop = curr_pop/1.1"
   ]
  },
  {
   "cell_type": "markdown",
   "id": "31de72cb-ae35-4612-b234-8d11959d3a8d",
   "metadata": {},
   "source": [
    "# 1/1! + 2/2! + 3/3! + ...."
   ]
  },
  {
   "cell_type": "code",
   "execution_count": 67,
   "id": "d9b6453b-fd20-4173-bf67-12a47d019582",
   "metadata": {},
   "outputs": [
    {
     "name": "stdin",
     "output_type": "stream",
     "text": [
      "Enter n 5\n"
     ]
    },
    {
     "name": "stdout",
     "output_type": "stream",
     "text": [
      "2.708333333333333\n"
     ]
    }
   ],
   "source": [
    "#code here\n",
    "n = int(input('Enter n'))\n",
    "result =0\n",
    "fact = 1\n",
    "for i in range(1,n+1):\n",
    "    fact =fact*i\n",
    "    result = result + i/fact\n",
    "print(result)\n"
   ]
  },
  {
   "cell_type": "code",
   "execution_count": 69,
   "id": "c9d67cc9-78ee-4855-9513-9c2e1a7cd79d",
   "metadata": {},
   "outputs": [
    {
     "ename": "SyntaxError",
     "evalue": "expected ':' (4190323218.py, line 1)",
     "output_type": "error",
     "traceback": [
      "\u001b[1;36m  Cell \u001b[1;32mIn[69], line 1\u001b[1;36m\u001b[0m\n\u001b[1;33m    for i in range(1,5)\u001b[0m\n\u001b[1;37m                       ^\u001b[0m\n\u001b[1;31mSyntaxError\u001b[0m\u001b[1;31m:\u001b[0m expected ':'\n"
     ]
    }
   ],
   "source": [
    "for i in range(1,5)"
   ]
  },
  {
   "cell_type": "code",
   "execution_count": 71,
   "id": "934f1e2f-3e50-4de6-9379-6fb844626579",
   "metadata": {},
   "outputs": [
    {
     "name": "stdout",
     "output_type": "stream",
     "text": [
      "1\n",
      "2\n",
      "3\n",
      "4\n"
     ]
    }
   ],
   "source": [
    "for i in range(1,5):\n",
    "    print(i)"
   ]
  },
  {
   "cell_type": "code",
   "execution_count": 73,
   "id": "6b60d051-c6ac-4d2b-a037-390b7fab54c1",
   "metadata": {},
   "outputs": [
    {
     "name": "stdout",
     "output_type": "stream",
     "text": [
      "1 1\n",
      "1 2\n",
      "1 3\n",
      "1 4\n",
      "2 1\n",
      "2 2\n",
      "2 3\n",
      "2 4\n",
      "3 1\n",
      "3 2\n",
      "3 3\n",
      "3 4\n",
      "4 1\n",
      "4 2\n",
      "4 3\n",
      "4 4\n"
     ]
    }
   ],
   "source": [
    "for i in range(1,5):\n",
    "    for j in range(1,5):\n",
    "        print(i,j)"
   ]
  },
  {
   "cell_type": "code",
   "execution_count": 75,
   "id": "59da94c6-b9bf-4250-982e-91975c68e6c9",
   "metadata": {},
   "outputs": [
    {
     "name": "stdout",
     "output_type": "stream",
     "text": [
      "1 1\n",
      "1 2\n",
      "1 3\n",
      "1 4\n",
      "\n",
      "2 1\n",
      "2 2\n",
      "2 3\n",
      "2 4\n",
      "\n",
      "3 1\n",
      "3 2\n",
      "3 3\n",
      "3 4\n",
      "\n",
      "4 1\n",
      "4 2\n",
      "4 3\n",
      "4 4\n",
      "\n"
     ]
    }
   ],
   "source": [
    "for i in range(1,5):\n",
    "    for j in range(1,5):\n",
    "        print(i,j)\n",
    "    print()"
   ]
  },
  {
   "cell_type": "code",
   "execution_count": 77,
   "id": "e5fbd2fe-1a44-4776-a755-ed9707ffce7d",
   "metadata": {},
   "outputs": [
    {
     "name": "stdout",
     "output_type": "stream",
     "text": [
      "1 11 21 31 4\n",
      "2 12 22 32 4\n",
      "3 13 23 33 4\n",
      "4 14 24 34 4\n"
     ]
    }
   ],
   "source": [
    "for i in range(1,5):\n",
    "    for j in range(1,5):\n",
    "        print(i,j,end = '')\n",
    "    print()"
   ]
  },
  {
   "cell_type": "code",
   "execution_count": null,
   "id": "19f05285-e22b-415f-b723-ca9f2131963c",
   "metadata": {},
   "outputs": [],
   "source": []
  },
  {
   "cell_type": "markdown",
   "id": "d24a2891-ec65-455b-930e-85891b168a6c",
   "metadata": {},
   "source": [
    "# pattern \n",
    "\n",
    "*\n",
    "**\n",
    "***\n",
    "*****"
   ]
  },
  {
   "cell_type": "code",
   "execution_count": 86,
   "id": "ba7a7324-1d53-4cfd-a45a-f0011bbfbbdf",
   "metadata": {},
   "outputs": [
    {
     "ename": "SyntaxError",
     "evalue": "invalid syntax (1745192224.py, line 4)",
     "output_type": "error",
     "traceback": [
      "\u001b[1;36m  Cell \u001b[1;32mIn[86], line 4\u001b[1;36m\u001b[0m\n\u001b[1;33m    forj in range(1,i+1):\u001b[0m\n\u001b[1;37m                        ^\u001b[0m\n\u001b[1;31mSyntaxError\u001b[0m\u001b[1;31m:\u001b[0m invalid syntax\n"
     ]
    }
   ],
   "source": [
    "# code here \n",
    "rows = int(input('Enter number of rows'))\n",
    "for i in range(1,rows+1):\n",
    "    forj in range(1,i+1):\n",
    "        print('*',end =' ')\n",
    "    print()\n"
   ]
  },
  {
   "cell_type": "code",
   "execution_count": 88,
   "id": "7bc73df3-d590-4a9a-adfe-772409f954aa",
   "metadata": {},
   "outputs": [
    {
     "name": "stdout",
     "output_type": "stream",
     "text": [
      "1 11 21 31 4\n",
      "2 12 22 32 4\n",
      "3 13 23 33 4\n",
      "4 14 24 34 4\n"
     ]
    }
   ],
   "source": [
    "for i in range(1,5):\n",
    "    for j in range(1,5):\n",
    "        print(i,j,end = '')\n",
    "    print()"
   ]
  },
  {
   "cell_type": "code",
   "execution_count": 90,
   "id": "33a8187d-c8c3-4cc0-9618-32ddb5cb38fe",
   "metadata": {},
   "outputs": [
    {
     "name": "stdin",
     "output_type": "stream",
     "text": [
      "Enter number of rows 5\n"
     ]
    },
    {
     "name": "stdout",
     "output_type": "stream",
     "text": [
      "* \n",
      "* * \n",
      "* * * \n",
      "* * * * \n",
      "* * * * * \n"
     ]
    }
   ],
   "source": [
    "# code here \n",
    "rows = int(input('Enter number of rows'))\n",
    "for i in range(1,rows+1):\n",
    "    for j in range(1,i+1):\n",
    "        print('*',end =' ')\n",
    "    print()\n"
   ]
  },
  {
   "cell_type": "markdown",
   "id": "13cd57d1-8f35-4b15-8c58-e34738244e10",
   "metadata": {},
   "source": [
    "# \n",
    "1\n",
    "\n",
    "12\n",
    "\n",
    "123\n",
    "\n",
    "1234\n",
    "\n",
    "12345\n"
   ]
  },
  {
   "cell_type": "code",
   "execution_count": 96,
   "id": "3f81d499-fc97-4ae0-a8d3-1fa403735d55",
   "metadata": {},
   "outputs": [
    {
     "name": "stdin",
     "output_type": "stream",
     "text": [
      "Enter number of rows 5\n"
     ]
    },
    {
     "name": "stdout",
     "output_type": "stream",
     "text": [
      "1\n",
      "12\n",
      "123\n",
      "1234\n",
      "12345\n"
     ]
    }
   ],
   "source": [
    "rows =int(input('Enter number of rows'))\n",
    "for i in range(1,rows+1):\n",
    "    for j in range(1, i+1):\n",
    "        print(j,end ='')\n",
    "    print()"
   ]
  },
  {
   "cell_type": "code",
   "execution_count": null,
   "id": "a3abad73-3553-4bb1-bbe6-89f2bc251210",
   "metadata": {},
   "outputs": [],
   "source": []
  },
  {
   "cell_type": "markdown",
   "id": "4e7b505b-b1b2-4eb3-8d77-ad37b88d952e",
   "metadata": {},
   "source": [
    "#pattern\n",
    "\n",
    "1\n",
    "\n",
    "121\n",
    "\n",
    "12321\n",
    "\n",
    "1234321\n"
   ]
  },
  {
   "cell_type": "code",
   "execution_count": 11,
   "id": "4252f821-f565-412b-8b54-52440c08f257",
   "metadata": {},
   "outputs": [
    {
     "name": "stdin",
     "output_type": "stream",
     "text": [
      "Enter number of rows 5\n"
     ]
    },
    {
     "name": "stdout",
     "output_type": "stream",
     "text": [
      "1\n",
      "121\n",
      "12321\n",
      "1234321\n",
      "123454321\n"
     ]
    }
   ],
   "source": [
    "#code here\n",
    "rows = int(input('Enter number of rows'))\n",
    "for i in range(1,rows+1):\n",
    "    for j in range(1,i+1):\n",
    "        print(j, end='')\n",
    "    for k in range(i-1,0,-1):\n",
    "        print(k,end='')\n",
    "    print()"
   ]
  },
  {
   "cell_type": "markdown",
   "id": "a5e83368-5526-43ba-be7e-6768f66dde5d",
   "metadata": {},
   "source": [
    "# LOOP CONTROL STATEMENT\n",
    "* break\n",
    "  \n",
    "* continue\n",
    "* pass"
   ]
  },
  {
   "cell_type": "code",
   "execution_count": null,
   "id": "83d0fa42-690f-4163-87fe-3f80fc1d1d2e",
   "metadata": {},
   "outputs": [],
   "source": []
  },
  {
   "cell_type": "code",
   "execution_count": 14,
   "id": "94464b1f-4c40-40ef-8763-d66775f8ba53",
   "metadata": {},
   "outputs": [
    {
     "name": "stdout",
     "output_type": "stream",
     "text": [
      "1\n",
      "2\n",
      "3\n",
      "4\n"
     ]
    }
   ],
   "source": [
    "for i in range(1,10):\n",
    "    if i==5:\n",
    "        break\n",
    "    print(i)"
   ]
  },
  {
   "cell_type": "markdown",
   "id": "df180946-472e-4ab2-a31f-63af992d3ec7",
   "metadata": {},
   "source": [
    "# print the range of prime number"
   ]
  },
  {
   "cell_type": "code",
   "execution_count": 19,
   "id": "31d9caa6-3002-4e5a-a866-bc083bfc9049",
   "metadata": {},
   "outputs": [
    {
     "name": "stdin",
     "output_type": "stream",
     "text": [
      "Enter lower range 1\n",
      "Enter upper range 100\n"
     ]
    },
    {
     "name": "stdout",
     "output_type": "stream",
     "text": [
      "2\n",
      "3\n",
      "5\n",
      "7\n",
      "11\n",
      "13\n",
      "17\n",
      "19\n",
      "23\n",
      "29\n",
      "31\n",
      "37\n",
      "41\n",
      "43\n",
      "47\n",
      "53\n",
      "59\n",
      "61\n",
      "67\n",
      "71\n",
      "73\n",
      "79\n",
      "83\n",
      "89\n",
      "97\n"
     ]
    }
   ],
   "source": [
    "lower = int(input('Enter lower range'))\n",
    "upper = int(input('Enter upper range'))\n",
    "for i in range(lower,upper+1):\n",
    "    if i > 1:  # Prime numbers are greater than 1\n",
    "        for j in range(2,i):\n",
    "            if i%j == 0:\n",
    "                break\n",
    "        else:\n",
    "            print(i)"
   ]
  },
  {
   "cell_type": "code",
   "execution_count": 21,
   "id": "36eb1ec1-64eb-436b-8604-48bda9a87f50",
   "metadata": {},
   "outputs": [
    {
     "name": "stdout",
     "output_type": "stream",
     "text": [
      "1\n",
      "2\n",
      "3\n",
      "4\n",
      "6\n",
      "7\n",
      "8\n",
      "9\n"
     ]
    }
   ],
   "source": [
    "# CONTINUE\n",
    "for i in range(1,10):\n",
    "    if i ==5:\n",
    "        continue\n",
    "    print(i)"
   ]
  },
  {
   "cell_type": "code",
   "execution_count": 23,
   "id": "d9aa3864-5100-48d4-b072-6e244840dff3",
   "metadata": {},
   "outputs": [
    {
     "ename": "SyntaxError",
     "evalue": "expected ':' (182340526.py, line 1)",
     "output_type": "error",
     "traceback": [
      "\u001b[1;36m  Cell \u001b[1;32mIn[23], line 1\u001b[1;36m\u001b[0m\n\u001b[1;33m    for i in range(1,10)\u001b[0m\n\u001b[1;37m                        ^\u001b[0m\n\u001b[1;31mSyntaxError\u001b[0m\u001b[1;31m:\u001b[0m expected ':'\n"
     ]
    }
   ],
   "source": [
    "for i in range(1,10)"
   ]
  },
  {
   "cell_type": "code",
   "execution_count": 25,
   "id": "6185b152-5cff-4be9-bb15-22b99957f572",
   "metadata": {},
   "outputs": [
    {
     "ename": "SyntaxError",
     "evalue": "incomplete input (4054113036.py, line 1)",
     "output_type": "error",
     "traceback": [
      "\u001b[1;36m  Cell \u001b[1;32mIn[25], line 1\u001b[1;36m\u001b[0m\n\u001b[1;33m    for i in range(1,10):\u001b[0m\n\u001b[1;37m                         ^\u001b[0m\n\u001b[1;31mSyntaxError\u001b[0m\u001b[1;31m:\u001b[0m incomplete input\n"
     ]
    }
   ],
   "source": [
    "for i in range(1,10):"
   ]
  },
  {
   "cell_type": "code",
   "execution_count": 29,
   "id": "3708dbf5-ff96-4136-a1a0-9278ac97991a",
   "metadata": {},
   "outputs": [],
   "source": [
    "for i in range(1,10):\n",
    "    pass"
   ]
  },
  {
   "cell_type": "markdown",
   "id": "cc98bae4-9bd6-4b8b-b4ce-3f9ce6598de8",
   "metadata": {},
   "source": [
    "# String are sequence of characters\n",
    "In python specially string are a sequence of Uniciode Characters\n",
    "* Creating Strings\n",
    "* Accessing Strings\n",
    "* Adding Chars to Strings\n",
    "* Editing Strings\n",
    "* Deleting Strings\n",
    "* Operations on strings\n",
    "* String Functions"
   ]
  },
  {
   "cell_type": "code",
   "execution_count": 35,
   "id": "d74126fe-0ecb-4acd-ace0-189dbf2c22a4",
   "metadata": {},
   "outputs": [
    {
     "name": "stdout",
     "output_type": "stream",
     "text": [
      "hello\n"
     ]
    }
   ],
   "source": [
    "s = 'Hello'\n",
    "s1 =\"Hello\"\n",
    "# multiple strings\n",
    "s = '''hello'''\n",
    "s1 = \"\"\"hello\"\"\"\n",
    "print(s)"
   ]
  },
  {
   "cell_type": "code",
   "execution_count": 37,
   "id": "85e02b4e-fc16-4098-b623-9a49b042911c",
   "metadata": {},
   "outputs": [
    {
     "data": {
      "text/plain": [
       "\"It's raining outside\""
      ]
     },
     "execution_count": 37,
     "metadata": {},
     "output_type": "execute_result"
    }
   ],
   "source": [
    "\"It's raining outside\""
   ]
  },
  {
   "cell_type": "markdown",
   "id": "ca1898b3-118d-45b3-9df3-dc548d9872c4",
   "metadata": {},
   "source": [
    "# Accessing Substring from a string\n"
   ]
  },
  {
   "cell_type": "code",
   "execution_count": 40,
   "id": "2546c4f7-535d-4c0c-91de-98327ce2aa0e",
   "metadata": {},
   "outputs": [
    {
     "name": "stdout",
     "output_type": "stream",
     "text": [
      "Hello World\n"
     ]
    }
   ],
   "source": [
    "# Positive Indexing\n",
    "s ='Hello World'\n",
    "print(s)"
   ]
  },
  {
   "cell_type": "code",
   "execution_count": 42,
   "id": "89b52420-fbac-411f-86ed-ddf42bb20232",
   "metadata": {},
   "outputs": [
    {
     "ename": "SyntaxError",
     "evalue": "closing parenthesis ')' does not match opening parenthesis '[' (4126986358.py, line 3)",
     "output_type": "error",
     "traceback": [
      "\u001b[1;36m  Cell \u001b[1;32mIn[42], line 3\u001b[1;36m\u001b[0m\n\u001b[1;33m    print(s[41)\u001b[0m\n\u001b[1;37m              ^\u001b[0m\n\u001b[1;31mSyntaxError\u001b[0m\u001b[1;31m:\u001b[0m closing parenthesis ')' does not match opening parenthesis '['\n"
     ]
    }
   ],
   "source": [
    "# Positive Indexing\n",
    "s ='Hello World'\n",
    "print(s[41)"
   ]
  },
  {
   "cell_type": "code",
   "execution_count": 44,
   "id": "eab6f552-4de9-4703-bdca-b56d7083ecd0",
   "metadata": {},
   "outputs": [
    {
     "name": "stdout",
     "output_type": "stream",
     "text": [
      "o\n"
     ]
    }
   ],
   "source": [
    "# Positive Indexing\n",
    "s ='Hello World'\n",
    "print(s[4])"
   ]
  },
  {
   "cell_type": "code",
   "execution_count": 46,
   "id": "7c8b96f9-fc1c-4c30-b283-0fa50071ab5f",
   "metadata": {},
   "outputs": [
    {
     "name": "stdout",
     "output_type": "stream",
     "text": [
      "l\n"
     ]
    }
   ],
   "source": [
    "# Negative Indexing\n",
    "s ='Hello World'\n",
    "print(s[-2])"
   ]
  },
  {
   "cell_type": "code",
   "execution_count": 48,
   "id": "e7dcef63-1209-4064-a46c-19f98e53d5c7",
   "metadata": {},
   "outputs": [
    {
     "name": "stdout",
     "output_type": "stream",
     "text": [
      "l\n"
     ]
    }
   ],
   "source": [
    "# Slicing\n",
    "s = 'hello world'\n",
    "print(s[2:3])"
   ]
  },
  {
   "cell_type": "code",
   "execution_count": 50,
   "id": "7ff49c08-808d-4d8f-a49e-3d0b41e52a65",
   "metadata": {},
   "outputs": [
    {
     "name": "stdout",
     "output_type": "stream",
     "text": [
      "ll\n"
     ]
    }
   ],
   "source": [
    "# Slicing\n",
    "s = 'hello world'\n",
    "print(s[2:4])"
   ]
  },
  {
   "cell_type": "code",
   "execution_count": 54,
   "id": "17e87889-1c27-4f00-b96c-b880f35b700b",
   "metadata": {},
   "outputs": [
    {
     "name": "stdout",
     "output_type": "stream",
     "text": [
      "hlo\n"
     ]
    }
   ],
   "source": [
    "# Slicing\n",
    "s = 'hello world'\n",
    "print(s[0:6:2])  #printing the gap of one"
   ]
  },
  {
   "cell_type": "code",
   "execution_count": 56,
   "id": "a93a844d-7af4-4be1-aa60-60c92020c2b7",
   "metadata": {},
   "outputs": [
    {
     "name": "stdout",
     "output_type": "stream",
     "text": [
      "\n"
     ]
    }
   ],
   "source": [
    "# Slicing\n",
    "s = 'hello world'\n",
    "print(s[0:6:-1])"
   ]
  },
  {
   "cell_type": "code",
   "execution_count": 58,
   "id": "826b1264-2eb0-4691-a002-800b69784f37",
   "metadata": {},
   "outputs": [
    {
     "name": "stdout",
     "output_type": "stream",
     "text": [
      "w olle\n"
     ]
    }
   ],
   "source": [
    "# Slicing\n",
    "s = 'hello world'\n",
    "print(s[6:0:-1])"
   ]
  },
  {
   "cell_type": "code",
   "execution_count": 62,
   "id": "6cd3311c-1a7a-44fd-ae35-ae9108a54373",
   "metadata": {},
   "outputs": [
    {
     "ename": "SyntaxError",
     "evalue": "invalid syntax (4213710123.py, line 3)",
     "output_type": "error",
     "traceback": [
      "\u001b[1;36m  Cell \u001b[1;32mIn[62], line 3\u001b[1;36m\u001b[0m\n\u001b[1;33m    print(s[::-1]) //printing reversed the string\u001b[0m\n\u001b[1;37m                              ^\u001b[0m\n\u001b[1;31mSyntaxError\u001b[0m\u001b[1;31m:\u001b[0m invalid syntax\n"
     ]
    }
   ],
   "source": [
    "# Slicing\n",
    "s = 'hello world'\n",
    "print(s[::-1]) //printing reversed the string"
   ]
  },
  {
   "cell_type": "code",
   "execution_count": 64,
   "id": "24c7504d-c274-487b-95b6-63fe1fcf4228",
   "metadata": {},
   "outputs": [
    {
     "name": "stdout",
     "output_type": "stream",
     "text": [
      "dlrow olleh\n"
     ]
    }
   ],
   "source": [
    "# Slicing\n",
    "s = 'hello world'\n",
    "print(s[::-1]) #printing reversed the string"
   ]
  },
  {
   "cell_type": "code",
   "execution_count": 66,
   "id": "3d9b2f2d-0af2-4535-a68a-015cc50cb38d",
   "metadata": {},
   "outputs": [
    {
     "ename": "SyntaxError",
     "evalue": "invalid syntax (1955677191.py, line 2)",
     "output_type": "error",
     "traceback": [
      "\u001b[1;36m  Cell \u001b[1;32mIn[66], line 2\u001b[1;36m\u001b[0m\n\u001b[1;33m    print(-1:-6:-1)\u001b[0m\n\u001b[1;37m            ^\u001b[0m\n\u001b[1;31mSyntaxError\u001b[0m\u001b[1;31m:\u001b[0m invalid syntax\n"
     ]
    }
   ],
   "source": [
    "s = 'hello world'\n",
    "print(-1:-6:-1)"
   ]
  },
  {
   "cell_type": "code",
   "execution_count": 68,
   "id": "819edaa1-ae09-4200-9ee3-2b714cddf65f",
   "metadata": {},
   "outputs": [
    {
     "name": "stdout",
     "output_type": "stream",
     "text": [
      "dlrow\n"
     ]
    }
   ],
   "source": [
    "s = 'hello world'\n",
    "print(s[-1:-6:-1])"
   ]
  },
  {
   "cell_type": "markdown",
   "id": "7a82e0c3-8dd4-402e-abbd-b58fee26a27e",
   "metadata": {},
   "source": [
    "# Editing and Deleting in Strings"
   ]
  },
  {
   "cell_type": "code",
   "execution_count": 73,
   "id": "fe034eae-35d2-49a8-97bc-9d9ac03b3f55",
   "metadata": {},
   "outputs": [
    {
     "ename": "TypeError",
     "evalue": "'str' object does not support item assignment",
     "output_type": "error",
     "traceback": [
      "\u001b[1;31m---------------------------------------------------------------------------\u001b[0m",
      "\u001b[1;31mTypeError\u001b[0m                                 Traceback (most recent call last)",
      "Cell \u001b[1;32mIn[73], line 2\u001b[0m\n\u001b[0;32m      1\u001b[0m s \u001b[38;5;241m=\u001b[39m \u001b[38;5;124m'\u001b[39m\u001b[38;5;124mhello world\u001b[39m\u001b[38;5;124m'\u001b[39m\n\u001b[1;32m----> 2\u001b[0m s[\u001b[38;5;241m0\u001b[39m] \u001b[38;5;241m=\u001b[39m \u001b[38;5;124m'\u001b[39m\u001b[38;5;124mH\u001b[39m\u001b[38;5;124m'\u001b[39m\n",
      "\u001b[1;31mTypeError\u001b[0m: 'str' object does not support item assignment"
     ]
    }
   ],
   "source": [
    "s = 'hello world'\n",
    "s[0] = 'H' #String immutable"
   ]
  },
  {
   "cell_type": "code",
   "execution_count": 75,
   "id": "76fb2b26-6d4f-41df-b471-d446f95586e1",
   "metadata": {},
   "outputs": [
    {
     "ename": "TypeError",
     "evalue": "'str' object does not support item deletion",
     "output_type": "error",
     "traceback": [
      "\u001b[1;31m---------------------------------------------------------------------------\u001b[0m",
      "\u001b[1;31mTypeError\u001b[0m                                 Traceback (most recent call last)",
      "Cell \u001b[1;32mIn[75], line 2\u001b[0m\n\u001b[0;32m      1\u001b[0m s \u001b[38;5;241m=\u001b[39m \u001b[38;5;124m'\u001b[39m\u001b[38;5;124mhello world\u001b[39m\u001b[38;5;124m'\u001b[39m\n\u001b[1;32m----> 2\u001b[0m \u001b[38;5;28;01mdel\u001b[39;00m s[\u001b[38;5;241m-\u001b[39m\u001b[38;5;241m1\u001b[39m: \u001b[38;5;241m-\u001b[39m\u001b[38;5;241m5\u001b[39m: \u001b[38;5;241m2\u001b[39m]\n\u001b[0;32m      3\u001b[0m \u001b[38;5;28mprint\u001b[39m(s)\n",
      "\u001b[1;31mTypeError\u001b[0m: 'str' object does not support item deletion"
     ]
    }
   ],
   "source": [
    "s = 'hello world'\n",
    "del s[-1: -5: 2]\n",
    "print(s)"
   ]
  },
  {
   "cell_type": "markdown",
   "id": "9714045b-9901-4b81-af39-3621beadfc2a",
   "metadata": {},
   "source": [
    "# Membership Operations"
   ]
  },
  {
   "cell_type": "code",
   "execution_count": 80,
   "id": "a5b00552-cf63-4ae1-bc77-b4be7e6bb68b",
   "metadata": {},
   "outputs": [
    {
     "name": "stdout",
     "output_type": "stream",
     "text": [
      "Delhi Mumbai\n"
     ]
    }
   ],
   "source": [
    "print('Delhi'+' '+ 'Mumbai')  #concetentation"
   ]
  },
  {
   "cell_type": "code",
   "execution_count": 82,
   "id": "478fb83c-e105-4efc-90f2-3f14912c7b67",
   "metadata": {},
   "outputs": [
    {
     "name": "stdout",
     "output_type": "stream",
     "text": [
      "DelhiDelhiDelhiDelhiDelhi\n"
     ]
    }
   ],
   "source": [
    "print('Delhi'*5)"
   ]
  },
  {
   "cell_type": "code",
   "execution_count": 84,
   "id": "eb3856dc-7698-46fc-9ab1-34741bb58c34",
   "metadata": {},
   "outputs": [
    {
     "name": "stdout",
     "output_type": "stream",
     "text": [
      "**************************************************\n"
     ]
    }
   ],
   "source": [
    "print('*'*50)"
   ]
  },
  {
   "cell_type": "code",
   "execution_count": 86,
   "id": "27c3b27c-f5e1-46cc-a2dd-fc59c6c94df2",
   "metadata": {},
   "outputs": [
    {
     "data": {
      "text/plain": [
       "False"
      ]
     },
     "execution_count": 86,
     "metadata": {},
     "output_type": "execute_result"
    }
   ],
   "source": [
    "'delhi' != 'delhi'"
   ]
  },
  {
   "cell_type": "code",
   "execution_count": 88,
   "id": "ca3dc645-16e9-4221-920f-d30304bfb8fc",
   "metadata": {},
   "outputs": [
    {
     "data": {
      "text/plain": [
       "False"
      ]
     },
     "execution_count": 88,
     "metadata": {},
     "output_type": "execute_result"
    }
   ],
   "source": [
    "'mumbai'>'pune'  #lexiographical comparision"
   ]
  },
  {
   "cell_type": "code",
   "execution_count": 90,
   "id": "10916bf7-282c-4e64-bf55-2d2fa894c444",
   "metadata": {},
   "outputs": [
    {
     "data": {
      "text/plain": [
       "False"
      ]
     },
     "execution_count": 90,
     "metadata": {},
     "output_type": "execute_result"
    }
   ],
   "source": [
    "'Pune'>'pune' #ascii standard follow"
   ]
  },
  {
   "cell_type": "code",
   "execution_count": 92,
   "id": "b68e836c-2a9e-46f1-8fa3-4fd4b7958443",
   "metadata": {},
   "outputs": [
    {
     "data": {
      "text/plain": [
       "'world'"
      ]
     },
     "execution_count": 92,
     "metadata": {},
     "output_type": "execute_result"
    }
   ],
   "source": [
    "'hello' and 'world'"
   ]
  },
  {
   "cell_type": "code",
   "execution_count": 94,
   "id": "2ebb0ee9-6e8f-4d91-86f2-0fe7f777c28f",
   "metadata": {},
   "outputs": [
    {
     "data": {
      "text/plain": [
       "'hello'"
      ]
     },
     "execution_count": 94,
     "metadata": {},
     "output_type": "execute_result"
    }
   ],
   "source": [
    "'hello' or 'world'"
   ]
  },
  {
   "cell_type": "code",
   "execution_count": 99,
   "id": "8b22b7fd-a200-41c3-8f8c-29a1eedf1494",
   "metadata": {},
   "outputs": [
    {
     "data": {
      "text/plain": [
       "'world'"
      ]
     },
     "execution_count": 99,
     "metadata": {},
     "output_type": "execute_result"
    }
   ],
   "source": [
    "'' or 'world'"
   ]
  },
  {
   "cell_type": "code",
   "execution_count": 107,
   "id": "d4da5a29-167c-4c51-bace-4e2ba456b7e6",
   "metadata": {},
   "outputs": [
    {
     "data": {
      "text/plain": [
       "True"
      ]
     },
     "execution_count": 107,
     "metadata": {},
     "output_type": "execute_result"
    }
   ],
   "source": [
    "i in 'delhi'"
   ]
  },
  {
   "cell_type": "code",
   "execution_count": 109,
   "id": "170a7c8c-5555-4431-908c-8a62e593c52f",
   "metadata": {},
   "outputs": [
    {
     "data": {
      "text/plain": [
       "False"
      ]
     },
     "execution_count": 109,
     "metadata": {},
     "output_type": "execute_result"
    }
   ],
   "source": [
    "i not in 'delhi'"
   ]
  },
  {
   "cell_type": "code",
   "execution_count": 105,
   "id": "29360426-4263-4ef7-bf4c-263a899f5eed",
   "metadata": {},
   "outputs": [
    {
     "name": "stdout",
     "output_type": "stream",
     "text": [
      "Pune\n",
      "Pune\n",
      "Pune\n",
      "Pune\n",
      "Pune\n"
     ]
    }
   ],
   "source": [
    "for i in 'delhi':\n",
    "    print('Pune')"
   ]
  },
  {
   "cell_type": "markdown",
   "id": "bdeaae03-24ba-4507-b73f-1fd5c73a111e",
   "metadata": {},
   "source": [
    "# Common Functions\n",
    "* len\n",
    "* max\n",
    "* min\n",
    "* sorted\n",
    "  "
   ]
  },
  {
   "cell_type": "code",
   "execution_count": null,
   "id": "e283a766-4be8-4d02-a651-c72af3cb6d7d",
   "metadata": {},
   "outputs": [],
   "source": []
  },
  {
   "cell_type": "code",
   "execution_count": 111,
   "id": "f5a170c2-4655-4528-8e63-7d8d1879b635",
   "metadata": {},
   "outputs": [
    {
     "data": {
      "text/plain": [
       "11"
      ]
     },
     "execution_count": 111,
     "metadata": {},
     "output_type": "execute_result"
    }
   ],
   "source": [
    "len('Hello world')"
   ]
  },
  {
   "cell_type": "code",
   "execution_count": 113,
   "id": "eb8693c5-47ff-4785-a799-2a1dd51c2cfb",
   "metadata": {},
   "outputs": [
    {
     "data": {
      "text/plain": [
       "'r'"
      ]
     },
     "execution_count": 113,
     "metadata": {},
     "output_type": "execute_result"
    }
   ],
   "source": [
    "max('Hello World')"
   ]
  },
  {
   "cell_type": "code",
   "execution_count": 115,
   "id": "69314cbf-c8ff-4bc4-8258-2f0e6ab1d8e6",
   "metadata": {},
   "outputs": [
    {
     "data": {
      "text/plain": [
       "' '"
      ]
     },
     "execution_count": 115,
     "metadata": {},
     "output_type": "execute_result"
    }
   ],
   "source": [
    "min('Hello World')"
   ]
  },
  {
   "cell_type": "code",
   "execution_count": 117,
   "id": "55fd9db8-ac04-4bff-b289-eab5f6633a62",
   "metadata": {},
   "outputs": [
    {
     "data": {
      "text/plain": [
       "[' ', 'd', 'e', 'h', 'l', 'l', 'l', 'o', 'o', 'r', 'w']"
      ]
     },
     "execution_count": 117,
     "metadata": {},
     "output_type": "execute_result"
    }
   ],
   "source": [
    "sorted('hello world')"
   ]
  },
  {
   "cell_type": "markdown",
   "id": "fba989b2-6a40-4bde-a806-fe67fd4d3c4c",
   "metadata": {},
   "source": [
    "# Capitalize/title/Upper/Lower/Swapcase "
   ]
  },
  {
   "cell_type": "code",
   "execution_count": 123,
   "id": "5506aaa8-9958-474d-be51-66d7bf1a6950",
   "metadata": {},
   "outputs": [
    {
     "data": {
      "text/plain": [
       "'Hello world'"
      ]
     },
     "execution_count": 123,
     "metadata": {},
     "output_type": "execute_result"
    }
   ],
   "source": [
    "s ='hello world'\n",
    "s.capitalize()"
   ]
  },
  {
   "cell_type": "code",
   "execution_count": 125,
   "id": "30a3a0c1-b8b7-4be8-bb57-9961b48fc2db",
   "metadata": {},
   "outputs": [
    {
     "data": {
      "text/plain": [
       "'Hello World'"
      ]
     },
     "execution_count": 125,
     "metadata": {},
     "output_type": "execute_result"
    }
   ],
   "source": [
    "s.title()"
   ]
  },
  {
   "cell_type": "code",
   "execution_count": 127,
   "id": "a59caf0d-d6b8-40e5-9dff-ed129881d111",
   "metadata": {},
   "outputs": [
    {
     "data": {
      "text/plain": [
       "'HELLO WORLD'"
      ]
     },
     "execution_count": 127,
     "metadata": {},
     "output_type": "execute_result"
    }
   ],
   "source": [
    "s.upper()"
   ]
  },
  {
   "cell_type": "code",
   "execution_count": 129,
   "id": "31344c00-2074-4820-9e6a-5397bc2258bf",
   "metadata": {},
   "outputs": [
    {
     "data": {
      "text/plain": [
       "'hello world'"
      ]
     },
     "execution_count": 129,
     "metadata": {},
     "output_type": "execute_result"
    }
   ],
   "source": [
    "s ='HELLO WORLD'\n",
    "s.lower()"
   ]
  },
  {
   "cell_type": "code",
   "execution_count": 131,
   "id": "bdf9fbbd-71ec-468b-b412-2bb55eabdb69",
   "metadata": {},
   "outputs": [
    {
     "data": {
      "text/plain": [
       "'HeLLO wORLd'"
      ]
     },
     "execution_count": 131,
     "metadata": {},
     "output_type": "execute_result"
    }
   ],
   "source": [
    "s ='hEllo WorlD'\n",
    "s.swapcase()"
   ]
  },
  {
   "cell_type": "markdown",
   "id": "0335d987-8a6b-4d85-88a1-2ea02c6b1343",
   "metadata": {},
   "source": [
    "# Count/Find/Index"
   ]
  },
  {
   "cell_type": "code",
   "execution_count": 134,
   "id": "690480dc-62f3-4699-b065-fb747c95e1bd",
   "metadata": {},
   "outputs": [
    {
     "ename": "ValueError",
     "evalue": "substring not found",
     "output_type": "error",
     "traceback": [
      "\u001b[1;31m---------------------------------------------------------------------------\u001b[0m",
      "\u001b[1;31mValueError\u001b[0m                                Traceback (most recent call last)",
      "Cell \u001b[1;32mIn[134], line 1\u001b[0m\n\u001b[1;32m----> 1\u001b[0m \u001b[38;5;124m'\u001b[39m\u001b[38;5;124mmy name is ravi\u001b[39m\u001b[38;5;124m'\u001b[39m\u001b[38;5;241m.\u001b[39mindex(\u001b[38;5;124m'\u001b[39m\u001b[38;5;124mx\u001b[39m\u001b[38;5;124m'\u001b[39m)\n",
      "\u001b[1;31mValueError\u001b[0m: substring not found"
     ]
    }
   ],
   "source": [
    "'my name is ravi'.index('x')"
   ]
  },
  {
   "cell_type": "code",
   "execution_count": 138,
   "id": "8192d35a-a983-44ad-ada7-bf4c413b723b",
   "metadata": {},
   "outputs": [
    {
     "data": {
      "text/plain": [
       "3"
      ]
     },
     "execution_count": 138,
     "metadata": {},
     "output_type": "execute_result"
    }
   ],
   "source": [
    "'my name is nafisa ali'.count('i')"
   ]
  },
  {
   "cell_type": "code",
   "execution_count": 140,
   "id": "7bfc8cc2-c087-43ca-9e32-cf93eee339af",
   "metadata": {},
   "outputs": [
    {
     "data": {
      "text/plain": [
       "8"
      ]
     },
     "execution_count": 140,
     "metadata": {},
     "output_type": "execute_result"
    }
   ],
   "source": [
    "'my name is ravi'.find('is')"
   ]
  },
  {
   "cell_type": "code",
   "execution_count": 142,
   "id": "71417e85-8370-4365-af36-453312757f56",
   "metadata": {},
   "outputs": [
    {
     "data": {
      "text/plain": [
       "8"
      ]
     },
     "execution_count": 142,
     "metadata": {},
     "output_type": "execute_result"
    }
   ],
   "source": [
    "'my name is ravi'.index('is')"
   ]
  },
  {
   "cell_type": "code",
   "execution_count": 144,
   "id": "c8cd9033-51a5-45c2-9a3a-aa53d744ff53",
   "metadata": {},
   "outputs": [
    {
     "data": {
      "text/plain": [
       "-1"
      ]
     },
     "execution_count": 144,
     "metadata": {},
     "output_type": "execute_result"
    }
   ],
   "source": [
    "'my name is ravi'.find('x')"
   ]
  },
  {
   "cell_type": "code",
   "execution_count": 146,
   "id": "5d23309c-85e0-474d-a02d-354dce2f5b94",
   "metadata": {},
   "outputs": [
    {
     "ename": "ValueError",
     "evalue": "substring not found",
     "output_type": "error",
     "traceback": [
      "\u001b[1;31m---------------------------------------------------------------------------\u001b[0m",
      "\u001b[1;31mValueError\u001b[0m                                Traceback (most recent call last)",
      "Cell \u001b[1;32mIn[146], line 1\u001b[0m\n\u001b[1;32m----> 1\u001b[0m \u001b[38;5;124m'\u001b[39m\u001b[38;5;124mmy name is ravi\u001b[39m\u001b[38;5;124m'\u001b[39m\u001b[38;5;241m.\u001b[39mindex(\u001b[38;5;124m'\u001b[39m\u001b[38;5;124mx\u001b[39m\u001b[38;5;124m'\u001b[39m)\n",
      "\u001b[1;31mValueError\u001b[0m: substring not found"
     ]
    }
   ],
   "source": [
    "'my name is ravi'.index('x')"
   ]
  },
  {
   "cell_type": "markdown",
   "id": "de4d460e-20ba-417a-bd36-09300be4f49e",
   "metadata": {},
   "source": [
    "# endswith/startswith"
   ]
  },
  {
   "cell_type": "code",
   "execution_count": 149,
   "id": "adbf75a3-7fdb-46a2-adee-76c9461e3d38",
   "metadata": {},
   "outputs": [
    {
     "data": {
      "text/plain": [
       "False"
      ]
     },
     "execution_count": 149,
     "metadata": {},
     "output_type": "execute_result"
    }
   ],
   "source": [
    "'my name is ravi'.endswith('sho')"
   ]
  },
  {
   "cell_type": "code",
   "execution_count": 151,
   "id": "70ff609b-96ff-46ce-bafc-ff7cab7eb82c",
   "metadata": {},
   "outputs": [
    {
     "data": {
      "text/plain": [
       "True"
      ]
     },
     "execution_count": 151,
     "metadata": {},
     "output_type": "execute_result"
    }
   ],
   "source": [
    "'my name is ravi'.endswith('vi')"
   ]
  },
  {
   "cell_type": "code",
   "execution_count": 153,
   "id": "4178432b-c8e5-4dac-b7c3-ca35f552148f",
   "metadata": {},
   "outputs": [
    {
     "data": {
      "text/plain": [
       "True"
      ]
     },
     "execution_count": 153,
     "metadata": {},
     "output_type": "execute_result"
    }
   ],
   "source": [
    "'my name is ravi'.startswith('my')"
   ]
  },
  {
   "cell_type": "markdown",
   "id": "b128cb6a-7466-4ef9-b3c9-3c94b7005015",
   "metadata": {},
   "source": [
    "# format"
   ]
  },
  {
   "cell_type": "code",
   "execution_count": 158,
   "id": "71d65fff-2541-4600-8b1e-965a482a3e30",
   "metadata": {},
   "outputs": [
    {
     "data": {
      "text/plain": [
       "'hi my name is Ravi and I am a Male'"
      ]
     },
     "execution_count": 158,
     "metadata": {},
     "output_type": "execute_result"
    }
   ],
   "source": [
    "name ='Ravi'\n",
    "gender ='Male'\n",
    "'hi my name is {} and I am a {}'.format(name,gender)"
   ]
  },
  {
   "cell_type": "code",
   "execution_count": 160,
   "id": "42a22a5e-6f61-4ba2-9505-613a5a30c763",
   "metadata": {},
   "outputs": [
    {
     "data": {
      "text/plain": [
       "'hi my name is Male and I am a Ravi'"
      ]
     },
     "execution_count": 160,
     "metadata": {},
     "output_type": "execute_result"
    }
   ],
   "source": [
    "name ='Ravi'\n",
    "gender ='Male'\n",
    "'hi my name is {1} and I am a {0}'.format(name,gender)"
   ]
  },
  {
   "cell_type": "markdown",
   "id": "611a14ad-a6c4-4368-9d02-5b3d1d5631ea",
   "metadata": {},
   "source": [
    "# isalnum/isalpha/isdigit/isidentifier"
   ]
  },
  {
   "cell_type": "code",
   "execution_count": 163,
   "id": "d4f8e048-b0c4-44ab-a7c6-ca51771ad5fe",
   "metadata": {},
   "outputs": [
    {
     "data": {
      "text/plain": [
       "False"
      ]
     },
     "execution_count": 163,
     "metadata": {},
     "output_type": "execute_result"
    }
   ],
   "source": [
    "'Ravi1234%'.isalnum()"
   ]
  },
  {
   "cell_type": "code",
   "execution_count": 165,
   "id": "fbab8556-9ed6-4bca-ba34-4be49dbe3861",
   "metadata": {},
   "outputs": [
    {
     "data": {
      "text/plain": [
       "True"
      ]
     },
     "execution_count": 165,
     "metadata": {},
     "output_type": "execute_result"
    }
   ],
   "source": [
    "'Ravi1234'.isalnum()"
   ]
  },
  {
   "cell_type": "code",
   "execution_count": 167,
   "id": "307d29dc-7792-43a7-ab49-26fcf1e011dc",
   "metadata": {},
   "outputs": [
    {
     "data": {
      "text/plain": [
       "True"
      ]
     },
     "execution_count": 167,
     "metadata": {},
     "output_type": "execute_result"
    }
   ],
   "source": [
    "'Ravi'.isalpha()"
   ]
  },
  {
   "cell_type": "code",
   "execution_count": 172,
   "id": "fd709702-e170-4a7b-bc60-523f125070dd",
   "metadata": {},
   "outputs": [
    {
     "data": {
      "text/plain": [
       "False"
      ]
     },
     "execution_count": 172,
     "metadata": {},
     "output_type": "execute_result"
    }
   ],
   "source": [
    "'123'.isalpha()"
   ]
  },
  {
   "cell_type": "code",
   "execution_count": 174,
   "id": "af15d076-3a2d-4d30-b988-d76bb7017552",
   "metadata": {},
   "outputs": [
    {
     "data": {
      "text/plain": [
       "True"
      ]
     },
     "execution_count": 174,
     "metadata": {},
     "output_type": "execute_result"
    }
   ],
   "source": [
    "'123'.isdigit()"
   ]
  },
  {
   "cell_type": "code",
   "execution_count": 176,
   "id": "d69d7d2d-2ff6-43db-ba71-765d50bb6899",
   "metadata": {},
   "outputs": [
    {
     "data": {
      "text/plain": [
       "False"
      ]
     },
     "execution_count": 176,
     "metadata": {},
     "output_type": "execute_result"
    }
   ],
   "source": [
    "'1name'.isidentifier()"
   ]
  },
  {
   "cell_type": "code",
   "execution_count": 182,
   "id": "9033c17f-0853-4f6a-82c3-9b4e78420a48",
   "metadata": {},
   "outputs": [
    {
     "data": {
      "text/plain": [
       "True"
      ]
     },
     "execution_count": 182,
     "metadata": {},
     "output_type": "execute_result"
    }
   ],
   "source": [
    "'name1'.isidentifier()"
   ]
  },
  {
   "cell_type": "markdown",
   "id": "a934fe98-a3ef-4be4-82dc-26e7e717cfe2",
   "metadata": {},
   "source": [
    "# split/join"
   ]
  },
  {
   "cell_type": "code",
   "execution_count": 185,
   "id": "6e23ba98-da07-4481-88aa-56aca8b5eec3",
   "metadata": {},
   "outputs": [
    {
     "data": {
      "text/plain": [
       "['hi', 'my', 'name', 'is', 'ravi']"
      ]
     },
     "execution_count": 185,
     "metadata": {},
     "output_type": "execute_result"
    }
   ],
   "source": [
    "'hi my name is ravi'.split()"
   ]
  },
  {
   "cell_type": "code",
   "execution_count": 187,
   "id": "d290a0a8-c8f4-44d1-b9a9-840308713271",
   "metadata": {},
   "outputs": [
    {
     "data": {
      "text/plain": [
       "'himynameisRavi'"
      ]
     },
     "execution_count": 187,
     "metadata": {},
     "output_type": "execute_result"
    }
   ],
   "source": [
    "\"\".join(['hi','my','name','is','Ravi'])"
   ]
  },
  {
   "cell_type": "code",
   "execution_count": 189,
   "id": "8ff59082-fff6-4f06-9dd9-75633a510c06",
   "metadata": {},
   "outputs": [
    {
     "data": {
      "text/plain": [
       "'hi my name is Ravi'"
      ]
     },
     "execution_count": 189,
     "metadata": {},
     "output_type": "execute_result"
    }
   ],
   "source": [
    "\" \".join(['hi','my','name','is','Ravi'])"
   ]
  },
  {
   "cell_type": "markdown",
   "id": "a726ec29-d779-4eea-babd-1e737eeea781",
   "metadata": {},
   "source": [
    "# replace "
   ]
  },
  {
   "cell_type": "code",
   "execution_count": 192,
   "id": "786f23df-4dcd-4baa-91ef-2ec5d5c1c469",
   "metadata": {},
   "outputs": [
    {
     "data": {
      "text/plain": [
       "'hi my name is priyanshu'"
      ]
     },
     "execution_count": 192,
     "metadata": {},
     "output_type": "execute_result"
    }
   ],
   "source": [
    "'hi my name is ravi'.replace('ravi','priyanshu')"
   ]
  },
  {
   "cell_type": "markdown",
   "id": "1a7bd882-5cac-4928-a475-4f3943f56688",
   "metadata": {},
   "source": [
    "# strip "
   ]
  },
  {
   "cell_type": "code",
   "execution_count": 195,
   "id": "41fe98f4-6caf-46a0-afa7-bfa3129b1bcb",
   "metadata": {},
   "outputs": [
    {
     "data": {
      "text/plain": [
       "'ravi'"
      ]
     },
     "execution_count": 195,
     "metadata": {},
     "output_type": "execute_result"
    }
   ],
   "source": [
    "'ravi                  '.strip()"
   ]
  },
  {
   "cell_type": "markdown",
   "id": "73dd987b-b751-41bb-b0c8-d8e0dfaab0f8",
   "metadata": {},
   "source": [
    "# Find the length of a given string without using the len() function"
   ]
  },
  {
   "cell_type": "code",
   "execution_count": 198,
   "id": "634c134a-dee4-4cd3-9370-91716bd0463c",
   "metadata": {},
   "outputs": [
    {
     "name": "stdin",
     "output_type": "stream",
     "text": [
      "Enter the string ravi\n"
     ]
    },
    {
     "name": "stdout",
     "output_type": "stream",
     "text": [
      "Length of string 4\n"
     ]
    }
   ],
   "source": [
    "s = input('Enter the string')\n",
    "count =0\n",
    "for i in s:\n",
    "    count +=1\n",
    "print('Length of string',count)"
   ]
  },
  {
   "cell_type": "code",
   "execution_count": 200,
   "id": "42604cec-1d44-421a-a8f8-1fd71199dd0e",
   "metadata": {},
   "outputs": [
    {
     "name": "stdin",
     "output_type": "stream",
     "text": [
      "Enter the email sonnelravi@gmail.com\n"
     ]
    },
    {
     "name": "stdout",
     "output_type": "stream",
     "text": [
      "sonnelravi\n"
     ]
    }
   ],
   "source": [
    "# Extract username from a given email\n",
    "# eg if the email is ravikumar60518@gmail.com\n",
    "# then the username should be ravikumar60518\n",
    "s = input('Enter the email')\n",
    "pos =s.index('@')\n",
    "print(s[0:pos])"
   ]
  },
  {
   "cell_type": "code",
   "execution_count": 202,
   "id": "80bbf61d-3bd8-4a48-9afe-876372cf9ba8",
   "metadata": {},
   "outputs": [
    {
     "name": "stdin",
     "output_type": "stream",
     "text": [
      "enter the email ravikumar60518@gmail.com\n",
      "What would like to search for r\n"
     ]
    },
    {
     "name": "stdout",
     "output_type": "stream",
     "text": [
      "Frequency 2\n"
     ]
    }
   ],
   "source": [
    "#count the frequency of a particular charcter in a provided string\n",
    "#Eg 'hello how are you' is the string, the frequency of h in this string is 2\n",
    "s = input('enter the email')\n",
    "term = input('What would like to search for')\n",
    "counter =0\n",
    "for i in s:\n",
    "    if i == term:\n",
    "        counter += 1\n",
    "print('Frequency',counter)"
   ]
  },
  {
   "cell_type": "code",
   "execution_count": 204,
   "id": "2ae68272-aaa2-46f9-a8a9-2bfb9ae33e92",
   "metadata": {},
   "outputs": [
    {
     "name": "stdin",
     "output_type": "stream",
     "text": [
      "Enter the string raviikumar\n",
      "What would like to remove i\n"
     ]
    },
    {
     "name": "stdout",
     "output_type": "stream",
     "text": [
      "ravkumar\n"
     ]
    }
   ],
   "source": [
    "# Write a program which can remove a particular character from a string\n",
    "s = input('Enter the string')\n",
    "term = input('What would like to remove')\n",
    "result =''\n",
    "for i in s:\n",
    "    if i != term:\n",
    "        result = result+i\n",
    "print(result)"
   ]
  },
  {
   "cell_type": "markdown",
   "id": "7209e41f-8aa2-4a2c-a0ee-a14419852617",
   "metadata": {},
   "source": [
    "# to check string is palindrome or not"
   ]
  },
  {
   "cell_type": "code",
   "execution_count": 3,
   "id": "bfe2cd6a-d5c5-4262-a29a-34add970fe7d",
   "metadata": {},
   "outputs": [
    {
     "name": "stdin",
     "output_type": "stream",
     "text": [
      "Enter the string abba\n"
     ]
    },
    {
     "name": "stdout",
     "output_type": "stream",
     "text": [
      "Palindrome\n"
     ]
    }
   ],
   "source": [
    "s = input('Enter the string')\n",
    "flag = True\n",
    "for i in range(0, len(s)//2):\n",
    "    if s[i] != s[len(s)-i-1]:\n",
    "        flag= False\n",
    "        print('Not a palindrome')\n",
    "        break\n",
    "if flag:\n",
    "    print('Palindrome')"
   ]
  },
  {
   "cell_type": "code",
   "execution_count": 11,
   "id": "575e8c87-b3d8-498f-91af-03fb17ab28a6",
   "metadata": {},
   "outputs": [
    {
     "name": "stdin",
     "output_type": "stream",
     "text": [
      "Enter the string my name is Ravi Kumar\n"
     ]
    },
    {
     "name": "stdout",
     "output_type": "stream",
     "text": [
      "Number of words 4\n"
     ]
    }
   ],
   "source": [
    "# Write a program to count the number of words in a string without split()\n",
    "s = input('Enter the string')\n",
    "l = []\n",
    "temp =''\n",
    "for i in s:\n",
    "    if i != ' ':\n",
    "        temp =temp +i\n",
    "    else:\n",
    "        l.append(temp)\n",
    "        temp =' '\n",
    "if temp:\n",
    "    l.append\n",
    "\n",
    "word_count =len(l)\n",
    "print(\"Number of words\", word_count)"
   ]
  },
  {
   "cell_type": "code",
   "execution_count": 15,
   "id": "289bf28b-9348-4c9a-808f-fabc5c0c9a22",
   "metadata": {},
   "outputs": [
    {
     "name": "stdin",
     "output_type": "stream",
     "text": [
      "Ente the string my name is Ravi Kumar\n"
     ]
    },
    {
     "name": "stdout",
     "output_type": "stream",
     "text": [
      "['My', 'Name', 'Is', 'Ravi', 'Kumar']\n"
     ]
    }
   ],
   "source": [
    "# Write a program to convert a string to title case without using the title()\n",
    "s = input(\"Ente the string\")\n",
    "l =[]\n",
    "for i in s.split():\n",
    "    l.append(i[0].upper() + i[1:].lower())\n",
    "print(l)"
   ]
  },
  {
   "cell_type": "code",
   "execution_count": 19,
   "id": "d6bcbee3-7e34-47d3-b958-22affcd51da2",
   "metadata": {},
   "outputs": [
    {
     "name": "stdin",
     "output_type": "stream",
     "text": [
      "Enter the number 234\n"
     ]
    },
    {
     "ename": "NameError",
     "evalue": "name 'result' is not defined",
     "output_type": "error",
     "traceback": [
      "\u001b[1;31m---------------------------------------------------------------------------\u001b[0m",
      "\u001b[1;31mNameError\u001b[0m                                 Traceback (most recent call last)",
      "Cell \u001b[1;32mIn[19], line 6\u001b[0m\n\u001b[0;32m      3\u001b[0m digits \u001b[38;5;241m=\u001b[39m \u001b[38;5;124m'\u001b[39m\u001b[38;5;124m0123456789\u001b[39m\u001b[38;5;124m'\u001b[39m\n\u001b[0;32m      5\u001b[0m \u001b[38;5;28;01mwhile\u001b[39;00m number \u001b[38;5;241m!=\u001b[39m \u001b[38;5;241m0\u001b[39m:\n\u001b[1;32m----> 6\u001b[0m     result \u001b[38;5;241m=\u001b[39m digits[number\u001b[38;5;241m%\u001b[39m\u001b[38;5;241m10\u001b[39m] \u001b[38;5;241m+\u001b[39m result\n\u001b[0;32m      7\u001b[0m     number \u001b[38;5;241m=\u001b[39m number\u001b[38;5;241m/\u001b[39m\u001b[38;5;241m/\u001b[39m\u001b[38;5;241m10\u001b[39m\n\u001b[0;32m      8\u001b[0m \u001b[38;5;28mprint\u001b[39m(result)\n",
      "\u001b[1;31mNameError\u001b[0m: name 'result' is not defined"
     ]
    }
   ],
   "source": [
    "# Write a program that can convert an integer to string\n",
    "number = int(input('Enter the number'))\n",
    "digits = '0123456789'\n",
    "\n",
    "while number != 0:\n",
    "    result = digits[number%10] + result\n",
    "    number = number//10\n",
    "print(result)\n",
    "print(type(result))"
   ]
  },
  {
   "cell_type": "code",
   "execution_count": 21,
   "id": "5f5a074b-3ee4-444e-944a-c30f67bffae7",
   "metadata": {},
   "outputs": [
    {
     "name": "stdin",
     "output_type": "stream",
     "text": [
      "Enter the number 234\n"
     ]
    },
    {
     "name": "stdout",
     "output_type": "stream",
     "text": [
      "234\n",
      "<class 'str'>\n"
     ]
    }
   ],
   "source": [
    "# Write a program that can convert an integer to string\n",
    "number = int(input('Enter the number'))\n",
    "digits = '0123456789'\n",
    "result =''\n",
    "while number != 0:\n",
    "    result = digits[number%10] + result\n",
    "    number = number//10\n",
    "print(result)\n",
    "print(type(result))"
   ]
  },
  {
   "cell_type": "markdown",
   "id": "e23acd35-c46b-4f16-b979-3b2c3655d44e",
   "metadata": {},
   "source": [
    "# Lists\n",
    "* what are lists?\n",
    "* lists Vs arrays\n",
    "* Charactristics of a list\n",
    "* How to create a list\n",
    "* Access items from a list\n",
    "* Editing items in a List\n",
    "* Deleting items from a list\n",
    "* Operations on lists\n",
    "* Functions on lists"
   ]
  },
  {
   "cell_type": "markdown",
   "id": "bd1a8f89-7538-4563-8f7d-07c004caff4f",
   "metadata": {},
   "source": [
    "# What are Lists\n",
    "* List is a data type where you can store multiple items under 1 name. More techanically lists act like dyanamic arrays which\n",
    "* means you can add more items on the fly\n",
    "* l =[20, 'jessa', 35.45, [30,60,90]]\n",
    "* indexing start from zero"
   ]
  },
  {
   "cell_type": "markdown",
   "id": "bcfd9140-b473-4948-a253-a15a551d8833",
   "metadata": {},
   "source": [
    "# Array Vs Lists\n",
    "* Convenience -> Hetrogeneous\n",
    "* fixed vs Dynamic Size\n",
    "* speed of Exection\n",
    "* memory\n"
   ]
  },
  {
   "cell_type": "code",
   "execution_count": 26,
   "id": "bb4326c9-8ac9-4b44-a8eb-4f9ec7dc39b7",
   "metadata": {},
   "outputs": [
    {
     "name": "stdout",
     "output_type": "stream",
     "text": [
      "140737166457304\n"
     ]
    }
   ],
   "source": [
    "a =2\n",
    "print(id(2))"
   ]
  },
  {
   "cell_type": "code",
   "execution_count": 30,
   "id": "4f2db8a8-2685-43db-ba00-79b6380d9b59",
   "metadata": {},
   "outputs": [
    {
     "name": "stdout",
     "output_type": "stream",
     "text": [
      "1537137143744\n",
      "140737166457272\n",
      "140737166457304\n"
     ]
    }
   ],
   "source": [
    "l =[1,2,3]\n",
    "print(id(l))\n",
    "print(id(l[0]))\n",
    "print(id(l[1]))"
   ]
  },
  {
   "cell_type": "markdown",
   "id": "43506e3e-640b-4c8c-bd6d-845cf774de4a",
   "metadata": {},
   "source": [
    "# Characterstics of a List\n",
    "* Ordered\n",
    "* Changeble/Mutable\n",
    "* Hetrogeneous\n",
    "* Can have duplicates\n",
    "* are dynamic\n",
    "* can be nested\n",
    "* items can be accessed\n",
    "* can contain any kind of objects in python"
   ]
  },
  {
   "cell_type": "code",
   "execution_count": 37,
   "id": "ebd807ea-cfdc-4630-8e3c-c50496d754d8",
   "metadata": {},
   "outputs": [
    {
     "name": "stdout",
     "output_type": "stream",
     "text": [
      "[]\n",
      "[1, 2, 3, 4, 5]\n",
      "[1, 2, 3, [4, 5]]\n"
     ]
    }
   ],
   "source": [
    "#Empty\n",
    "print([])\n",
    "#1D --> Homo\n",
    "print([1,2,3,4,5])\n",
    "#2D\n",
    "print([1,2,3,[4,5]])"
   ]
  },
  {
   "cell_type": "code",
   "execution_count": 41,
   "id": "658b474a-c591-498c-ad49-339bbc943e3c",
   "metadata": {},
   "outputs": [
    {
     "name": "stdout",
     "output_type": "stream",
     "text": [
      "[[[1, 2], [3, 4]], [[5, 6], [7, 8]]]\n",
      "[1, True, 5.6, (5+6j), 'hello']\n"
     ]
    }
   ],
   "source": [
    "#3D\n",
    "print([[[1,2],[3,4]],[[5,6],[7,8]]])\n",
    "#Hetrogeneous\n",
    "print([1,True, 5.6,5+6j,'hello'])"
   ]
  },
  {
   "cell_type": "code",
   "execution_count": 43,
   "id": "ca79a2a1-29f2-41f6-a1ad-9c3ad6e6b5aa",
   "metadata": {},
   "outputs": [
    {
     "name": "stdout",
     "output_type": "stream",
     "text": [
      "['H', 'e', 'l', 'l', 'o']\n"
     ]
    }
   ],
   "source": [
    "#using type conversion\n",
    "print(list('Hello'))"
   ]
  },
  {
   "cell_type": "markdown",
   "id": "4042c7cb-f738-430f-89ac-6c7fe35faa0f",
   "metadata": {},
   "source": [
    "# Accessing Items from a List"
   ]
  },
  {
   "cell_type": "code",
   "execution_count": 2,
   "id": "38aaebcd-eb8d-4159-9c57-740403b55e2f",
   "metadata": {},
   "outputs": [
    {
     "ename": "SyntaxError",
     "evalue": "incomplete input (1975775877.py, line 4)",
     "output_type": "error",
     "traceback": [
      "\u001b[1;36m  Cell \u001b[1;32mIn[2], line 4\u001b[1;36m\u001b[0m\n\u001b[1;33m    print(l[3][0]\u001b[0m\n\u001b[1;37m                 ^\u001b[0m\n\u001b[1;31mSyntaxError\u001b[0m\u001b[1;31m:\u001b[0m incomplete input\n"
     ]
    }
   ],
   "source": [
    "#indexing\n",
    "l = [1,2,3,[4,5]]\n",
    "#positive\n",
    "print(l[3][0]"
   ]
  },
  {
   "cell_type": "code",
   "execution_count": 8,
   "id": "2f8234d9-dd14-4975-9221-30fb615d2216",
   "metadata": {},
   "outputs": [
    {
     "name": "stdout",
     "output_type": "stream",
     "text": [
      "4\n"
     ]
    }
   ],
   "source": [
    "#indexing\n",
    "l = [1,2,3,[4,5]]\n",
    "#positive\n",
    "print(l[3][0])\n"
   ]
  },
  {
   "cell_type": "code",
   "execution_count": 6,
   "id": "5ad81fc4-75e9-46e7-99e2-9c5654c936db",
   "metadata": {},
   "outputs": [
    {
     "name": "stdout",
     "output_type": "stream",
     "text": [
      "1\n"
     ]
    }
   ],
   "source": [
    "print(l[0])"
   ]
  },
  {
   "cell_type": "code",
   "execution_count": 12,
   "id": "fabee2fb-572b-444a-9b4d-b7b08ef85fc8",
   "metadata": {},
   "outputs": [
    {
     "name": "stdout",
     "output_type": "stream",
     "text": [
      "2\n"
     ]
    }
   ],
   "source": [
    "#indexing \n",
    "p =[[[1,2],[3,4]],[[5,6],[7,8]]] #3D list\n",
    "#positive\n",
    "print(p[0][0][1])"
   ]
  },
  {
   "cell_type": "code",
   "execution_count": 14,
   "id": "85147bfd-584b-4e0e-ab1b-5564e47e613c",
   "metadata": {},
   "outputs": [
    {
     "name": "stdout",
     "output_type": "stream",
     "text": [
      "1\n"
     ]
    }
   ],
   "source": [
    "print(p[0][0][0])"
   ]
  },
  {
   "cell_type": "code",
   "execution_count": 16,
   "id": "b066c7ea-3fd5-48a6-88c5-d47cd56125ef",
   "metadata": {},
   "outputs": [
    {
     "name": "stdout",
     "output_type": "stream",
     "text": [
      "[1, 2, 3]\n"
     ]
    }
   ],
   "source": [
    "#slicing \n",
    "l = [1,2,3,4,5,6]\n",
    "print(l[0:3])"
   ]
  },
  {
   "cell_type": "code",
   "execution_count": 18,
   "id": "d2c2c7fc-d745-4355-953a-0a637c58b419",
   "metadata": {},
   "outputs": [
    {
     "name": "stdout",
     "output_type": "stream",
     "text": [
      "[1, 2, 3, 4, 5, 6]\n"
     ]
    }
   ],
   "source": [
    "print(l[::])"
   ]
  },
  {
   "cell_type": "code",
   "execution_count": 20,
   "id": "4dac6f2b-004f-4b65-9bcb-61cf2f6a2d97",
   "metadata": {},
   "outputs": [
    {
     "name": "stdout",
     "output_type": "stream",
     "text": [
      "[6, 5, 4, 3, 2, 1]\n"
     ]
    }
   ],
   "source": [
    "print(l[::-1])"
   ]
  },
  {
   "cell_type": "markdown",
   "id": "8ee7e720-67b8-4c43-a89d-a1a63d88c3e8",
   "metadata": {},
   "source": [
    "# Adding Items to a list"
   ]
  },
  {
   "cell_type": "code",
   "execution_count": 23,
   "id": "39cf9e32-8e5b-46b7-b21a-a34c3ea8e586",
   "metadata": {},
   "outputs": [
    {
     "name": "stdout",
     "output_type": "stream",
     "text": [
      "[1, 2, 3, 4, 5, True]\n"
     ]
    }
   ],
   "source": [
    "# append\n",
    "l = [1,2,3,4,5]\n",
    "l.append(True)\n",
    "print(l)"
   ]
  },
  {
   "cell_type": "code",
   "execution_count": 25,
   "id": "df129422-d5ab-4b8b-8eb0-8751c6a0c640",
   "metadata": {},
   "outputs": [
    {
     "name": "stdout",
     "output_type": "stream",
     "text": [
      "[1, 2, 3, 4, 5, True, 10]\n"
     ]
    }
   ],
   "source": [
    "l.append(10)\n",
    "print(l)"
   ]
  },
  {
   "cell_type": "code",
   "execution_count": 27,
   "id": "95d35d49-8464-4469-b2ab-2615a357da95",
   "metadata": {},
   "outputs": [
    {
     "name": "stdout",
     "output_type": "stream",
     "text": [
      "[1, 2, 3, 4, 5, True, 10]\n"
     ]
    }
   ],
   "source": [
    "print(l)"
   ]
  },
  {
   "cell_type": "code",
   "execution_count": 29,
   "id": "86ad335a-8908-4254-9797-585562b1ba34",
   "metadata": {},
   "outputs": [
    {
     "name": "stdout",
     "output_type": "stream",
     "text": [
      "[1, 2, 3, 4, 5, 6, 7, 8]\n"
     ]
    }
   ],
   "source": [
    "#extend\n",
    "l = [1,2,3,4,5]\n",
    "l.extend([6,7,8])\n",
    "print(l)"
   ]
  },
  {
   "cell_type": "code",
   "execution_count": 31,
   "id": "789d098d-ca13-40c1-891d-e4999c6dd1bf",
   "metadata": {},
   "outputs": [
    {
     "name": "stdout",
     "output_type": "stream",
     "text": [
      "[1, 2, 3, 4, 5, [6, 7, 8]]\n"
     ]
    }
   ],
   "source": [
    "l =[1,2,3,4,5]\n",
    "l.append([6,7,8])\n",
    "print(l)"
   ]
  },
  {
   "cell_type": "code",
   "execution_count": 33,
   "id": "671ab45d-ce5c-44e1-8a03-b70dbd12dac3",
   "metadata": {},
   "outputs": [
    {
     "name": "stdout",
     "output_type": "stream",
     "text": [
      "[1, 3, 4, 5, 'D', 'e', 'l', 'h', 'i']\n"
     ]
    }
   ],
   "source": [
    "l = [1,3,4,5]\n",
    "l.extend('Delhi')\n",
    "print(l)"
   ]
  },
  {
   "cell_type": "code",
   "execution_count": 35,
   "id": "766ea2b8-db19-4549-a567-cba86e0469e4",
   "metadata": {},
   "outputs": [
    {
     "name": "stdout",
     "output_type": "stream",
     "text": [
      "[1, 3, 4, 5, 'Delhi']\n"
     ]
    }
   ],
   "source": [
    "l = [1,3,4,5]\n",
    "l.append('Delhi')\n",
    "print(l)"
   ]
  },
  {
   "cell_type": "code",
   "execution_count": 37,
   "id": "650b33d5-066a-4228-adbb-a2ade89930fe",
   "metadata": {},
   "outputs": [
    {
     "ename": "TypeError",
     "evalue": "insert expected 2 arguments, got 1",
     "output_type": "error",
     "traceback": [
      "\u001b[1;31m---------------------------------------------------------------------------\u001b[0m",
      "\u001b[1;31mTypeError\u001b[0m                                 Traceback (most recent call last)",
      "Cell \u001b[1;32mIn[37], line 3\u001b[0m\n\u001b[0;32m      1\u001b[0m \u001b[38;5;66;03m#insert\u001b[39;00m\n\u001b[0;32m      2\u001b[0m l \u001b[38;5;241m=\u001b[39m [\u001b[38;5;241m1\u001b[39m,\u001b[38;5;241m3\u001b[39m,\u001b[38;5;241m4\u001b[39m,\u001b[38;5;241m5\u001b[39m]\n\u001b[1;32m----> 3\u001b[0m l\u001b[38;5;241m.\u001b[39minsert(\u001b[38;5;124m'\u001b[39m\u001b[38;5;124mDelhi\u001b[39m\u001b[38;5;124m'\u001b[39m)\n\u001b[0;32m      4\u001b[0m \u001b[38;5;28mprint\u001b[39m(l)\n",
      "\u001b[1;31mTypeError\u001b[0m: insert expected 2 arguments, got 1"
     ]
    }
   ],
   "source": [
    "#insert\n",
    "l = [1,3,4,5]\n",
    "l.insert('Delhi')\n",
    "print(l)"
   ]
  },
  {
   "cell_type": "code",
   "execution_count": 39,
   "id": "c37d9a39-8b34-4df3-9888-8a985938319a",
   "metadata": {},
   "outputs": [
    {
     "name": "stdout",
     "output_type": "stream",
     "text": [
      "[1, 'Delhi', 3, 4, 5]\n"
     ]
    }
   ],
   "source": [
    "#insert\n",
    "l = [1,3,4,5]\n",
    "l.insert(1,'Delhi')\n",
    "print(l)"
   ]
  },
  {
   "cell_type": "markdown",
   "id": "dac88e23-1aae-4848-86ac-2579556d120f",
   "metadata": {},
   "source": [
    "# Editing items in a list"
   ]
  },
  {
   "cell_type": "code",
   "execution_count": 42,
   "id": "480c95dc-6498-488c-8f55-1871096c037d",
   "metadata": {},
   "outputs": [
    {
     "ename": "TypeError",
     "evalue": "'str' object does not support item assignment",
     "output_type": "error",
     "traceback": [
      "\u001b[1;31m---------------------------------------------------------------------------\u001b[0m",
      "\u001b[1;31mTypeError\u001b[0m                                 Traceback (most recent call last)",
      "Cell \u001b[1;32mIn[42], line 2\u001b[0m\n\u001b[0;32m      1\u001b[0m s \u001b[38;5;241m=\u001b[39m\u001b[38;5;124m'\u001b[39m\u001b[38;5;124mhello\u001b[39m\u001b[38;5;124m'\u001b[39m\n\u001b[1;32m----> 2\u001b[0m s[\u001b[38;5;241m0\u001b[39m] \u001b[38;5;241m=\u001b[39m \u001b[38;5;124m'\u001b[39m\u001b[38;5;124mx\u001b[39m\u001b[38;5;124m'\u001b[39m\n\u001b[0;32m      3\u001b[0m \u001b[38;5;28mprint\u001b[39m(s)\n",
      "\u001b[1;31mTypeError\u001b[0m: 'str' object does not support item assignment"
     ]
    }
   ],
   "source": [
    "s ='hello'\n",
    "s[0] = 'x'\n",
    "print(s)"
   ]
  },
  {
   "cell_type": "code",
   "execution_count": 44,
   "id": "d0fe5b4b-84b8-4942-8011-bd9de82a33e0",
   "metadata": {},
   "outputs": [
    {
     "name": "stdout",
     "output_type": "stream",
     "text": [
      "[1, 2, 3, 4, 100]\n"
     ]
    }
   ],
   "source": [
    "s =[1,2,3,4,5]\n",
    "s[-1] =100\n",
    "print(s)"
   ]
  },
  {
   "cell_type": "code",
   "execution_count": 46,
   "id": "47d30a25-9d6c-46ab-882f-35596765b3d8",
   "metadata": {},
   "outputs": [
    {
     "name": "stdout",
     "output_type": "stream",
     "text": [
      "[1, 200, 300, 400, 25, 24, 2]\n"
     ]
    }
   ],
   "source": [
    "l =[1,32,45,34,25,24,2]\n",
    "l[1:4] =[200,300,400]\n",
    "print(l)"
   ]
  },
  {
   "cell_type": "code",
   "execution_count": 48,
   "id": "8e672710-b28f-4245-a075-2b960429ff82",
   "metadata": {},
   "outputs": [
    {
     "name": "stdout",
     "output_type": "stream",
     "text": [
      "[1, 200, 300, 400, 500, 25, 24, 2]\n"
     ]
    }
   ],
   "source": [
    "l =[1,32,45,34,25,24,2]\n",
    "l[1:4] =[200,300,400,500]\n",
    "print(l)"
   ]
  },
  {
   "cell_type": "code",
   "execution_count": 50,
   "id": "3d1383e6-cb1c-49ca-8031-5e718dd12ea0",
   "metadata": {},
   "outputs": [
    {
     "name": "stdout",
     "output_type": "stream",
     "text": [
      "[1, 200, 300, 400, 500, 600, 7000, 25, 24, 2]\n"
     ]
    }
   ],
   "source": [
    "l =[1,32,45,34,25,24,2]\n",
    "l[1:4] =[200,300,400,500,600,7000]\n",
    "print(l)"
   ]
  },
  {
   "cell_type": "markdown",
   "id": "b47fb55f-5744-434f-bc49-2bc84203b753",
   "metadata": {},
   "source": [
    "# Deleting item from list "
   ]
  },
  {
   "cell_type": "code",
   "execution_count": 53,
   "id": "90734f9a-fba6-4882-9357-3068f5e0c875",
   "metadata": {},
   "outputs": [
    {
     "name": "stdout",
     "output_type": "stream",
     "text": [
      "[1, 2, 3, 4, 5]\n"
     ]
    }
   ],
   "source": [
    "# del\n",
    "l = [1,2,3,4,5]\n",
    "print(l)\n",
    "del l"
   ]
  },
  {
   "cell_type": "code",
   "execution_count": 57,
   "id": "24d26669-a89e-439f-b427-ea013c635170",
   "metadata": {},
   "outputs": [
    {
     "ename": "SyntaxError",
     "evalue": "invalid syntax (2672771088.py, line 1)",
     "output_type": "error",
     "traceback": [
      "\u001b[1;36m  Cell \u001b[1;32mIn[57], line 1\u001b[1;36m\u001b[0m\n\u001b[1;33m    print(l) //deleted list l\u001b[0m\n\u001b[1;37m                       ^\u001b[0m\n\u001b[1;31mSyntaxError\u001b[0m\u001b[1;31m:\u001b[0m invalid syntax\n"
     ]
    }
   ],
   "source": [
    "print(l) //deleted list l"
   ]
  },
  {
   "cell_type": "code",
   "execution_count": 59,
   "id": "302a4566-b0ad-41d2-8a07-a5ab74b7cd28",
   "metadata": {},
   "outputs": [
    {
     "name": "stdout",
     "output_type": "stream",
     "text": [
      "[1, 2, 3, 4, 5, 6]\n",
      "[1, 2, 3, 4, 5]\n"
     ]
    }
   ],
   "source": [
    "# del\n",
    "l = [1,2,3,4,5,6]\n",
    "print(l)\n",
    "del l[-1]\n",
    "print(l)"
   ]
  },
  {
   "cell_type": "code",
   "execution_count": 61,
   "id": "e52535f1-c568-48ce-8e2d-7b2f3b714613",
   "metadata": {},
   "outputs": [
    {
     "name": "stdout",
     "output_type": "stream",
     "text": [
      "[1, 2, 3, 4, 5, 6]\n",
      "[1, 4, 5, 6]\n"
     ]
    }
   ],
   "source": [
    "# del\n",
    "l = [1,2,3,4,5,6]\n",
    "print(l)\n",
    "#slicing\n",
    "del l[1:3]\n",
    "print(l)"
   ]
  },
  {
   "cell_type": "code",
   "execution_count": 63,
   "id": "b2537e70-fe64-4c36-a49a-fb329613c28c",
   "metadata": {},
   "outputs": [
    {
     "name": "stdout",
     "output_type": "stream",
     "text": [
      "[1, 2, 3, 4]\n"
     ]
    }
   ],
   "source": [
    "# remove\n",
    "l = [1,2,3,4,5]\n",
    "l.remove(5)\n",
    "print(l)"
   ]
  },
  {
   "cell_type": "code",
   "execution_count": 65,
   "id": "8ea30acc-bfc9-4cdb-a413-8cdb016ce349",
   "metadata": {},
   "outputs": [
    {
     "name": "stdout",
     "output_type": "stream",
     "text": [
      "[3, 4, 5]\n"
     ]
    }
   ],
   "source": [
    "#pop\n",
    "l = [1,3,4,5]\n",
    "l.pop(0)\n",
    "print(l)"
   ]
  },
  {
   "cell_type": "code",
   "execution_count": 67,
   "id": "5e0b7b2a-3d38-420f-8b11-6131e834bb8a",
   "metadata": {},
   "outputs": [
    {
     "name": "stdout",
     "output_type": "stream",
     "text": [
      "[1, 2, 3, 4]\n"
     ]
    }
   ],
   "source": [
    "# pop\n",
    "l = [1,2,3,4,5]\n",
    "l.pop()\n",
    "print(l)"
   ]
  },
  {
   "cell_type": "code",
   "execution_count": 69,
   "id": "6bc9c4e1-3cf8-4319-b86e-6377d474ab9c",
   "metadata": {},
   "outputs": [
    {
     "name": "stdout",
     "output_type": "stream",
     "text": [
      "[]\n"
     ]
    }
   ],
   "source": [
    "# pop\n",
    "l = [1,2,3,4,5]\n",
    "l.clear()\n",
    "print(l)"
   ]
  },
  {
   "cell_type": "markdown",
   "id": "425c9c04-2ca2-4873-b2d2-9746df85d645",
   "metadata": {},
   "source": [
    "# Operations on lists\n",
    "* Arithematic\n",
    "* Membership\n",
    "* Loop"
   ]
  },
  {
   "cell_type": "code",
   "execution_count": 78,
   "id": "810b9851-3543-4b6b-bef5-183472ae3218",
   "metadata": {},
   "outputs": [
    {
     "name": "stdout",
     "output_type": "stream",
     "text": [
      "[1, 2, 3, 4, 5, 6, 7, 8]\n"
     ]
    }
   ],
   "source": [
    "# Arithematic (+,*)\n",
    "l1 = [1,2,3,4]\n",
    "l2 = [5,6,7,8]\n",
    "print(l1+l2) #concatenation/merge"
   ]
  },
  {
   "cell_type": "code",
   "execution_count": 74,
   "id": "0e94d536-8bbc-43be-a263-02aa606f5a2c",
   "metadata": {},
   "outputs": [
    {
     "ename": "TypeError",
     "evalue": "can't multiply sequence by non-int of type 'list'",
     "output_type": "error",
     "traceback": [
      "\u001b[1;31m---------------------------------------------------------------------------\u001b[0m",
      "\u001b[1;31mTypeError\u001b[0m                                 Traceback (most recent call last)",
      "Cell \u001b[1;32mIn[74], line 1\u001b[0m\n\u001b[1;32m----> 1\u001b[0m \u001b[38;5;28mprint\u001b[39m(l1\u001b[38;5;241m*\u001b[39ml2)\n",
      "\u001b[1;31mTypeError\u001b[0m: can't multiply sequence by non-int of type 'list'"
     ]
    }
   ],
   "source": [
    "print(l1*l2)"
   ]
  },
  {
   "cell_type": "code",
   "execution_count": 76,
   "id": "cabc0e58-1841-47bf-bd6f-62bf4cf31a2a",
   "metadata": {},
   "outputs": [
    {
     "name": "stdout",
     "output_type": "stream",
     "text": [
      "[1, 2, 3, 4, 1, 2, 3, 4]\n"
     ]
    }
   ],
   "source": [
    "print(l1*2)"
   ]
  },
  {
   "cell_type": "code",
   "execution_count": 81,
   "id": "d2678b23-3fb4-42e6-bd11-a33c8d047b4e",
   "metadata": {},
   "outputs": [
    {
     "name": "stdout",
     "output_type": "stream",
     "text": [
      "[1, 2, 3, 4]\n"
     ]
    }
   ],
   "source": [
    "print(l1)"
   ]
  },
  {
   "cell_type": "code",
   "execution_count": 83,
   "id": "bf269bc9-ceec-49e6-a793-98e7f9caa710",
   "metadata": {},
   "outputs": [
    {
     "data": {
      "text/plain": [
       "False"
      ]
     },
     "execution_count": 83,
     "metadata": {},
     "output_type": "execute_result"
    }
   ],
   "source": [
    "5 in l1"
   ]
  },
  {
   "cell_type": "code",
   "execution_count": 85,
   "id": "c612c9eb-7e5b-43ff-b4d7-a9d15722495c",
   "metadata": {},
   "outputs": [
    {
     "data": {
      "text/plain": [
       "True"
      ]
     },
     "execution_count": 85,
     "metadata": {},
     "output_type": "execute_result"
    }
   ],
   "source": [
    "5 not in l1"
   ]
  },
  {
   "cell_type": "code",
   "execution_count": 87,
   "id": "a4a9f90d-61a7-44de-85e0-bb0a09a31e0a",
   "metadata": {},
   "outputs": [
    {
     "name": "stdout",
     "output_type": "stream",
     "text": [
      "True\n"
     ]
    }
   ],
   "source": [
    "l1 = [1,2,3,4,5]\n",
    "l2 = [1,2,3,4,[5,6]]\n",
    "print(5 in l1)"
   ]
  },
  {
   "cell_type": "code",
   "execution_count": 89,
   "id": "38e9826a-4300-488e-aeda-f6d3b360f2b0",
   "metadata": {},
   "outputs": [
    {
     "name": "stdout",
     "output_type": "stream",
     "text": [
      "False\n"
     ]
    }
   ],
   "source": [
    "print(5 in l2)"
   ]
  },
  {
   "cell_type": "code",
   "execution_count": 91,
   "id": "274c3ab4-2166-4e9b-af91-92aa370f53b9",
   "metadata": {},
   "outputs": [
    {
     "name": "stdout",
     "output_type": "stream",
     "text": [
      "True\n"
     ]
    }
   ],
   "source": [
    "print([5,6] in l2)"
   ]
  },
  {
   "cell_type": "code",
   "execution_count": 93,
   "id": "f0283f48-0a5f-4aa9-b7f5-782ebd387a4b",
   "metadata": {},
   "outputs": [
    {
     "name": "stdout",
     "output_type": "stream",
     "text": [
      "1\n",
      "2\n",
      "3\n",
      "4\n",
      "5\n"
     ]
    }
   ],
   "source": [
    "#loops\n",
    "for i in l1:\n",
    "    print(i)"
   ]
  },
  {
   "cell_type": "code",
   "execution_count": 95,
   "id": "f571ab27-ccdc-41d2-80b4-a78411918338",
   "metadata": {},
   "outputs": [
    {
     "name": "stdout",
     "output_type": "stream",
     "text": [
      "*\n",
      "*\n",
      "*\n",
      "*\n",
      "*\n"
     ]
    }
   ],
   "source": [
    "#loops\n",
    "for i in l1:\n",
    "    print('*')"
   ]
  },
  {
   "cell_type": "code",
   "execution_count": 97,
   "id": "424b39d2-c50d-491b-b69a-3b8e100c14e4",
   "metadata": {},
   "outputs": [
    {
     "name": "stdout",
     "output_type": "stream",
     "text": [
      "1\n",
      "2\n",
      "3\n",
      "4\n",
      "[5, 6]\n"
     ]
    }
   ],
   "source": [
    "#loops\n",
    "for i in l2:\n",
    "    print(i)"
   ]
  },
  {
   "cell_type": "markdown",
   "id": "74c1d185-2e2e-401a-8744-c009342bcb4b",
   "metadata": {},
   "source": [
    "# len/min/max/sorted"
   ]
  },
  {
   "cell_type": "code",
   "execution_count": 100,
   "id": "1a55575a-40ea-4d18-8a9a-e1183848a485",
   "metadata": {},
   "outputs": [
    {
     "data": {
      "text/plain": [
       "6"
      ]
     },
     "execution_count": 100,
     "metadata": {},
     "output_type": "execute_result"
    }
   ],
   "source": [
    "l =[1,2,3,4,5,6]\n",
    "len(l)"
   ]
  },
  {
   "cell_type": "code",
   "execution_count": 102,
   "id": "9bfaa34d-9a34-4e94-a2a9-50c9ddf1e186",
   "metadata": {},
   "outputs": [
    {
     "data": {
      "text/plain": [
       "6"
      ]
     },
     "execution_count": 102,
     "metadata": {},
     "output_type": "execute_result"
    }
   ],
   "source": [
    "max(l)"
   ]
  },
  {
   "cell_type": "code",
   "execution_count": 104,
   "id": "95617a8e-7673-4062-84de-a9acd4316183",
   "metadata": {},
   "outputs": [
    {
     "data": {
      "text/plain": [
       "1"
      ]
     },
     "execution_count": 104,
     "metadata": {},
     "output_type": "execute_result"
    }
   ],
   "source": [
    "min(l)"
   ]
  },
  {
   "cell_type": "code",
   "execution_count": 106,
   "id": "f2a50d49-9720-468c-92bf-40ccffe0f7ac",
   "metadata": {},
   "outputs": [
    {
     "data": {
      "text/plain": [
       "[2, 4, 5, 20, 34, 60, 610]"
      ]
     },
     "execution_count": 106,
     "metadata": {},
     "output_type": "execute_result"
    }
   ],
   "source": [
    "l = [2,4,5,610,34,20,60]\n",
    "sorted(l)"
   ]
  },
  {
   "cell_type": "code",
   "execution_count": 108,
   "id": "f3e88b14-3ca5-4c49-b234-de948b17b419",
   "metadata": {},
   "outputs": [
    {
     "ename": "TypeError",
     "evalue": "'<' not supported between instances of 'str' and 'int'",
     "output_type": "error",
     "traceback": [
      "\u001b[1;31m---------------------------------------------------------------------------\u001b[0m",
      "\u001b[1;31mTypeError\u001b[0m                                 Traceback (most recent call last)",
      "Cell \u001b[1;32mIn[108], line 2\u001b[0m\n\u001b[0;32m      1\u001b[0m l \u001b[38;5;241m=\u001b[39m [\u001b[38;5;241m3\u001b[39m,\u001b[38;5;241m4\u001b[39m,\u001b[38;5;241m5\u001b[39m,\u001b[38;5;124m'\u001b[39m\u001b[38;5;124ma\u001b[39m\u001b[38;5;124m'\u001b[39m,\u001b[38;5;241m1\u001b[39m]\n\u001b[1;32m----> 2\u001b[0m \u001b[38;5;28mprint\u001b[39m(\u001b[38;5;28msorted\u001b[39m(l))\n",
      "\u001b[1;31mTypeError\u001b[0m: '<' not supported between instances of 'str' and 'int'"
     ]
    }
   ],
   "source": [
    "l = [3,4,5,'a',1]\n",
    "print(sorted(l))"
   ]
  },
  {
   "cell_type": "code",
   "execution_count": 110,
   "id": "1db66bc6-f34a-4e03-9800-175545dcad23",
   "metadata": {},
   "outputs": [
    {
     "name": "stdout",
     "output_type": "stream",
     "text": [
      "1\n"
     ]
    }
   ],
   "source": [
    "# count\n",
    "l = [1,2,3,410,23,14]\n",
    "print(l.count(1))"
   ]
  },
  {
   "cell_type": "code",
   "execution_count": 112,
   "id": "16ae4e23-9aa6-4a97-a719-04f228be9c2a",
   "metadata": {},
   "outputs": [
    {
     "name": "stdout",
     "output_type": "stream",
     "text": [
      "3\n"
     ]
    }
   ],
   "source": [
    "#index\n",
    "print(l.index(410))"
   ]
  },
  {
   "cell_type": "code",
   "execution_count": 114,
   "id": "7073b086-0dbb-44ea-a61e-86f21a2960c2",
   "metadata": {},
   "outputs": [
    {
     "name": "stdout",
     "output_type": "stream",
     "text": [
      "[0, 7, 5, 1, 2]\n"
     ]
    }
   ],
   "source": [
    "#reverse\n",
    "l = [2,1,5,7,0]\n",
    "# permanently reverse the list\n",
    "l.reverse()\n",
    "print(l)"
   ]
  },
  {
   "cell_type": "code",
   "execution_count": 116,
   "id": "679e9e46-36fe-43c8-bae7-4cac9db74545",
   "metadata": {},
   "outputs": [],
   "source": [
    "l.sort()"
   ]
  },
  {
   "cell_type": "code",
   "execution_count": 118,
   "id": "6561080c-d560-4289-a198-a1185534e809",
   "metadata": {},
   "outputs": [
    {
     "name": "stdout",
     "output_type": "stream",
     "text": [
      "[0, 1, 2, 5, 7]\n"
     ]
    }
   ],
   "source": [
    "print(l)"
   ]
  },
  {
   "cell_type": "code",
   "execution_count": 120,
   "id": "417ccfd8-5a3f-4037-814b-f6c3b01ab7fb",
   "metadata": {},
   "outputs": [
    {
     "name": "stdout",
     "output_type": "stream",
     "text": [
      "[2, 1, 5, 7, 0]\n",
      "[0, 1, 2, 5, 7]\n"
     ]
    }
   ],
   "source": [
    "# sort vs sorted\n",
    "l = [2,1,5,7,0]\n",
    "print(l)\n",
    "print(sorted(l))"
   ]
  },
  {
   "cell_type": "code",
   "execution_count": 122,
   "id": "3964930d-3a34-43c9-b39c-1e7b40b0d8fc",
   "metadata": {},
   "outputs": [
    {
     "name": "stdout",
     "output_type": "stream",
     "text": [
      "[2, 1, 5, 7, 0]\n"
     ]
    }
   ],
   "source": [
    "print(l)"
   ]
  },
  {
   "cell_type": "code",
   "execution_count": 124,
   "id": "7cad86d1-a291-416d-a4fa-c5555312b94c",
   "metadata": {},
   "outputs": [],
   "source": [
    "l.sort()"
   ]
  },
  {
   "cell_type": "code",
   "execution_count": 126,
   "id": "887b5fcc-9578-41c0-b2e0-f5eb0beac4a1",
   "metadata": {},
   "outputs": [
    {
     "name": "stdout",
     "output_type": "stream",
     "text": [
      "[0, 1, 2, 5, 7]\n"
     ]
    }
   ],
   "source": [
    "print(l)"
   ]
  },
  {
   "cell_type": "code",
   "execution_count": 128,
   "id": "d836bdef-70cd-4fb4-8545-9c98f32676f7",
   "metadata": {},
   "outputs": [
    {
     "name": "stdout",
     "output_type": "stream",
     "text": [
      "[2, 1, 5, 7, 0]\n",
      "2215893656768\n",
      "[2, 1, 5, 7, 0]\n",
      "2215893662272\n"
     ]
    }
   ],
   "source": [
    "#copy\n",
    "l = [2,1,5,7,0]\n",
    "print(l)\n",
    "print(id(l))\n",
    "l1 = l.copy()\n",
    "print(l)\n",
    "print(id(l1))"
   ]
  },
  {
   "cell_type": "code",
   "execution_count": 130,
   "id": "eb34ee97-8669-49ca-90e0-b90cc2d44caa",
   "metadata": {},
   "outputs": [
    {
     "name": "stdout",
     "output_type": "stream",
     "text": [
      "[2, 1, 5, 7, 0]\n",
      "2215894042368\n",
      "[2, 1, 5, 7, 0]\n",
      "2215893761152\n"
     ]
    }
   ],
   "source": [
    "# copy --> shallow\n",
    "l = [2,1,5,7,0]\n",
    "print(l)\n",
    "print(id(l))\n",
    "l1 =l.copy()\n",
    "print(l1)\n",
    "print(id(l1))"
   ]
  },
  {
   "cell_type": "markdown",
   "id": "263ab737-6085-416c-abd0-aebe18bf1907",
   "metadata": {},
   "source": [
    "# List Comprehension\n",
    "list Comprehension provides a concise way of creating lists\n",
    "\n",
    "newlist = [expression for item in iterable if condition == True]\n",
    "\n",
    "Advantages of list comprehension\n",
    "* More time efficient and space-efficient than loops\n",
    "* Require fewer lines of code\n",
    "* Transforms iterative statement into a formula"
   ]
  },
  {
   "cell_type": "code",
   "execution_count": 134,
   "id": "17ee08a3-3541-44cb-b9ab-da51ad34784b",
   "metadata": {},
   "outputs": [
    {
     "name": "stdout",
     "output_type": "stream",
     "text": [
      "[1, 2, 3, 4, 5, 6, 7, 8, 9, 10]\n"
     ]
    }
   ],
   "source": [
    "# add 1 to 10 numbers to a list\n",
    "l =[]\n",
    "for i in range(1,11):\n",
    "    l.append(i)\n",
    "print(l)"
   ]
  },
  {
   "cell_type": "code",
   "execution_count": 138,
   "id": "1ea0d294-68f6-4373-8886-126ca2a8c35a",
   "metadata": {},
   "outputs": [
    {
     "name": "stdout",
     "output_type": "stream",
     "text": [
      "[1, 2, 3, 4, 5, 6, 7, 8, 9]\n"
     ]
    }
   ],
   "source": [
    "#list comprehension\n",
    "l = [i for  i in range(1,10)]\n",
    "print(l)"
   ]
  },
  {
   "cell_type": "code",
   "execution_count": 140,
   "id": "b914da30-f61d-4682-a464-f38fbd0623e5",
   "metadata": {},
   "outputs": [
    {
     "name": "stdout",
     "output_type": "stream",
     "text": [
      "[-6, -9, -12]\n"
     ]
    }
   ],
   "source": [
    "#scaler multiplication on a vector\n",
    "v = [2,3,4]\n",
    "s = -3\n",
    "# [-6,-9,-12]\n",
    "x =[]\n",
    "for i  in v:\n",
    "    x.append(i*s)\n",
    "print(x)"
   ]
  },
  {
   "cell_type": "code",
   "execution_count": 142,
   "id": "9ca256f1-f54f-4fab-8ef8-da287478369d",
   "metadata": {},
   "outputs": [
    {
     "ename": "SyntaxError",
     "evalue": "invalid syntax (28347438.py, line 3)",
     "output_type": "error",
     "traceback": [
      "\u001b[1;36m  Cell \u001b[1;32mIn[142], line 3\u001b[1;36m\u001b[0m\n\u001b[1;33m    [s*i for in v]\u001b[0m\n\u001b[1;37m             ^\u001b[0m\n\u001b[1;31mSyntaxError\u001b[0m\u001b[1;31m:\u001b[0m invalid syntax\n"
     ]
    }
   ],
   "source": [
    "v = [2,3,4]\n",
    "s = -3\n",
    "[s*i for in v]"
   ]
  },
  {
   "cell_type": "code",
   "execution_count": 144,
   "id": "7d262688-32bb-4d04-b4b9-4ff47e170ac0",
   "metadata": {},
   "outputs": [
    {
     "data": {
      "text/plain": [
       "[-6, -9, -12]"
      ]
     },
     "execution_count": 144,
     "metadata": {},
     "output_type": "execute_result"
    }
   ],
   "source": [
    "v = [2,3,4]\n",
    "s = -3\n",
    "[s*i for i in v]"
   ]
  },
  {
   "cell_type": "code",
   "execution_count": 146,
   "id": "c33a38f5-c9cb-482e-b800-413f0ac37a05",
   "metadata": {},
   "outputs": [
    {
     "data": {
      "text/plain": [
       "[1, 4, 9, 16, 25]"
      ]
     },
     "execution_count": 146,
     "metadata": {},
     "output_type": "execute_result"
    }
   ],
   "source": [
    "# Add Squares\n",
    "l = [1,2,3,4,5]\n",
    "[i**2 for i in l]"
   ]
  },
  {
   "cell_type": "code",
   "execution_count": 148,
   "id": "5eef1676-268d-4ce5-a6b1-460d65376e72",
   "metadata": {},
   "outputs": [
    {
     "data": {
      "text/plain": [
       "[5, 10, 15, 20, 25, 30, 35, 40, 45, 50]"
      ]
     },
     "execution_count": 148,
     "metadata": {},
     "output_type": "execute_result"
    }
   ],
   "source": [
    "#print all the numbers divisible by 5 in the range of 1 to 50\n",
    "[i for i in range(1,51) if i%5 == 0]"
   ]
  },
  {
   "cell_type": "code",
   "execution_count": 150,
   "id": "c68b2d29-b68d-4705-8568-4e5e68ad0a6b",
   "metadata": {},
   "outputs": [
    {
     "ename": "AttributeError",
     "evalue": "'str' object has no attribute 'startwith'",
     "output_type": "error",
     "traceback": [
      "\u001b[1;31m---------------------------------------------------------------------------\u001b[0m",
      "\u001b[1;31mAttributeError\u001b[0m                            Traceback (most recent call last)",
      "Cell \u001b[1;32mIn[150], line 3\u001b[0m\n\u001b[0;32m      1\u001b[0m \u001b[38;5;66;03m#find languages which start with letter p\u001b[39;00m\n\u001b[0;32m      2\u001b[0m languages \u001b[38;5;241m=\u001b[39m [\u001b[38;5;124m'\u001b[39m\u001b[38;5;124mjava\u001b[39m\u001b[38;5;124m'\u001b[39m,\u001b[38;5;124m'\u001b[39m\u001b[38;5;124mpython\u001b[39m\u001b[38;5;124m'\u001b[39m,\u001b[38;5;124m'\u001b[39m\u001b[38;5;124mphp\u001b[39m\u001b[38;5;124m'\u001b[39m,\u001b[38;5;124m'\u001b[39m\u001b[38;5;124mc\u001b[39m\u001b[38;5;124m'\u001b[39m, \u001b[38;5;124m'\u001b[39m\u001b[38;5;124mjavascript\u001b[39m\u001b[38;5;124m'\u001b[39m]\n\u001b[1;32m----> 3\u001b[0m [language \u001b[38;5;28;01mfor\u001b[39;00m language \u001b[38;5;129;01min\u001b[39;00m languages \u001b[38;5;28;01mif\u001b[39;00m language\u001b[38;5;241m.\u001b[39mstartwith(\u001b[38;5;124m'\u001b[39m\u001b[38;5;124mp\u001b[39m\u001b[38;5;124m'\u001b[39m)]\n",
      "\u001b[1;31mAttributeError\u001b[0m: 'str' object has no attribute 'startwith'"
     ]
    }
   ],
   "source": [
    "#find languages which start with letter p\n",
    "languages = ['java','python','php','c', 'javascript']\n",
    "[language for language in languages if language.startwith('p')]"
   ]
  },
  {
   "cell_type": "code",
   "execution_count": 152,
   "id": "30a82197-f3ee-459e-b6d7-32f334953e26",
   "metadata": {},
   "outputs": [
    {
     "data": {
      "text/plain": [
       "['python', 'php']"
      ]
     },
     "execution_count": 152,
     "metadata": {},
     "output_type": "execute_result"
    }
   ],
   "source": [
    "#find languages which start with letter p\n",
    "languages = ['java','python','php','c', 'javascript']\n",
    "[language for language in languages if language.startswith('p')]"
   ]
  },
  {
   "cell_type": "code",
   "execution_count": 154,
   "id": "cc216fcb-3cf6-45ab-9c2f-37cb81da068d",
   "metadata": {},
   "outputs": [
    {
     "data": {
      "text/plain": [
       "[[1, 2, 3], [2, 4, 6], [3, 6, 9]]"
      ]
     },
     "execution_count": 154,
     "metadata": {},
     "output_type": "execute_result"
    }
   ],
   "source": [
    "#print a (3,3) matrix using list comprehension -> Nested list comprehension\n",
    "[[i*j for i in range(1,4) ] for j in range(1,4)]"
   ]
  },
  {
   "cell_type": "code",
   "execution_count": 156,
   "id": "9f5c434f-a6c1-4818-a46c-0d9458dc009d",
   "metadata": {},
   "outputs": [
    {
     "data": {
      "text/plain": [
       "[5, 6, 7, 8, 10, 12, 14, 16, 15, 18, 21, 24, 20, 24, 28, 32]"
      ]
     },
     "execution_count": 156,
     "metadata": {},
     "output_type": "execute_result"
    }
   ],
   "source": [
    "# cartesian products --> List comprehension on 2 lists together\n",
    "l1 = [1,2,3,4]\n",
    "l2 = [5,6,7,8]\n",
    "[i*j for i in l1 for j in l2]"
   ]
  },
  {
   "cell_type": "markdown",
   "id": "0311d8e2-7e29-4864-ab35-aacbba879c3e",
   "metadata": {},
   "source": [
    "# 2 Ways to traverse a list\n",
    "* itemwise\n",
    "* indexwise"
   ]
  },
  {
   "cell_type": "code",
   "execution_count": 159,
   "id": "48038b6b-ba03-43dc-9193-4d39c3a2a478",
   "metadata": {},
   "outputs": [
    {
     "name": "stdout",
     "output_type": "stream",
     "text": [
      "10\n",
      "3\n",
      "5\n",
      "60\n"
     ]
    }
   ],
   "source": [
    " # itemwise \n",
    "l =[10,3,5,60]\n",
    "for i in l:\n",
    "    print(i)\n",
    "    "
   ]
  },
  {
   "cell_type": "code",
   "execution_count": 161,
   "id": "1f2259be-e4c7-42b8-9b91-ef595f704640",
   "metadata": {},
   "outputs": [
    {
     "name": "stdout",
     "output_type": "stream",
     "text": [
      "0\n",
      "1\n",
      "2\n",
      "3\n",
      "4\n",
      "5\n",
      "6\n"
     ]
    }
   ],
   "source": [
    "#indexwise\n",
    "l = [10,20,30,40,50,60,70]\n",
    "for i in range(0,len(l)):\n",
    "    print(i)"
   ]
  },
  {
   "cell_type": "markdown",
   "id": "86df256b-3e4a-4a13-b155-b94596a46b2d",
   "metadata": {},
   "source": [
    "# Zip\n",
    "the zip() function returns a zip object, which is an iterator of tuples where the first item in each passed iterator is paired together\n",
    "and then the second item in each passed iterator are paired together\n",
    "\n",
    "if the passed iterator have differnt lengths, the least items decides the length of the new iterator"
   ]
  },
  {
   "cell_type": "code",
   "execution_count": 164,
   "id": "d693f526-72d7-42da-95c9-dcb1077230d9",
   "metadata": {},
   "outputs": [
    {
     "data": {
      "text/plain": [
       "<zip at 0x203ed98c800>"
      ]
     },
     "execution_count": 164,
     "metadata": {},
     "output_type": "execute_result"
    }
   ],
   "source": [
    "# Write a program to add items of 2 lists indexwise\n",
    "l1 =[1,2,4,5]\n",
    "l2 =[-1,-2,-3,-4]\n",
    "zip(l1,l2)"
   ]
  },
  {
   "cell_type": "code",
   "execution_count": 166,
   "id": "493967b2-7282-4f85-b7e0-f3d432233bdb",
   "metadata": {},
   "outputs": [
    {
     "data": {
      "text/plain": [
       "[(1, -1), (2, -2), (4, -3), (5, -4)]"
      ]
     },
     "execution_count": 166,
     "metadata": {},
     "output_type": "execute_result"
    }
   ],
   "source": [
    "# Write a program to add items of 2 lists indexwise\n",
    "l1 =[1,2,4,5]\n",
    "l2 =[-1,-2,-3,-4]\n",
    "list(zip(l1,l2))"
   ]
  },
  {
   "cell_type": "code",
   "execution_count": 168,
   "id": "1fad1119-3e7d-48e6-95a7-ffbca0aca02c",
   "metadata": {},
   "outputs": [
    {
     "data": {
      "text/plain": [
       "[0, 0, 1, 1]"
      ]
     },
     "execution_count": 168,
     "metadata": {},
     "output_type": "execute_result"
    }
   ],
   "source": [
    "# Write a program to add items of 2 lists indexwise\n",
    "l1 =[1,2,4,5]\n",
    "l2 =[-1,-2,-3,-4]\n",
    "list(zip(l1,l2))\n",
    "[i+j for i, j in zip(l1,l2)]"
   ]
  },
  {
   "cell_type": "code",
   "execution_count": 170,
   "id": "134f7ce2-5051-4b0b-a60d-1847e1890f3c",
   "metadata": {},
   "outputs": [
    {
     "data": {
      "text/plain": [
       "[2, 4, 7, 9]"
      ]
     },
     "execution_count": 170,
     "metadata": {},
     "output_type": "execute_result"
    }
   ],
   "source": [
    "# Write a program to add items of 2 lists indexwise\n",
    "l1 =[1,2,4,5]\n",
    "l2 =[-1,-2,-3,-4]\n",
    "list(zip(l1,l2))\n",
    "[i-j for i, j in zip(l1,l2)]"
   ]
  },
  {
   "cell_type": "code",
   "execution_count": 172,
   "id": "b52bf200-31be-4efa-a638-f44681ca11ec",
   "metadata": {},
   "outputs": [
    {
     "name": "stdout",
     "output_type": "stream",
     "text": [
      "[1, 2, <built-in function print>, <class 'type'>, <bound method Kernel.raw_input of <ipykernel.ipkernel.IPythonKernel object at 0x00000203EA41D1F0>>]\n"
     ]
    }
   ],
   "source": [
    "l = [1,2,print,type,input]\n",
    "print(l)"
   ]
  },
  {
   "cell_type": "markdown",
   "id": "94f4aa56-92cf-4150-b5ab-9c4fe577aaeb",
   "metadata": {},
   "source": [
    "# Disadvantages of python lists\n",
    "* Slow\n",
    "* Risky usage\n",
    "* eats up more memory"
   ]
  },
  {
   "cell_type": "code",
   "execution_count": 176,
   "id": "f4b770f3-fcdd-422b-9267-a633a8c689b6",
   "metadata": {},
   "outputs": [],
   "source": [
    "#lists are mutable"
   ]
  },
  {
   "cell_type": "markdown",
   "id": "fd64dd03-22f5-451d-8583-2bb1dfd0d0e4",
   "metadata": {},
   "source": [
    "# Tuples\n",
    "\n",
    "A tuple in Python is similar to a list. The difference between the two is that we change the elements of a tuple once it is \n",
    "assigned whereas we can change the elements of a list.\n",
    "In short, tupple is an immutable list. A tuple cannot be changed in any way once it  is created.\n",
    "\n",
    "Characteristics\n",
    "* Orderd\n",
    "* Unchangeble\n",
    "* Allow duplicate"
   ]
  },
  {
   "cell_type": "markdown",
   "id": "4a951a7b-9fae-49d1-96a5-fcdf20d3b993",
   "metadata": {},
   "source": [
    "# Creating Tuples"
   ]
  },
  {
   "cell_type": "code",
   "execution_count": 3,
   "id": "84ce3dfe-cfa4-44ce-83f7-a10d0199fecf",
   "metadata": {},
   "outputs": [
    {
     "name": "stdout",
     "output_type": "stream",
     "text": [
      "()\n",
      "<class 'int'>\n"
     ]
    }
   ],
   "source": [
    "#empty\n",
    "t1 =()\n",
    "print(t1)\n",
    "#create a tuple with a sigle item\n",
    "t2 =(2)\n",
    "print(type(t2))"
   ]
  },
  {
   "cell_type": "code",
   "execution_count": 5,
   "id": "25850493-608b-4ad0-8eab-3c4623d6eb93",
   "metadata": {},
   "outputs": [
    {
     "name": "stdout",
     "output_type": "stream",
     "text": [
      "<class 'tuple'>\n"
     ]
    }
   ],
   "source": [
    "t2 =(2,)\n",
    "print(type(t2))"
   ]
  },
  {
   "cell_type": "code",
   "execution_count": 7,
   "id": "edf01f65-2428-4a4e-9c80-287c0238492a",
   "metadata": {},
   "outputs": [
    {
     "name": "stdout",
     "output_type": "stream",
     "text": [
      "()\n"
     ]
    }
   ],
   "source": [
    "#empty\n",
    "t1 =()\n",
    "print(t1)"
   ]
  },
  {
   "cell_type": "code",
   "execution_count": 9,
   "id": "8a75dd0e-49ed-4221-83e7-78ec71699dee",
   "metadata": {},
   "outputs": [
    {
     "data": {
      "text/plain": [
       "tuple"
      ]
     },
     "execution_count": 9,
     "metadata": {},
     "output_type": "execute_result"
    }
   ],
   "source": [
    "type(t1)"
   ]
  },
  {
   "cell_type": "code",
   "execution_count": 11,
   "id": "a695642e-58d4-45e6-be91-f7056a326a1e",
   "metadata": {},
   "outputs": [
    {
     "name": "stdout",
     "output_type": "stream",
     "text": [
      "('Hello',)\n",
      "<class 'tuple'>\n"
     ]
    }
   ],
   "source": [
    "#Create a tuple with a single item\n",
    "t2 =('Hello',)\n",
    "print(t2)\n",
    "print(type(t2))"
   ]
  },
  {
   "cell_type": "code",
   "execution_count": 13,
   "id": "bcb39d4d-50b2-47e9-80b5-7fb64073e754",
   "metadata": {},
   "outputs": [
    {
     "name": "stdout",
     "output_type": "stream",
     "text": [
      "(1, 2, 3)\n"
     ]
    }
   ],
   "source": [
    "#homogeneous tuple\n",
    "t3 = (1,2,3)\n",
    "print(t3)"
   ]
  },
  {
   "cell_type": "code",
   "execution_count": 15,
   "id": "eed36920-dea6-4505-8d7f-9afca3875c5c",
   "metadata": {},
   "outputs": [
    {
     "name": "stdout",
     "output_type": "stream",
     "text": [
      "(1, 2, 3, 4, True, [1, 2, 3])\n"
     ]
    }
   ],
   "source": [
    "#hetrogeneous tuple\n",
    "t4 = (1,2,3,4,True,[1,2,3])\n",
    "print(t4)"
   ]
  },
  {
   "cell_type": "code",
   "execution_count": 1,
   "id": "7befdb7b-a532-49d2-99d6-edd49b6c2c7a",
   "metadata": {},
   "outputs": [
    {
     "name": "stdout",
     "output_type": "stream",
     "text": [
      "(1, 2, 3, (4, 5))\n"
     ]
    }
   ],
   "source": [
    "#tuple\n",
    "t5 =(1,2,3,(4,5))\n",
    "print(t5)"
   ]
  },
  {
   "cell_type": "code",
   "execution_count": 3,
   "id": "ada1d5d6-e131-436d-a572-8a8bcf592e00",
   "metadata": {},
   "outputs": [
    {
     "name": "stdout",
     "output_type": "stream",
     "text": [
      "('h', 'e', 'l', 'l', 'o')\n"
     ]
    }
   ],
   "source": [
    "#using type conversion\n",
    "t6 = tuple('hello')\n",
    "print(t6)"
   ]
  },
  {
   "cell_type": "markdown",
   "id": "2fc1bc6b-6699-49c1-a826-d20f02a16788",
   "metadata": {},
   "source": [
    "# Accessing Items\n",
    "* Indexing\n",
    "* Slicing"
   ]
  },
  {
   "cell_type": "code",
   "execution_count": 6,
   "id": "a25e42f1-53aa-4cea-8657-07753183dcf4",
   "metadata": {},
   "outputs": [
    {
     "ename": "NameError",
     "evalue": "name 't3' is not defined",
     "output_type": "error",
     "traceback": [
      "\u001b[1;31m---------------------------------------------------------------------------\u001b[0m",
      "\u001b[1;31mNameError\u001b[0m                                 Traceback (most recent call last)",
      "Cell \u001b[1;32mIn[6], line 1\u001b[0m\n\u001b[1;32m----> 1\u001b[0m \u001b[38;5;28mprint\u001b[39m(t3)\n",
      "\u001b[1;31mNameError\u001b[0m: name 't3' is not defined"
     ]
    }
   ],
   "source": [
    "print(t3)"
   ]
  },
  {
   "cell_type": "code",
   "execution_count": 8,
   "id": "5e2d0594-ca35-4a77-b5fc-a5f8d7db9dfd",
   "metadata": {},
   "outputs": [
    {
     "name": "stdout",
     "output_type": "stream",
     "text": [
      "(2, 3, 4, 510, 34)\n"
     ]
    }
   ],
   "source": [
    "t1 =(2,3,4,510,34)\n",
    "print(t1)"
   ]
  },
  {
   "cell_type": "code",
   "execution_count": 10,
   "id": "f4a39e88-7169-45dd-923c-ef389dece1fe",
   "metadata": {},
   "outputs": [
    {
     "data": {
      "text/plain": [
       "tuple"
      ]
     },
     "execution_count": 10,
     "metadata": {},
     "output_type": "execute_result"
    }
   ],
   "source": [
    "type(t1)"
   ]
  },
  {
   "cell_type": "code",
   "execution_count": 12,
   "id": "50c72f1a-66cb-4548-bb8f-e2327878c1e5",
   "metadata": {},
   "outputs": [
    {
     "name": "stdout",
     "output_type": "stream",
     "text": [
      "2\n"
     ]
    }
   ],
   "source": [
    "print(t1[0])"
   ]
  },
  {
   "cell_type": "code",
   "execution_count": 14,
   "id": "9c91857d-ba90-4495-bb52-6d340b8f1e11",
   "metadata": {},
   "outputs": [
    {
     "name": "stdout",
     "output_type": "stream",
     "text": [
      "34\n"
     ]
    }
   ],
   "source": [
    "print(t1[-1])"
   ]
  },
  {
   "cell_type": "code",
   "execution_count": 16,
   "id": "7b2d986a-563b-47a6-ba4d-7adbb3574ff1",
   "metadata": {},
   "outputs": [
    {
     "name": "stdout",
     "output_type": "stream",
     "text": [
      "(2, 4)\n"
     ]
    }
   ],
   "source": [
    "print(t1[0:4:2])"
   ]
  },
  {
   "cell_type": "code",
   "execution_count": 18,
   "id": "7b0fb39c-c024-4c0f-8756-57552eb36b17",
   "metadata": {},
   "outputs": [
    {
     "name": "stdout",
     "output_type": "stream",
     "text": [
      "(2, 4, 34)\n"
     ]
    }
   ],
   "source": [
    "print(t1[0:5:2])"
   ]
  },
  {
   "cell_type": "code",
   "execution_count": 20,
   "id": "7a014a8c-d990-4dc8-b2b3-c118e5acd43e",
   "metadata": {},
   "outputs": [
    {
     "name": "stdout",
     "output_type": "stream",
     "text": [
      "(34, 510, 4, 3, 2)\n"
     ]
    }
   ],
   "source": [
    "print(t1[:: -1])"
   ]
  },
  {
   "cell_type": "markdown",
   "id": "d8d6baae-a147-44a6-945f-f48014e52417",
   "metadata": {},
   "source": [
    "# Editing items"
   ]
  },
  {
   "cell_type": "code",
   "execution_count": 23,
   "id": "2964e826-2a51-43f8-90f9-6228e5753cdc",
   "metadata": {},
   "outputs": [
    {
     "name": "stdout",
     "output_type": "stream",
     "text": [
      "(2, 3, 4, 510, 34)\n"
     ]
    }
   ],
   "source": [
    "print(t1)"
   ]
  },
  {
   "cell_type": "code",
   "execution_count": 25,
   "id": "568834b6-a923-4c9a-9ce2-b6b6db71ab1c",
   "metadata": {},
   "outputs": [
    {
     "ename": "TypeError",
     "evalue": "'tuple' object does not support item assignment",
     "output_type": "error",
     "traceback": [
      "\u001b[1;31m---------------------------------------------------------------------------\u001b[0m",
      "\u001b[1;31mTypeError\u001b[0m                                 Traceback (most recent call last)",
      "Cell \u001b[1;32mIn[25], line 2\u001b[0m\n\u001b[0;32m      1\u001b[0m \u001b[38;5;66;03m#not working because tuple immutable\u001b[39;00m\n\u001b[1;32m----> 2\u001b[0m t1[\u001b[38;5;241m0\u001b[39m] \u001b[38;5;241m=\u001b[39m\u001b[38;5;241m100\u001b[39m\n\u001b[0;32m      3\u001b[0m \u001b[38;5;28mprint\u001b[39m(t1)\n",
      "\u001b[1;31mTypeError\u001b[0m: 'tuple' object does not support item assignment"
     ]
    }
   ],
   "source": [
    "#not working because tuple immutable\n",
    "t1[0] =100\n",
    "print(t1)\n"
   ]
  },
  {
   "cell_type": "markdown",
   "id": "e53aa695-5134-4101-944a-ff1954a4feb4",
   "metadata": {},
   "source": [
    "# Adding items"
   ]
  },
  {
   "cell_type": "code",
   "execution_count": 28,
   "id": "a0158a89-b0a5-4ff6-bdc2-d5e75da8a6fa",
   "metadata": {},
   "outputs": [],
   "source": [
    "#not possible due to immutable nature\n"
   ]
  },
  {
   "cell_type": "markdown",
   "id": "3730e72e-5478-4e56-85c8-f33522767197",
   "metadata": {},
   "source": [
    "# Deleting items"
   ]
  },
  {
   "cell_type": "code",
   "execution_count": 31,
   "id": "c759ebc8-5fbb-4b38-ac00-edc8aed603a3",
   "metadata": {},
   "outputs": [
    {
     "name": "stdout",
     "output_type": "stream",
     "text": [
      "(2, 3, 4, 510, 34)\n"
     ]
    }
   ],
   "source": [
    "print(t1)"
   ]
  },
  {
   "cell_type": "code",
   "execution_count": 35,
   "id": "9a319811-c38c-4e03-924a-131ced0d8d55",
   "metadata": {},
   "outputs": [
    {
     "ename": "NameError",
     "evalue": "name 't1' is not defined",
     "output_type": "error",
     "traceback": [
      "\u001b[1;31m---------------------------------------------------------------------------\u001b[0m",
      "\u001b[1;31mNameError\u001b[0m                                 Traceback (most recent call last)",
      "Cell \u001b[1;32mIn[35], line 1\u001b[0m\n\u001b[1;32m----> 1\u001b[0m \u001b[38;5;28;01mdel\u001b[39;00m t1\n\u001b[0;32m      2\u001b[0m \u001b[38;5;28mprint\u001b[39m(t1)\n",
      "\u001b[1;31mNameError\u001b[0m: name 't1' is not defined"
     ]
    }
   ],
   "source": [
    "del t1\n",
    "print(t1)  #tuple is deleted therefore give error"
   ]
  },
  {
   "cell_type": "code",
   "execution_count": 37,
   "id": "91a33608-7f80-47fe-bbd7-fad7c233cdaf",
   "metadata": {},
   "outputs": [
    {
     "ename": "NameError",
     "evalue": "name 't1' is not defined",
     "output_type": "error",
     "traceback": [
      "\u001b[1;31m---------------------------------------------------------------------------\u001b[0m",
      "\u001b[1;31mNameError\u001b[0m                                 Traceback (most recent call last)",
      "Cell \u001b[1;32mIn[37], line 1\u001b[0m\n\u001b[1;32m----> 1\u001b[0m \u001b[38;5;28mprint\u001b[39m(t1)\n",
      "\u001b[1;31mNameError\u001b[0m: name 't1' is not defined"
     ]
    }
   ],
   "source": [
    "print(t1)"
   ]
  },
  {
   "cell_type": "code",
   "execution_count": 39,
   "id": "34716510-dee7-4184-b170-9e0a24ac85d0",
   "metadata": {},
   "outputs": [],
   "source": [
    "t1 =(1,2,30,4,5,20)"
   ]
  },
  {
   "cell_type": "code",
   "execution_count": 43,
   "id": "7344bebb-146e-42b6-8efd-b7932c782868",
   "metadata": {},
   "outputs": [
    {
     "ename": "TypeError",
     "evalue": "'tuple' object doesn't support item deletion",
     "output_type": "error",
     "traceback": [
      "\u001b[1;31m---------------------------------------------------------------------------\u001b[0m",
      "\u001b[1;31mTypeError\u001b[0m                                 Traceback (most recent call last)",
      "Cell \u001b[1;32mIn[43], line 1\u001b[0m\n\u001b[1;32m----> 1\u001b[0m \u001b[38;5;28;01mdel\u001b[39;00m t1[\u001b[38;5;241m-\u001b[39m\u001b[38;5;241m1\u001b[39m]\n",
      "\u001b[1;31mTypeError\u001b[0m: 'tuple' object doesn't support item deletion"
     ]
    }
   ],
   "source": [
    "del t1[-1] #due to immutable in nature we can't delete the item of tuple,but you can delete the whole tuple"
   ]
  },
  {
   "cell_type": "code",
   "execution_count": 45,
   "id": "57724cca-17d4-41da-9934-67368110542b",
   "metadata": {},
   "outputs": [
    {
     "name": "stdout",
     "output_type": "stream",
     "text": [
      "(1, 2, 30, 4, 5, 20)\n"
     ]
    }
   ],
   "source": [
    "print(t1)"
   ]
  },
  {
   "cell_type": "code",
   "execution_count": 53,
   "id": "4f24eaa4-8a8c-468b-9dd5-b2e273bfb11e",
   "metadata": {},
   "outputs": [
    {
     "data": {
      "text/plain": [
       "(20, 5, 4, 30)"
      ]
     },
     "execution_count": 53,
     "metadata": {},
     "output_type": "execute_result"
    }
   ],
   "source": [
    "t1[-1:-5:-1]"
   ]
  },
  {
   "cell_type": "code",
   "execution_count": 55,
   "id": "8388c3cd-7200-4a7e-bcea-26b4ac4745c3",
   "metadata": {},
   "outputs": [
    {
     "data": {
      "text/plain": [
       "(20, 5, 4, 30, 2, 1)"
      ]
     },
     "execution_count": 55,
     "metadata": {},
     "output_type": "execute_result"
    }
   ],
   "source": [
    "t1[::-1]"
   ]
  },
  {
   "cell_type": "markdown",
   "id": "2f053c92-573b-4c28-b0d4-5b837400865f",
   "metadata": {},
   "source": [
    "# Operations on Tuples"
   ]
  },
  {
   "cell_type": "code",
   "execution_count": 58,
   "id": "4ad81ffc-4e23-4911-a529-9045c3c891b8",
   "metadata": {},
   "outputs": [
    {
     "name": "stdout",
     "output_type": "stream",
     "text": [
      "(1, 2, 3, 4, 5, 6, 7, 8)\n"
     ]
    }
   ],
   "source": [
    "# + and *\n",
    "t1 = (1,2,3,4)\n",
    "t2 = (5,6,7,8)\n",
    "print(t1 + t2) "
   ]
  },
  {
   "cell_type": "code",
   "execution_count": 60,
   "id": "dc030261-80b5-422b-892e-19d7c73eb9a1",
   "metadata": {},
   "outputs": [
    {
     "name": "stdout",
     "output_type": "stream",
     "text": [
      "(1, 2, 3, 4, 1, 2, 3, 4, 1, 2, 3, 4)\n"
     ]
    }
   ],
   "source": [
    "print(t1*3)"
   ]
  },
  {
   "cell_type": "code",
   "execution_count": 62,
   "id": "35d93bbf-92a8-4c60-a70e-8fd0f96b8b0d",
   "metadata": {},
   "outputs": [
    {
     "data": {
      "text/plain": [
       "True"
      ]
     },
     "execution_count": 62,
     "metadata": {},
     "output_type": "execute_result"
    }
   ],
   "source": [
    "#Membership operator\n",
    "1 in t1"
   ]
  },
  {
   "cell_type": "code",
   "execution_count": 64,
   "id": "bb1da1de-2549-4d50-b3a4-d4e8ae61e090",
   "metadata": {},
   "outputs": [
    {
     "name": "stdout",
     "output_type": "stream",
     "text": [
      "1\n",
      "2\n",
      "3\n",
      "4\n"
     ]
    }
   ],
   "source": [
    "#iteration \n",
    "for i in t1:\n",
    "    print(i)"
   ]
  },
  {
   "cell_type": "code",
   "execution_count": 66,
   "id": "0df18bd0-2d81-43fe-ba6e-8ebb7029f7bd",
   "metadata": {},
   "outputs": [
    {
     "name": "stdout",
     "output_type": "stream",
     "text": [
      "Ravi kumar\n",
      "Ravi kumar\n",
      "Ravi kumar\n",
      "Ravi kumar\n"
     ]
    }
   ],
   "source": [
    "#iteration\n",
    "for i in t1:\n",
    "    print('Ravi kumar')"
   ]
  },
  {
   "cell_type": "code",
   "execution_count": 68,
   "id": "035fc4d7-66ca-4009-a6be-991143347178",
   "metadata": {},
   "outputs": [
    {
     "data": {
      "text/plain": [
       "5"
      ]
     },
     "execution_count": 68,
     "metadata": {},
     "output_type": "execute_result"
    }
   ],
   "source": [
    "# len/sum/min/max/sorted\n",
    "t = (1,2,4,5,7)\n",
    "len(t) #find out length of tuple\n"
   ]
  },
  {
   "cell_type": "code",
   "execution_count": 70,
   "id": "fd3f3ed9-5c62-4c69-9c26-9d1aac0e5d40",
   "metadata": {},
   "outputs": [
    {
     "data": {
      "text/plain": [
       "163"
      ]
     },
     "execution_count": 70,
     "metadata": {},
     "output_type": "execute_result"
    }
   ],
   "source": [
    "t = (10,30,20,40,63)\n",
    "sum(t)"
   ]
  },
  {
   "cell_type": "code",
   "execution_count": 72,
   "id": "bf190f89-e6c8-47fc-a066-36d43809d2ec",
   "metadata": {},
   "outputs": [
    {
     "data": {
      "text/plain": [
       "10"
      ]
     },
     "execution_count": 72,
     "metadata": {},
     "output_type": "execute_result"
    }
   ],
   "source": [
    "min(t)"
   ]
  },
  {
   "cell_type": "code",
   "execution_count": 74,
   "id": "7b5f7017-1c9a-40a1-9c7d-b4c2ed713cbe",
   "metadata": {},
   "outputs": [
    {
     "data": {
      "text/plain": [
       "63"
      ]
     },
     "execution_count": 74,
     "metadata": {},
     "output_type": "execute_result"
    }
   ],
   "source": [
    "max(t)"
   ]
  },
  {
   "cell_type": "code",
   "execution_count": 76,
   "id": "3c96e891-10b7-47e3-a7e4-ca7a27a1e30d",
   "metadata": {},
   "outputs": [
    {
     "data": {
      "text/plain": [
       "[10, 20, 30, 40, 63]"
      ]
     },
     "execution_count": 76,
     "metadata": {},
     "output_type": "execute_result"
    }
   ],
   "source": [
    "sorted(t)"
   ]
  },
  {
   "cell_type": "code",
   "execution_count": 78,
   "id": "bb0ab07f-e400-4413-9cf8-5a5f6ae2df52",
   "metadata": {},
   "outputs": [
    {
     "data": {
      "text/plain": [
       "[63, 40, 30, 20, 10]"
      ]
     },
     "execution_count": 78,
     "metadata": {},
     "output_type": "execute_result"
    }
   ],
   "source": [
    "sorted(t,reverse = True)"
   ]
  },
  {
   "cell_type": "markdown",
   "id": "bced2ebc-ba41-4cfd-96f5-b6649ec743aa",
   "metadata": {},
   "source": [
    "# Difference between Lists and tuples\n",
    "* Syntax\n",
    "* Mutability\n",
    "* Speed\n",
    "* Memory\n",
    "* Built in functionality\n",
    "* Error prone\n",
    "* Usability"
   ]
  },
  {
   "cell_type": "code",
   "execution_count": 5,
   "id": "b3999384-3550-4d28-8da4-eeb4c3781df7",
   "metadata": {},
   "outputs": [
    {
     "name": "stdout",
     "output_type": "stream",
     "text": [
      "List time 17.10598850250244\n",
      "Tuple time 17.680131673812866\n"
     ]
    }
   ],
   "source": [
    "import time\n",
    "l =list(range(100000000)) # list is slow as compared to tuple\n",
    "t = tuple(range(100000000))\n",
    "start = time.time()\n",
    "for i in l:\n",
    "    i*5\n",
    "print('List time',time.time()-start)\n",
    "start = time.time()\n",
    "for i in t:\n",
    "    i*5\n",
    "print('Tuple time',time.time()-start)"
   ]
  },
  {
   "cell_type": "code",
   "execution_count": 9,
   "id": "449d039d-2fcf-4d27-a447-ca1638df291b",
   "metadata": {},
   "outputs": [
    {
     "name": "stdout",
     "output_type": "stream",
     "text": [
      "List size  8056\n",
      "Tuple size 8040\n"
     ]
    }
   ],
   "source": [
    "import  sys  \n",
    "l =list(range(1000))   #list takes more memory than tuple\n",
    "t = tuple(range(1000))\n",
    "print('List size ', sys.getsizeof(l))\n",
    "print('Tuple size',sys.getsizeof(t))"
   ]
  },
  {
   "cell_type": "code",
   "execution_count": 11,
   "id": "d7e10df8-0713-4e8a-a37d-f61d3c8d7a0a",
   "metadata": {},
   "outputs": [
    {
     "name": "stdout",
     "output_type": "stream",
     "text": [
      "[1, 2, 3, 4]\n",
      "[1, 2, 3, 4]\n"
     ]
    }
   ],
   "source": [
    "a = [1,2,3]\n",
    "b=a\n",
    "a.append(4)\n",
    "print(a)\n",
    "print(b)\n"
   ]
  },
  {
   "cell_type": "markdown",
   "id": "7fd6ef6d-e6e6-4960-aa94-07f9cf06b580",
   "metadata": {},
   "source": [
    "# Why use tuple?\n",
    "Use a tuple when you need an immutable, fixed-size, or semantically grouped collection of items.\n",
    "Use a list when you need a mutable collection that can grow or shrink, and when the elements are more homogeneous."
   ]
  },
  {
   "cell_type": "markdown",
   "id": "1d6a620e-0aff-46bf-93a2-62f7c64e0ca1",
   "metadata": {},
   "source": [
    "# Special Syntax\n",
    "\n"
   ]
  },
  {
   "cell_type": "code",
   "execution_count": 15,
   "id": "c37e3eed-4926-4616-a493-156d8f6e8fc0",
   "metadata": {},
   "outputs": [],
   "source": [
    "#Tuple unpacking\n",
    "a,b,c =(1,3,4)"
   ]
  },
  {
   "cell_type": "code",
   "execution_count": 17,
   "id": "cf0a243f-83b6-4564-bbec-47023f6e2d54",
   "metadata": {},
   "outputs": [
    {
     "name": "stdout",
     "output_type": "stream",
     "text": [
      "1\n"
     ]
    }
   ],
   "source": [
    "print(a)"
   ]
  },
  {
   "cell_type": "code",
   "execution_count": 19,
   "id": "d847b023-59f7-491b-84d1-5a9e9cd2efba",
   "metadata": {},
   "outputs": [
    {
     "name": "stdout",
     "output_type": "stream",
     "text": [
      "3 4\n"
     ]
    }
   ],
   "source": [
    "print(b,c)"
   ]
  },
  {
   "cell_type": "code",
   "execution_count": 21,
   "id": "b06c59f2-53bc-4228-b473-668fe88f245d",
   "metadata": {},
   "outputs": [
    {
     "ename": "ValueError",
     "evalue": "too many values to unpack (expected 2)",
     "output_type": "error",
     "traceback": [
      "\u001b[1;31m---------------------------------------------------------------------------\u001b[0m",
      "\u001b[1;31mValueError\u001b[0m                                Traceback (most recent call last)",
      "Cell \u001b[1;32mIn[21], line 1\u001b[0m\n\u001b[1;32m----> 1\u001b[0m a,b \u001b[38;5;241m=\u001b[39m(\u001b[38;5;241m2\u001b[39m,\u001b[38;5;241m3\u001b[39m,\u001b[38;5;241m4\u001b[39m)\n",
      "\u001b[1;31mValueError\u001b[0m: too many values to unpack (expected 2)"
     ]
    }
   ],
   "source": [
    "a,b =(2,3,4)"
   ]
  },
  {
   "cell_type": "code",
   "execution_count": 25,
   "id": "25b0804b-8460-4791-946e-2eac668d1f61",
   "metadata": {},
   "outputs": [
    {
     "name": "stdout",
     "output_type": "stream",
     "text": [
      "2 1\n"
     ]
    }
   ],
   "source": [
    "#reverse the value\n",
    "a =1\n",
    "b= 2\n",
    "a,b =b,a\n",
    "print(a,b)"
   ]
  },
  {
   "cell_type": "code",
   "execution_count": 27,
   "id": "848c7544-4470-49c3-b120-6a36b4424811",
   "metadata": {},
   "outputs": [
    {
     "name": "stdout",
     "output_type": "stream",
     "text": [
      "1 2\n",
      "[3, 4]\n"
     ]
    }
   ],
   "source": [
    "a, b, *others = (1,2,3,4)\n",
    "print(a,b)\n",
    "print(others)"
   ]
  },
  {
   "cell_type": "code",
   "execution_count": 29,
   "id": "9686407a-0ae2-4a1c-926d-0e6f0b98efcb",
   "metadata": {},
   "outputs": [
    {
     "name": "stdout",
     "output_type": "stream",
     "text": [
      "2\n",
      "[4, 5, 6]\n"
     ]
    }
   ],
   "source": [
    "m,c, *ram = (2,3,4,5,6)\n",
    "print(m)\n",
    "print(ram)"
   ]
  },
  {
   "cell_type": "markdown",
   "id": "5a809b5a-4f35-4d0a-8368-84c79bcc4911",
   "metadata": {},
   "source": [
    "# Zipping tuples"
   ]
  },
  {
   "cell_type": "code",
   "execution_count": 32,
   "id": "5c83e3a4-3ec8-4111-a7e3-ea283a1707b1",
   "metadata": {},
   "outputs": [
    {
     "data": {
      "text/plain": [
       "<zip at 0x1bb7ae500c0>"
      ]
     },
     "execution_count": 32,
     "metadata": {},
     "output_type": "execute_result"
    }
   ],
   "source": [
    "a =(1,2,3,4)\n",
    "b =(5,6,7,8)\n",
    "zip(a,b)"
   ]
  },
  {
   "cell_type": "code",
   "execution_count": 34,
   "id": "adab4eaf-822f-4f1a-ae21-d7f4b1046ddc",
   "metadata": {},
   "outputs": [
    {
     "data": {
      "text/plain": [
       "[(1, 5), (2, 6), (3, 7), (4, 8)]"
      ]
     },
     "execution_count": 34,
     "metadata": {},
     "output_type": "execute_result"
    }
   ],
   "source": [
    "a =(1,2,3,4)\n",
    "b =(5,6,7,8)\n",
    "list(zip(a,b))"
   ]
  },
  {
   "cell_type": "markdown",
   "id": "d7bc40a6-e53f-407c-96e8-8757ef1c6a57",
   "metadata": {},
   "source": [
    "# Sets\n",
    "A set is an unordered collection of items. Every set element is unique(no duplicates) and must be immutable(cannot be changed)\n",
    "However, a set itself is mutable. We can add or remove items from it.\n",
    "Sets can also be used to perform mathematical set operations like union, intersection, symmetric difference etc.\n",
    "Characteristics\n",
    "* Unordered\n",
    "* Mutable\n",
    "* No Duplicates\n",
    "* Can't Conatain mutable data types"
   ]
  },
  {
   "cell_type": "markdown",
   "id": "0b5b7ef6-6e62-4852-b3c1-4320505edd80",
   "metadata": {},
   "source": [
    "# Creating Sets"
   ]
  },
  {
   "cell_type": "code",
   "execution_count": 5,
   "id": "ed9df63c-ef5c-45fc-815d-ff36ade19a16",
   "metadata": {},
   "outputs": [
    {
     "name": "stdout",
     "output_type": "stream",
     "text": [
      "set()\n",
      "<class 'set'>\n",
      "{1, 2, 3}\n"
     ]
    }
   ],
   "source": [
    "#empty\n",
    "s = set()\n",
    "print(s)\n",
    "print(type(s))\n",
    "# 1D and 2D\n",
    "s1 = {1,2,3}\n",
    "print(s1)\n",
    "\n"
   ]
  },
  {
   "cell_type": "code",
   "execution_count": 7,
   "id": "edfba164-4b43-486e-87d1-77b57ac4fb88",
   "metadata": {},
   "outputs": [
    {
     "ename": "TypeError",
     "evalue": "unhashable type: 'set'",
     "output_type": "error",
     "traceback": [
      "\u001b[1;31m---------------------------------------------------------------------------\u001b[0m",
      "\u001b[1;31mTypeError\u001b[0m                                 Traceback (most recent call last)",
      "Cell \u001b[1;32mIn[7], line 1\u001b[0m\n\u001b[1;32m----> 1\u001b[0m s2 \u001b[38;5;241m=\u001b[39m{\u001b[38;5;241m1\u001b[39m,\u001b[38;5;241m2\u001b[39m,\u001b[38;5;241m3\u001b[39m,{\u001b[38;5;241m4\u001b[39m,\u001b[38;5;241m5\u001b[39m}}\n\u001b[0;32m      2\u001b[0m \u001b[38;5;28mprint\u001b[39m(s2)\n",
      "\u001b[1;31mTypeError\u001b[0m: unhashable type: 'set'"
     ]
    }
   ],
   "source": [
    "s2 ={1,2,3,{4,5}}\n",
    "print(s2)"
   ]
  },
  {
   "cell_type": "code",
   "execution_count": 9,
   "id": "e4f66ab6-6e85-489c-9356-96ef92dbc5d2",
   "metadata": {},
   "outputs": [
    {
     "name": "stdout",
     "output_type": "stream",
     "text": [
      "{1, 'hello', 4, 5}\n"
     ]
    }
   ],
   "source": [
    "# homo and hetro\n",
    "s3 = {1,'hello',4,5,True}\n",
    "print(s3)\n",
    "\n"
   ]
  },
  {
   "cell_type": "code",
   "execution_count": 11,
   "id": "cddde87b-909b-4a2c-ad23-5cb4a14b21b0",
   "metadata": {},
   "outputs": [
    {
     "name": "stdout",
     "output_type": "stream",
     "text": [
      "{1, 2, 3}\n"
     ]
    }
   ],
   "source": [
    "# Using type conversion\n",
    "s4 = set([1,2,3])\n",
    "print(s4)"
   ]
  },
  {
   "cell_type": "code",
   "execution_count": 13,
   "id": "ee4df1b1-22d6-443c-a831-2eabfd7b833f",
   "metadata": {},
   "outputs": [
    {
     "name": "stdout",
     "output_type": "stream",
     "text": [
      "{1, 2, 3}\n"
     ]
    }
   ],
   "source": [
    "#Duplicates not allowed\n",
    "s5 ={1,1,2,3,3}\n",
    "print(s5)"
   ]
  },
  {
   "cell_type": "code",
   "execution_count": 15,
   "id": "10d8451e-1c56-4525-ac38-a2918355c534",
   "metadata": {},
   "outputs": [
    {
     "ename": "TypeError",
     "evalue": "unhashable type: 'list'",
     "output_type": "error",
     "traceback": [
      "\u001b[1;31m---------------------------------------------------------------------------\u001b[0m",
      "\u001b[1;31mTypeError\u001b[0m                                 Traceback (most recent call last)",
      "Cell \u001b[1;32mIn[15], line 2\u001b[0m\n\u001b[0;32m      1\u001b[0m \u001b[38;5;66;03m# Sets can't have mutable items\u001b[39;00m\n\u001b[1;32m----> 2\u001b[0m s6 \u001b[38;5;241m=\u001b[39m {\u001b[38;5;241m1\u001b[39m,\u001b[38;5;241m2\u001b[39m,[\u001b[38;5;241m3\u001b[39m,\u001b[38;5;241m4\u001b[39m]}\n\u001b[0;32m      3\u001b[0m \u001b[38;5;28mprint\u001b[39m(s6)\n",
      "\u001b[1;31mTypeError\u001b[0m: unhashable type: 'list'"
     ]
    }
   ],
   "source": [
    "# Sets can't have mutable items\n",
    "s6 = {1,2,[3,4]}\n",
    "print(s6)"
   ]
  },
  {
   "cell_type": "code",
   "execution_count": 17,
   "id": "d7f3d23c-0eb7-4d7c-84a3-b160641fcfb1",
   "metadata": {},
   "outputs": [
    {
     "name": "stdout",
     "output_type": "stream",
     "text": [
      "True\n"
     ]
    }
   ],
   "source": [
    "s1 ={1,3,2}\n",
    "s2 = {3,2,1}\n",
    "print(s1 == s2)"
   ]
  },
  {
   "cell_type": "markdown",
   "id": "4191ef37-327e-4123-bd03-9542984543b2",
   "metadata": {},
   "source": [
    "# Accessing the items"
   ]
  },
  {
   "cell_type": "code",
   "execution_count": 20,
   "id": "13ee52cf-ab50-4620-bce2-e574f1314d0f",
   "metadata": {},
   "outputs": [
    {
     "ename": "TypeError",
     "evalue": "'set' object is not subscriptable",
     "output_type": "error",
     "traceback": [
      "\u001b[1;31m---------------------------------------------------------------------------\u001b[0m",
      "\u001b[1;31mTypeError\u001b[0m                                 Traceback (most recent call last)",
      "Cell \u001b[1;32mIn[20], line 2\u001b[0m\n\u001b[0;32m      1\u001b[0m s1 \u001b[38;5;241m=\u001b[39m {\u001b[38;5;241m1\u001b[39m,\u001b[38;5;241m2\u001b[39m,\u001b[38;5;241m3\u001b[39m,\u001b[38;5;241m4\u001b[39m}\n\u001b[1;32m----> 2\u001b[0m s1[\u001b[38;5;241m0\u001b[39m:\u001b[38;5;241m3\u001b[39m]\n",
      "\u001b[1;31mTypeError\u001b[0m: 'set' object is not subscriptable"
     ]
    }
   ],
   "source": [
    "s1 = {1,2,3,4}\n",
    "s1[0:3]"
   ]
  },
  {
   "cell_type": "code",
   "execution_count": 22,
   "id": "25c25444-e96b-4c80-9653-f021c5c2230f",
   "metadata": {},
   "outputs": [
    {
     "name": "stdout",
     "output_type": "stream",
     "text": [
      "{1, 2, 3, 4, 5}\n"
     ]
    }
   ],
   "source": [
    "s = {1,2,3,4}\n",
    "s.add(5)\n",
    "print(s)"
   ]
  },
  {
   "cell_type": "markdown",
   "id": "04aafd7e-11c9-442a-8f0b-324af583f406",
   "metadata": {},
   "source": [
    "# Deleting Items "
   ]
  },
  {
   "cell_type": "code",
   "execution_count": 25,
   "id": "00748ba1-0947-4bee-9f83-23cf7fb05f75",
   "metadata": {},
   "outputs": [
    {
     "name": "stdout",
     "output_type": "stream",
     "text": [
      "{1, 2, 3, 4, 5}\n"
     ]
    }
   ],
   "source": [
    "# del \n",
    "s = {1,2,3,4,5}\n",
    "print(s)"
   ]
  },
  {
   "cell_type": "code",
   "execution_count": 27,
   "id": "bb1e8caa-8d19-43f3-a560-603399a9ce1c",
   "metadata": {},
   "outputs": [
    {
     "ename": "TypeError",
     "evalue": "'set' object doesn't support item deletion",
     "output_type": "error",
     "traceback": [
      "\u001b[1;31m---------------------------------------------------------------------------\u001b[0m",
      "\u001b[1;31mTypeError\u001b[0m                                 Traceback (most recent call last)",
      "Cell \u001b[1;32mIn[27], line 1\u001b[0m\n\u001b[1;32m----> 1\u001b[0m \u001b[38;5;28;01mdel\u001b[39;00m s[\u001b[38;5;241m0\u001b[39m]\n",
      "\u001b[1;31mTypeError\u001b[0m: 'set' object doesn't support item deletion"
     ]
    }
   ],
   "source": [
    "del s[0]"
   ]
  },
  {
   "cell_type": "code",
   "execution_count": 29,
   "id": "08b66c9e-41f7-4842-8718-b16b5bed1b99",
   "metadata": {},
   "outputs": [],
   "source": [
    "s.discard(5)"
   ]
  },
  {
   "cell_type": "code",
   "execution_count": 31,
   "id": "9c91ac38-b39c-41ec-add1-a9c3f265f361",
   "metadata": {},
   "outputs": [
    {
     "name": "stdout",
     "output_type": "stream",
     "text": [
      "{1, 2, 3, 4}\n"
     ]
    }
   ],
   "source": [
    "print(s)"
   ]
  },
  {
   "cell_type": "code",
   "execution_count": 33,
   "id": "8c89b17c-4fbb-4dec-a30d-46e5af2f7743",
   "metadata": {},
   "outputs": [],
   "source": [
    "s.remove(3)"
   ]
  },
  {
   "cell_type": "code",
   "execution_count": 35,
   "id": "8fe7b5cf-ddf7-4dbb-95c2-3e5e3de9bc54",
   "metadata": {},
   "outputs": [
    {
     "name": "stdout",
     "output_type": "stream",
     "text": [
      "{1, 2, 4}\n"
     ]
    }
   ],
   "source": [
    "print(s)"
   ]
  },
  {
   "cell_type": "code",
   "execution_count": 37,
   "id": "2edd350a-2b63-41bb-80d6-713611e55a3c",
   "metadata": {},
   "outputs": [
    {
     "data": {
      "text/plain": [
       "1"
      ]
     },
     "execution_count": 37,
     "metadata": {},
     "output_type": "execute_result"
    }
   ],
   "source": [
    "s.pop()"
   ]
  },
  {
   "cell_type": "code",
   "execution_count": 39,
   "id": "5f148f66-fb4e-440b-981f-40f7c081a716",
   "metadata": {},
   "outputs": [
    {
     "name": "stdout",
     "output_type": "stream",
     "text": [
      "{2, 4}\n"
     ]
    }
   ],
   "source": [
    "print(s)"
   ]
  },
  {
   "cell_type": "code",
   "execution_count": 41,
   "id": "71cf1488-5ba5-41b1-8897-3b7a9ded61b3",
   "metadata": {},
   "outputs": [
    {
     "ename": "TypeError",
     "evalue": "set.clear() takes no arguments (1 given)",
     "output_type": "error",
     "traceback": [
      "\u001b[1;31m---------------------------------------------------------------------------\u001b[0m",
      "\u001b[1;31mTypeError\u001b[0m                                 Traceback (most recent call last)",
      "Cell \u001b[1;32mIn[41], line 1\u001b[0m\n\u001b[1;32m----> 1\u001b[0m s\u001b[38;5;241m.\u001b[39mclear(\u001b[38;5;241m2\u001b[39m)\n",
      "\u001b[1;31mTypeError\u001b[0m: set.clear() takes no arguments (1 given)"
     ]
    }
   ],
   "source": [
    "s.clear(2)"
   ]
  },
  {
   "cell_type": "code",
   "execution_count": 45,
   "id": "470fce81-581d-4a01-a645-31b103e7d67a",
   "metadata": {},
   "outputs": [],
   "source": [
    "s.clear()"
   ]
  },
  {
   "cell_type": "code",
   "execution_count": 47,
   "id": "a5210049-2366-4a87-85a3-4b7806e1b2b5",
   "metadata": {},
   "outputs": [
    {
     "name": "stdout",
     "output_type": "stream",
     "text": [
      "set()\n"
     ]
    }
   ],
   "source": [
    "print(s)"
   ]
  },
  {
   "cell_type": "markdown",
   "id": "f0ea69fd-6c56-475e-8ff0-737ba6249f20",
   "metadata": {},
   "source": [
    "# Set operations"
   ]
  },
  {
   "cell_type": "code",
   "execution_count": 50,
   "id": "5b875006-a23c-4044-be2b-132bca8b2859",
   "metadata": {},
   "outputs": [
    {
     "name": "stdout",
     "output_type": "stream",
     "text": [
      "{1, 2, 3, 4, 5, 6, 7, 8}\n"
     ]
    }
   ],
   "source": [
    "s1 ={1,2,3,4,5}\n",
    "s2 = {4,5,6,7,8}\n",
    "print(s1 | s2) #union "
   ]
  },
  {
   "cell_type": "code",
   "execution_count": 54,
   "id": "0f86fcc5-0c38-4fa4-a33a-c221a6339c46",
   "metadata": {},
   "outputs": [
    {
     "name": "stdout",
     "output_type": "stream",
     "text": [
      "{4, 5}\n"
     ]
    }
   ],
   "source": [
    "print(s1 &s2)  #Intersection"
   ]
  },
  {
   "cell_type": "code",
   "execution_count": 62,
   "id": "44c9aef9-e1d0-4706-af28-b09a71df25d2",
   "metadata": {},
   "outputs": [
    {
     "name": "stdout",
     "output_type": "stream",
     "text": [
      "{1, 2, 3}\n"
     ]
    }
   ],
   "source": [
    "print(s1 -s2)  #difference"
   ]
  },
  {
   "cell_type": "code",
   "execution_count": 64,
   "id": "af4a4d5c-66d1-4c67-83bb-70b41bea77ac",
   "metadata": {},
   "outputs": [
    {
     "name": "stdout",
     "output_type": "stream",
     "text": [
      "{1, 2, 3, 6, 7, 8}\n"
     ]
    }
   ],
   "source": [
    "print(s1 ^ s2)  #symmetric difference"
   ]
  },
  {
   "cell_type": "code",
   "execution_count": 66,
   "id": "94f16ec8-d24e-4e2d-9262-21d54b6eb25b",
   "metadata": {},
   "outputs": [
    {
     "data": {
      "text/plain": [
       "False"
      ]
     },
     "execution_count": 66,
     "metadata": {},
     "output_type": "execute_result"
    }
   ],
   "source": [
    "1 not in s1 # membership test"
   ]
  },
  {
   "cell_type": "code",
   "execution_count": 68,
   "id": "5ad863e3-44cc-4058-b992-2b4c6b33a42c",
   "metadata": {},
   "outputs": [
    {
     "name": "stdout",
     "output_type": "stream",
     "text": [
      "{1, 2, 3, 4, 5}\n"
     ]
    }
   ],
   "source": [
    "print(s1)"
   ]
  },
  {
   "cell_type": "code",
   "execution_count": 70,
   "id": "6de161c1-85db-43d1-b51d-6fcd6615dbd4",
   "metadata": {},
   "outputs": [
    {
     "name": "stdout",
     "output_type": "stream",
     "text": [
      "1\n",
      "2\n",
      "3\n",
      "4\n",
      "5\n"
     ]
    }
   ],
   "source": [
    "#Iteration\n",
    "for i in s1:\n",
    "    print(i)"
   ]
  },
  {
   "cell_type": "code",
   "execution_count": 72,
   "id": "573ba070-c049-4632-ac14-506747a46578",
   "metadata": {},
   "outputs": [
    {
     "name": "stdout",
     "output_type": "stream",
     "text": [
      "Ravi\n",
      "Ravi\n",
      "Ravi\n",
      "Ravi\n",
      "Ravi\n"
     ]
    }
   ],
   "source": [
    "for i in s1:\n",
    "    print(\"Ravi\")"
   ]
  },
  {
   "cell_type": "markdown",
   "id": "5a7b5854-ffc5-4037-a582-0c918cfcd491",
   "metadata": {},
   "source": [
    "# Set functions"
   ]
  },
  {
   "cell_type": "code",
   "execution_count": 77,
   "id": "4bddb28b-1d6f-4a7c-873d-2e7c5f7a1084",
   "metadata": {},
   "outputs": [
    {
     "name": "stdout",
     "output_type": "stream",
     "text": [
      "8\n"
     ]
    }
   ],
   "source": [
    "s1 = {1,4,5,7,8,2,3,10}\n",
    "print(len(s1))"
   ]
  },
  {
   "cell_type": "code",
   "execution_count": 79,
   "id": "57362ccd-44e3-43b6-b6f9-7c09bea5af4b",
   "metadata": {},
   "outputs": [
    {
     "name": "stdout",
     "output_type": "stream",
     "text": [
      "40\n"
     ]
    }
   ],
   "source": [
    "print(sum(s1))"
   ]
  },
  {
   "cell_type": "code",
   "execution_count": 81,
   "id": "0d383685-31a9-464e-b9cb-5a8d31d30059",
   "metadata": {},
   "outputs": [
    {
     "name": "stdout",
     "output_type": "stream",
     "text": [
      "1\n"
     ]
    }
   ],
   "source": [
    "print(min(s1))"
   ]
  },
  {
   "cell_type": "code",
   "execution_count": 83,
   "id": "31cb0d6c-4aac-41f0-aece-4d6c772a33a9",
   "metadata": {},
   "outputs": [
    {
     "name": "stdout",
     "output_type": "stream",
     "text": [
      "10\n"
     ]
    }
   ],
   "source": [
    "print(max(s1))"
   ]
  },
  {
   "cell_type": "code",
   "execution_count": 85,
   "id": "3239b3c9-5712-419d-8ecc-6e8d7354a063",
   "metadata": {},
   "outputs": [
    {
     "data": {
      "text/plain": [
       "[1, 2, 3, 4, 5, 7, 8, 10]"
      ]
     },
     "execution_count": 85,
     "metadata": {},
     "output_type": "execute_result"
    }
   ],
   "source": [
    "sorted(s1)"
   ]
  },
  {
   "cell_type": "code",
   "execution_count": 87,
   "id": "ff64f178-2cb9-44f0-8828-d3ec0472bd3e",
   "metadata": {},
   "outputs": [
    {
     "data": {
      "text/plain": [
       "[10, 8, 7, 5, 4, 3, 2, 1]"
      ]
     },
     "execution_count": 87,
     "metadata": {},
     "output_type": "execute_result"
    }
   ],
   "source": [
    "sorted(s1, reverse =True)"
   ]
  },
  {
   "cell_type": "code",
   "execution_count": 91,
   "id": "9afc3074-79b3-44e7-a8dd-0acac251ead0",
   "metadata": {},
   "outputs": [
    {
     "name": "stdout",
     "output_type": "stream",
     "text": [
      "{1, 2, 3, 4, 5, 6, 7, 8}\n"
     ]
    }
   ],
   "source": [
    "#Union / Update\n",
    "s1 = {1,2,3,4,5}\n",
    "s2 = {4,5,6,7,8}\n",
    "print(s1 | s2)\n"
   ]
  },
  {
   "cell_type": "code",
   "execution_count": 93,
   "id": "85ff9a7f-9050-484d-bf75-31f146800791",
   "metadata": {},
   "outputs": [],
   "source": [
    "s1.update(s2)"
   ]
  },
  {
   "cell_type": "code",
   "execution_count": 95,
   "id": "98c17d03-2f64-4fd3-bee3-014e5252475b",
   "metadata": {},
   "outputs": [
    {
     "name": "stdout",
     "output_type": "stream",
     "text": [
      "{1, 2, 3, 4, 5, 6, 7, 8}\n"
     ]
    }
   ],
   "source": [
    "print(s1)"
   ]
  },
  {
   "cell_type": "code",
   "execution_count": 97,
   "id": "483ad821-ca82-4b9a-9168-6cff3b94d6e2",
   "metadata": {},
   "outputs": [
    {
     "name": "stdout",
     "output_type": "stream",
     "text": [
      "{4, 5, 6, 7, 8}\n"
     ]
    }
   ],
   "source": [
    "print(s2)"
   ]
  },
  {
   "cell_type": "code",
   "execution_count": 99,
   "id": "a17fcf5b-a60e-4a7a-bd46-91baacdfb77e",
   "metadata": {},
   "outputs": [
    {
     "data": {
      "text/plain": [
       "{1, 2, 3, 4, 5, 6, 7, 8}"
      ]
     },
     "execution_count": 99,
     "metadata": {},
     "output_type": "execute_result"
    }
   ],
   "source": [
    "s1.union(s2)"
   ]
  },
  {
   "cell_type": "code",
   "execution_count": 101,
   "id": "34915cec-b3ea-4c01-aa66-04bfa74ddd26",
   "metadata": {},
   "outputs": [
    {
     "name": "stdout",
     "output_type": "stream",
     "text": [
      "{1, 2, 3, 4, 5, 6, 7, 8}\n"
     ]
    }
   ],
   "source": [
    "print(s1)"
   ]
  },
  {
   "cell_type": "code",
   "execution_count": 103,
   "id": "cb5b47fa-1f3a-41df-b1f0-de6fe012f168",
   "metadata": {},
   "outputs": [
    {
     "ename": "NameError",
     "evalue": "name 'intersection' is not defined",
     "output_type": "error",
     "traceback": [
      "\u001b[1;31m---------------------------------------------------------------------------\u001b[0m",
      "\u001b[1;31mNameError\u001b[0m                                 Traceback (most recent call last)",
      "Cell \u001b[1;32mIn[103], line 4\u001b[0m\n\u001b[0;32m      2\u001b[0m s1 \u001b[38;5;241m=\u001b[39m {\u001b[38;5;241m1\u001b[39m,\u001b[38;5;241m2\u001b[39m,\u001b[38;5;241m3\u001b[39m,\u001b[38;5;241m4\u001b[39m,\u001b[38;5;241m5\u001b[39m}\n\u001b[0;32m      3\u001b[0m s2 \u001b[38;5;241m=\u001b[39m {\u001b[38;5;241m4\u001b[39m,\u001b[38;5;241m5\u001b[39m,\u001b[38;5;241m6\u001b[39m,\u001b[38;5;241m7\u001b[39m,\u001b[38;5;241m8\u001b[39m}\n\u001b[1;32m----> 4\u001b[0m s1,intersection(s2)\n",
      "\u001b[1;31mNameError\u001b[0m: name 'intersection' is not defined"
     ]
    }
   ],
   "source": [
    "# intersection / difference_update\n",
    "s1 = {1,2,3,4,5}\n",
    "s2 = {4,5,6,7,8}\n",
    "s1,intersection(s2)"
   ]
  },
  {
   "cell_type": "code",
   "execution_count": 105,
   "id": "2cc25d10-e4ed-4b1f-a468-82dc402edef9",
   "metadata": {},
   "outputs": [
    {
     "data": {
      "text/plain": [
       "{4, 5}"
      ]
     },
     "execution_count": 105,
     "metadata": {},
     "output_type": "execute_result"
    }
   ],
   "source": [
    "# intersection / difference_update\n",
    "s1 = {1,2,3,4,5}\n",
    "s2 = {4,5,6,7,8}\n",
    "s1.intersection(s2)"
   ]
  },
  {
   "cell_type": "code",
   "execution_count": 107,
   "id": "ab077825-6ace-480b-bd74-095f3d1f3add",
   "metadata": {},
   "outputs": [
    {
     "name": "stdout",
     "output_type": "stream",
     "text": [
      "{4, 5}\n",
      "{4, 5, 6, 7, 8}\n"
     ]
    }
   ],
   "source": [
    "s1.intersection_update(s2)\n",
    "print(s1)\n",
    "print(s2)"
   ]
  },
  {
   "cell_type": "code",
   "execution_count": 109,
   "id": "93c9d0af-cdc9-4e49-bf4c-448ac32d0656",
   "metadata": {},
   "outputs": [
    {
     "name": "stdout",
     "output_type": "stream",
     "text": [
      "{4, 5}\n"
     ]
    }
   ],
   "source": [
    "print(s1)"
   ]
  },
  {
   "cell_type": "code",
   "execution_count": 111,
   "id": "a4183cd8-9554-4438-ad76-3bb82f4c2bd8",
   "metadata": {},
   "outputs": [
    {
     "data": {
      "text/plain": [
       "{1, 2, 3, 6, 7, 8}"
      ]
     },
     "execution_count": 111,
     "metadata": {},
     "output_type": "execute_result"
    }
   ],
   "source": [
    "s1 = {1,2,3,4,5}\n",
    "s2 = {4,5,6,7,8}\n",
    "s1.symmetric_difference(s2)\n"
   ]
  },
  {
   "cell_type": "code",
   "execution_count": 113,
   "id": "f1a50bff-b14b-4d57-9e0d-5ca2f22b3628",
   "metadata": {},
   "outputs": [
    {
     "name": "stdout",
     "output_type": "stream",
     "text": [
      "{1, 2, 3, 6, 7, 8}\n"
     ]
    }
   ],
   "source": [
    "s1.symmetric_difference_update(s2)\n",
    "print(s1)"
   ]
  },
  {
   "cell_type": "code",
   "execution_count": 115,
   "id": "130b0c0b-b292-4be5-b7ce-08953014b30c",
   "metadata": {},
   "outputs": [
    {
     "data": {
      "text/plain": [
       "False"
      ]
     },
     "execution_count": 115,
     "metadata": {},
     "output_type": "execute_result"
    }
   ],
   "source": [
    "#isdisjoint/issubset/issuperset\n",
    "s1 = {1,2,3,4}\n",
    "s2 = {3,4,5,6}\n",
    "s1.isdisjoint(s2)"
   ]
  },
  {
   "cell_type": "code",
   "execution_count": 117,
   "id": "882c87bd-8e84-400f-a4cf-3fa0ef4fba9e",
   "metadata": {},
   "outputs": [
    {
     "data": {
      "text/plain": [
       "False"
      ]
     },
     "execution_count": 117,
     "metadata": {},
     "output_type": "execute_result"
    }
   ],
   "source": [
    "s1.issubset(s2)"
   ]
  },
  {
   "cell_type": "code",
   "execution_count": 119,
   "id": "3c917823-663e-460a-a909-88a8408e6fc7",
   "metadata": {},
   "outputs": [
    {
     "data": {
      "text/plain": [
       "False"
      ]
     },
     "execution_count": 119,
     "metadata": {},
     "output_type": "execute_result"
    }
   ],
   "source": [
    "s1.issuperset(s2)"
   ]
  },
  {
   "cell_type": "code",
   "execution_count": 121,
   "id": "a3a684f0-9daf-4c42-b961-9f92fbb589fa",
   "metadata": {},
   "outputs": [
    {
     "name": "stdout",
     "output_type": "stream",
     "text": [
      "{1, 2, 3}\n",
      "{1, 2, 3}\n"
     ]
    }
   ],
   "source": [
    "#copy\n",
    "s1 ={1,2,3}\n",
    "s2 =s1.copy()\n",
    "print(s1)\n",
    "print(s2)"
   ]
  },
  {
   "cell_type": "markdown",
   "id": "2848aec0-b369-4928-b69b-0204d17413f5",
   "metadata": {},
   "source": [
    "# Frozenset\n",
    "Frozen set is just an immutable version of python set object"
   ]
  },
  {
   "cell_type": "code",
   "execution_count": 124,
   "id": "49f4bbf1-d86d-4abe-af7d-23148916d8b2",
   "metadata": {},
   "outputs": [],
   "source": [
    "#create frozenset\n",
    "fs = frozenset([1,2,3])"
   ]
  },
  {
   "cell_type": "code",
   "execution_count": 126,
   "id": "6408952d-521c-4d7f-b938-d669be33e779",
   "metadata": {},
   "outputs": [
    {
     "name": "stdout",
     "output_type": "stream",
     "text": [
      "frozenset({1, 2, 3})\n"
     ]
    }
   ],
   "source": [
    "print(fs)"
   ]
  },
  {
   "cell_type": "code",
   "execution_count": 128,
   "id": "f2d95c5b-9bbd-4451-bd37-f104bc0ec251",
   "metadata": {},
   "outputs": [
    {
     "data": {
      "text/plain": [
       "frozenset({1, 2, 3, 4, 5})"
      ]
     },
     "execution_count": 128,
     "metadata": {},
     "output_type": "execute_result"
    }
   ],
   "source": [
    "fs1 = frozenset([1,2,3])\n",
    "fs2 = frozenset([3,4,5])\n",
    "fs1 | fs2"
   ]
  },
  {
   "cell_type": "code",
   "execution_count": 130,
   "id": "a9b85af7-ebf7-49da-8bca-cc54517376b4",
   "metadata": {},
   "outputs": [
    {
     "ename": "TypeError",
     "evalue": "frozenset expected at most 1 argument, got 2",
     "output_type": "error",
     "traceback": [
      "\u001b[1;31m---------------------------------------------------------------------------\u001b[0m",
      "\u001b[1;31mTypeError\u001b[0m                                 Traceback (most recent call last)",
      "Cell \u001b[1;32mIn[130], line 1\u001b[0m\n\u001b[1;32m----> 1\u001b[0m fs \u001b[38;5;241m=\u001b[39m \u001b[38;5;28mfrozenset\u001b[39m([\u001b[38;5;241m1\u001b[39m,\u001b[38;5;241m2\u001b[39m,\u001b[38;5;28mfrozenset\u001b[39m(\u001b[38;5;241m3\u001b[39m,\u001b[38;5;241m4\u001b[39m)])\n",
      "\u001b[1;31mTypeError\u001b[0m: frozenset expected at most 1 argument, got 2"
     ]
    }
   ],
   "source": [
    "fs = frozenset([1,2,frozenset(3,4)])"
   ]
  },
  {
   "cell_type": "code",
   "execution_count": 132,
   "id": "bc5f4280-c580-4d46-83f4-9359b8bb5133",
   "metadata": {},
   "outputs": [],
   "source": [
    "fs = frozenset([1,2,frozenset([3,4])])"
   ]
  },
  {
   "cell_type": "code",
   "execution_count": 134,
   "id": "d2273460-bae0-4aed-8b20-507dda117638",
   "metadata": {},
   "outputs": [
    {
     "name": "stdout",
     "output_type": "stream",
     "text": [
      "frozenset({frozenset({3, 4}), 1, 2})\n"
     ]
    }
   ],
   "source": [
    "print(fs)"
   ]
  },
  {
   "cell_type": "markdown",
   "id": "77000118-c3fd-4710-9080-f4bd20ff23bb",
   "metadata": {},
   "source": [
    "# Set Comprehension"
   ]
  },
  {
   "cell_type": "code",
   "execution_count": null,
   "id": "4ad12a7c-11d6-41c1-9ab1-47cf3e74032a",
   "metadata": {},
   "outputs": [],
   "source": [
    "#examples\n"
   ]
  },
  {
   "cell_type": "markdown",
   "id": "d984415d-09c1-420a-a2d6-96e531ea6b50",
   "metadata": {},
   "source": [
    "# Dictionary\n",
    "Dictionary in python is a collection of keys values, used to store values like a map, which, unlike other data types which hold only \n",
    "a single value as an element\n",
    "In some languages it is known as map or assosiative arrays\n",
    "dict = {'name':'nitish','age':33,'gender':'male'}\n",
    "characterstics:\n",
    "* Mutable\n",
    "* Indexing has no meaning\n",
    "* keys can't be duplicated\n",
    "* Keys can't be mutable items"
   ]
  },
  {
   "cell_type": "markdown",
   "id": "94fdc544-b2c6-41fc-848d-da29dab33eb0",
   "metadata": {},
   "source": [
    "# Created Dictionary"
   ]
  },
  {
   "cell_type": "code",
   "execution_count": 140,
   "id": "555c58d8-5a19-43b6-8916-3664ab9d40ce",
   "metadata": {},
   "outputs": [
    {
     "data": {
      "text/plain": [
       "{}"
      ]
     },
     "execution_count": 140,
     "metadata": {},
     "output_type": "execute_result"
    }
   ],
   "source": [
    "d ={}\n",
    "d"
   ]
  },
  {
   "cell_type": "code",
   "execution_count": 142,
   "id": "e960994c-0eb3-4c7d-9497-b81d3a4cc4a1",
   "metadata": {},
   "outputs": [],
   "source": [
    "#1D dictionary\n",
    "d1 = {'name':'nitish','gender':'male','profession':'youruber'}"
   ]
  },
  {
   "cell_type": "code",
   "execution_count": 144,
   "id": "05eb3507-668b-447a-9be4-b9385b6aeb39",
   "metadata": {},
   "outputs": [
    {
     "name": "stdout",
     "output_type": "stream",
     "text": [
      "{'name': 'nitish', 'gender': 'male', 'profession': 'youruber'}\n"
     ]
    }
   ],
   "source": [
    "print(d1)"
   ]
  },
  {
   "cell_type": "code",
   "execution_count": 146,
   "id": "98c3f043-363c-4bc3-83d3-5185a5824907",
   "metadata": {},
   "outputs": [],
   "source": [
    "# 2D dictionary\n",
    "s = {\n",
    "    'name':'Nitish',\n",
    "    'college':'bit',\n",
    "    'sem':4,\n",
    "    'subjects':{'dsa':50,\n",
    "                'maths':67,\n",
    "                'english':34\n",
    "               }\n",
    "}"
   ]
  },
  {
   "cell_type": "code",
   "execution_count": 148,
   "id": "2106b136-82d1-4f35-83a8-1393e032a05a",
   "metadata": {},
   "outputs": [
    {
     "name": "stdout",
     "output_type": "stream",
     "text": [
      "{'name': 'Nitish', 'college': 'bit', 'sem': 4, 'subjects': {'dsa': 50, 'maths': 67, 'english': 34}}\n"
     ]
    }
   ],
   "source": [
    "print(s)"
   ]
  },
  {
   "cell_type": "code",
   "execution_count": 152,
   "id": "4eaa7761-e15a-46e2-acd5-c92d08641259",
   "metadata": {},
   "outputs": [
    {
     "data": {
      "text/plain": [
       "{'name': 'nitish', 'age': 32, 3: 3}"
      ]
     },
     "execution_count": 152,
     "metadata": {},
     "output_type": "execute_result"
    }
   ],
   "source": [
    "#using sequence and dict function to create dictionary\n",
    "d4 = dict([('name','nitish'),('age',32),(3,3)])\n",
    "d4"
   ]
  },
  {
   "cell_type": "code",
   "execution_count": 154,
   "id": "bbb12425-3cd2-4efd-b754-8b2a9cff6403",
   "metadata": {},
   "outputs": [
    {
     "data": {
      "text/plain": [
       "{'name': 'rahul'}"
      ]
     },
     "execution_count": 154,
     "metadata": {},
     "output_type": "execute_result"
    }
   ],
   "source": [
    "# Duplicate keys\n",
    "d5 = {'name':'nitish','name':'rahul'}\n",
    "d5"
   ]
  },
  {
   "cell_type": "code",
   "execution_count": 156,
   "id": "1d08f849-de37-44d3-8846-a7c5d346c38b",
   "metadata": {},
   "outputs": [
    {
     "name": "stdout",
     "output_type": "stream",
     "text": [
      "{'name': 'rahul'}\n"
     ]
    }
   ],
   "source": [
    "print(d5)"
   ]
  },
  {
   "cell_type": "code",
   "execution_count": 158,
   "id": "ab1548d9-38e5-428b-aabe-6570194942f5",
   "metadata": {},
   "outputs": [
    {
     "ename": "TypeError",
     "evalue": "unhashable type: 'list'",
     "output_type": "error",
     "traceback": [
      "\u001b[1;31m---------------------------------------------------------------------------\u001b[0m",
      "\u001b[1;31mTypeError\u001b[0m                                 Traceback (most recent call last)",
      "Cell \u001b[1;32mIn[158], line 2\u001b[0m\n\u001b[0;32m      1\u001b[0m \u001b[38;5;66;03m# mutable items as keys\u001b[39;00m\n\u001b[1;32m----> 2\u001b[0m d6 \u001b[38;5;241m=\u001b[39m{\u001b[38;5;124m'\u001b[39m\u001b[38;5;124mname\u001b[39m\u001b[38;5;124m'\u001b[39m:\u001b[38;5;124m'\u001b[39m\u001b[38;5;124mnitish\u001b[39m\u001b[38;5;124m'\u001b[39m,[\u001b[38;5;241m1\u001b[39m,\u001b[38;5;241m2\u001b[39m,\u001b[38;5;241m3\u001b[39m]:\u001b[38;5;241m2\u001b[39m}\n",
      "\u001b[1;31mTypeError\u001b[0m: unhashable type: 'list'"
     ]
    }
   ],
   "source": [
    "# mutable items as keys\n",
    "d6 ={'name':'nitish',[1,2,3]:2}"
   ]
  },
  {
   "cell_type": "markdown",
   "id": "669d853b-79d4-42a5-92f0-08c0c904faa6",
   "metadata": {},
   "source": [
    "# Accessing items"
   ]
  },
  {
   "cell_type": "code",
   "execution_count": 161,
   "id": "3fb3b693-4b95-43a6-9748-213aec32bea8",
   "metadata": {},
   "outputs": [
    {
     "ename": "KeyError",
     "evalue": "0",
     "output_type": "error",
     "traceback": [
      "\u001b[1;31m---------------------------------------------------------------------------\u001b[0m",
      "\u001b[1;31mKeyError\u001b[0m                                  Traceback (most recent call last)",
      "Cell \u001b[1;32mIn[161], line 2\u001b[0m\n\u001b[0;32m      1\u001b[0m my_dict \u001b[38;5;241m=\u001b[39m {\u001b[38;5;124m'\u001b[39m\u001b[38;5;124mname\u001b[39m\u001b[38;5;124m'\u001b[39m : \u001b[38;5;124m'\u001b[39m\u001b[38;5;124mjack\u001b[39m\u001b[38;5;124m'\u001b[39m, \u001b[38;5;124m'\u001b[39m\u001b[38;5;124mage\u001b[39m\u001b[38;5;124m'\u001b[39m:\u001b[38;5;241m26\u001b[39m}\n\u001b[1;32m----> 2\u001b[0m my_dict[\u001b[38;5;241m0\u001b[39m]\n",
      "\u001b[1;31mKeyError\u001b[0m: 0"
     ]
    }
   ],
   "source": [
    "my_dict = {'name' : 'jack', 'age':26}\n",
    "my_dict[0]"
   ]
  },
  {
   "cell_type": "code",
   "execution_count": 163,
   "id": "c283585f-f192-4f23-9327-88b96851259a",
   "metadata": {},
   "outputs": [
    {
     "data": {
      "text/plain": [
       "'jack'"
      ]
     },
     "execution_count": 163,
     "metadata": {},
     "output_type": "execute_result"
    }
   ],
   "source": [
    "my_dict = {'name':'jack','age':26}\n",
    "# []\n",
    "my_dict['name']"
   ]
  },
  {
   "cell_type": "code",
   "execution_count": 165,
   "id": "e690595c-63d8-4a24-9498-993a161e47b7",
   "metadata": {},
   "outputs": [
    {
     "data": {
      "text/plain": [
       "26"
      ]
     },
     "execution_count": 165,
     "metadata": {},
     "output_type": "execute_result"
    }
   ],
   "source": [
    "#get\n",
    "my_dict.get('age')"
   ]
  },
  {
   "cell_type": "markdown",
   "id": "a8df9065-79f7-4768-ba46-b569d518e90b",
   "metadata": {},
   "source": [
    "# Adding key-value pair\n"
   ]
  },
  {
   "cell_type": "code",
   "execution_count": 169,
   "id": "c87e4be2-2ae6-4157-ba7c-6eaeb72b9424",
   "metadata": {},
   "outputs": [
    {
     "name": "stdout",
     "output_type": "stream",
     "text": [
      "{'name': 'nitish', 'age': 32, 3: 3, 'gender': 'male'}\n"
     ]
    }
   ],
   "source": [
    "d4['gender'] ='male'\n",
    "print(d4)"
   ]
  },
  {
   "cell_type": "markdown",
   "id": "71d550cc-91ad-4efd-88f3-c4b62df03413",
   "metadata": {},
   "source": [
    "# Remove key-value pair"
   ]
  },
  {
   "cell_type": "code",
   "execution_count": 172,
   "id": "34ec71ba-696f-46b5-bea3-a95524d8fb24",
   "metadata": {},
   "outputs": [],
   "source": [
    "d = {'name':'nitish','age':32,3:3,'gender':'male','weight':72}"
   ]
  },
  {
   "cell_type": "code",
   "execution_count": 174,
   "id": "34f78d6c-1859-4a9d-aa91-b1559421c5a6",
   "metadata": {},
   "outputs": [
    {
     "data": {
      "text/plain": [
       "3"
      ]
     },
     "execution_count": 174,
     "metadata": {},
     "output_type": "execute_result"
    }
   ],
   "source": [
    "# pop\n",
    "d.pop(3)\n"
   ]
  },
  {
   "cell_type": "code",
   "execution_count": 176,
   "id": "659a3ce5-9dab-4b72-b82d-74d9c6d91ed8",
   "metadata": {},
   "outputs": [
    {
     "name": "stdout",
     "output_type": "stream",
     "text": [
      "{'name': 'nitish', 'age': 32, 'gender': 'male', 'weight': 72}\n"
     ]
    }
   ],
   "source": [
    "print(d)"
   ]
  },
  {
   "cell_type": "code",
   "execution_count": 178,
   "id": "3285adaa-4335-418f-871e-3f7f3ac11f35",
   "metadata": {},
   "outputs": [
    {
     "name": "stdout",
     "output_type": "stream",
     "text": [
      "{'name': 'nitish', 'age': 32, 'gender': 'male'}\n"
     ]
    }
   ],
   "source": [
    "d.popitem()\n",
    "print(d)"
   ]
  },
  {
   "cell_type": "code",
   "execution_count": 180,
   "id": "5287e87a-c69e-42e5-8be3-6ea88c1f856d",
   "metadata": {},
   "outputs": [
    {
     "name": "stdout",
     "output_type": "stream",
     "text": [
      "{'age': 32, 'gender': 'male'}\n"
     ]
    }
   ],
   "source": [
    "del d['name']\n",
    "print(d)"
   ]
  },
  {
   "cell_type": "code",
   "execution_count": 182,
   "id": "3ab4a68a-c6b6-423c-9ff3-1fb2ccd13ef4",
   "metadata": {},
   "outputs": [
    {
     "name": "stdout",
     "output_type": "stream",
     "text": [
      "{}\n"
     ]
    }
   ],
   "source": [
    "d.clear()\n",
    "print(d)"
   ]
  },
  {
   "cell_type": "code",
   "execution_count": 192,
   "id": "4e761c4d-5a9e-44ab-b774-306c6cab54c2",
   "metadata": {},
   "outputs": [],
   "source": [
    "d5['gender'] ='male'"
   ]
  },
  {
   "cell_type": "code",
   "execution_count": 194,
   "id": "da5b8b43-54ca-4ad7-ac2c-dade786d3db1",
   "metadata": {},
   "outputs": [
    {
     "name": "stdout",
     "output_type": "stream",
     "text": [
      "{'name': 'rahul', 'gender': 'male'}\n"
     ]
    }
   ],
   "source": [
    "print(d5)"
   ]
  },
  {
   "cell_type": "code",
   "execution_count": 196,
   "id": "2b19d31a-6958-4885-b9f9-a605f4ff1fb5",
   "metadata": {},
   "outputs": [
    {
     "name": "stdout",
     "output_type": "stream",
     "text": [
      "{'name': 'Nitish', 'college': 'bit', 'sem': 4, 'subjects': {'dsa': 50, 'maths': 67, 'english': 34}}\n"
     ]
    }
   ],
   "source": [
    "print(s)"
   ]
  },
  {
   "cell_type": "code",
   "execution_count": 198,
   "id": "34dcc752-328a-41dd-aa66-5ebc9e0561d4",
   "metadata": {},
   "outputs": [
    {
     "ename": "SyntaxError",
     "evalue": "closing parenthesis '}' does not match opening parenthesis '[' (463766647.py, line 1)",
     "output_type": "error",
     "traceback": [
      "\u001b[1;36m  Cell \u001b[1;32mIn[198], line 1\u001b[1;36m\u001b[0m\n\u001b[1;33m    s['subjects':{'dsa':50,'maths':67,'english':34}}\u001b[0m\n\u001b[1;37m                                                   ^\u001b[0m\n\u001b[1;31mSyntaxError\u001b[0m\u001b[1;31m:\u001b[0m closing parenthesis '}' does not match opening parenthesis '['\n"
     ]
    }
   ],
   "source": [
    "s['subjects':{'dsa':50,'maths':67,'english':34}}"
   ]
  },
  {
   "cell_type": "code",
   "execution_count": 200,
   "id": "cda24c9e-6bee-43ed-8aa7-42165e9e1844",
   "metadata": {},
   "outputs": [
    {
     "ename": "TypeError",
     "evalue": "unhashable type: 'dict'",
     "output_type": "error",
     "traceback": [
      "\u001b[1;31m---------------------------------------------------------------------------\u001b[0m",
      "\u001b[1;31mTypeError\u001b[0m                                 Traceback (most recent call last)",
      "Cell \u001b[1;32mIn[200], line 1\u001b[0m\n\u001b[1;32m----> 1\u001b[0m s[\u001b[38;5;124m'\u001b[39m\u001b[38;5;124msubjects\u001b[39m\u001b[38;5;124m'\u001b[39m:{\u001b[38;5;124m'\u001b[39m\u001b[38;5;124mdsa\u001b[39m\u001b[38;5;124m'\u001b[39m:\u001b[38;5;241m50\u001b[39m,\u001b[38;5;124m'\u001b[39m\u001b[38;5;124mmaths\u001b[39m\u001b[38;5;124m'\u001b[39m:\u001b[38;5;241m67\u001b[39m,\u001b[38;5;124m'\u001b[39m\u001b[38;5;124menglish\u001b[39m\u001b[38;5;124m'\u001b[39m:\u001b[38;5;241m34\u001b[39m}]\n",
      "\u001b[1;31mTypeError\u001b[0m: unhashable type: 'dict'"
     ]
    }
   ],
   "source": [
    "s['subjects':{'dsa':50,'maths':67,'english':34}]"
   ]
  },
  {
   "cell_type": "code",
   "execution_count": 202,
   "id": "0a6ad525-8acd-4e73-93cc-a5af97003174",
   "metadata": {},
   "outputs": [
    {
     "name": "stdout",
     "output_type": "stream",
     "text": [
      "{'name': 'Nitish', 'college': 'bit', 'sem': 4, 'subjects': {'dsa': 50, 'maths': 67, 'english': 34}}\n"
     ]
    }
   ],
   "source": [
    "print(s)"
   ]
  },
  {
   "cell_type": "code",
   "execution_count": 204,
   "id": "ba9e9132-58a9-44d1-9d07-cf9580eb7e4b",
   "metadata": {},
   "outputs": [
    {
     "name": "stdout",
     "output_type": "stream",
     "text": [
      "{'name': 'Nitish', 'college': 'bit', 'sem': 4, 'subjects': {'dsa': 75, 'maths': 67, 'english': 34}}\n"
     ]
    }
   ],
   "source": [
    "s['subjects']['dsa'] =75\n",
    "print(s)"
   ]
  },
  {
   "cell_type": "code",
   "execution_count": 206,
   "id": "8c2023cb-2e03-4e67-9c85-35a04bc6d7fc",
   "metadata": {},
   "outputs": [
    {
     "name": "stdout",
     "output_type": "stream",
     "text": [
      "{'name': 'Nitish', 'college': 'bit', 'sem': 4, 'subjects': {'dsa': 75, 'english': 34}}\n"
     ]
    }
   ],
   "source": [
    "del s['subjects']['maths']\n",
    "print(s)"
   ]
  },
  {
   "cell_type": "code",
   "execution_count": 208,
   "id": "f3811e73-b8c3-42fd-a704-057a2ab50fd1",
   "metadata": {},
   "outputs": [
    {
     "name": "stdout",
     "output_type": "stream",
     "text": [
      "{}\n"
     ]
    }
   ],
   "source": [
    "print(d)"
   ]
  },
  {
   "cell_type": "code",
   "execution_count": 210,
   "id": "fecb4d24-2809-4707-bc21-26a6cb99b67f",
   "metadata": {},
   "outputs": [],
   "source": [
    "d = {'name':'ravi','age':34}"
   ]
  },
  {
   "cell_type": "code",
   "execution_count": 212,
   "id": "d8eea2db-7b3d-4bf7-b422-7d00f2ee4880",
   "metadata": {},
   "outputs": [
    {
     "name": "stdout",
     "output_type": "stream",
     "text": [
      "{'name': 'ravi', 'age': 34}\n"
     ]
    }
   ],
   "source": [
    "print(d)"
   ]
  },
  {
   "cell_type": "code",
   "execution_count": 214,
   "id": "1c0b1ef5-3a24-4024-b188-1d5e9cdb88d2",
   "metadata": {},
   "outputs": [],
   "source": [
    "d.clear()"
   ]
  },
  {
   "cell_type": "code",
   "execution_count": 216,
   "id": "5a2382d5-2ee2-4153-a742-6edc4b094f8b",
   "metadata": {},
   "outputs": [
    {
     "name": "stdout",
     "output_type": "stream",
     "text": [
      "{}\n"
     ]
    }
   ],
   "source": [
    "print(d)"
   ]
  },
  {
   "cell_type": "markdown",
   "id": "2d5522be-9dc0-4418-a312-4f95893a7684",
   "metadata": {},
   "source": [
    "# Dictionary Operations\n",
    "* Membership\n",
    "* Iteration"
   ]
  },
  {
   "cell_type": "code",
   "execution_count": 219,
   "id": "3cde4d73-3486-4a97-b839-371151e82edb",
   "metadata": {},
   "outputs": [
    {
     "name": "stdout",
     "output_type": "stream",
     "text": [
      "{'name': 'Nitish', 'college': 'bit', 'sem': 4, 'subjects': {'dsa': 75, 'english': 34}}\n"
     ]
    }
   ],
   "source": [
    "print(s)"
   ]
  },
  {
   "cell_type": "code",
   "execution_count": 225,
   "id": "5d7b1b47-42a2-4da7-a756-ca9349a9da4a",
   "metadata": {},
   "outputs": [
    {
     "data": {
      "text/plain": [
       "False"
      ]
     },
     "execution_count": 225,
     "metadata": {},
     "output_type": "execute_result"
    }
   ],
   "source": [
    "'Nitish' in s"
   ]
  },
  {
   "cell_type": "code",
   "execution_count": 227,
   "id": "36385772-e137-41e8-b30b-882950ce0841",
   "metadata": {},
   "outputs": [
    {
     "data": {
      "text/plain": [
       "True"
      ]
     },
     "execution_count": 227,
     "metadata": {},
     "output_type": "execute_result"
    }
   ],
   "source": [
    "'name' in s"
   ]
  },
  {
   "cell_type": "code",
   "execution_count": 229,
   "id": "19177c57-334e-47dc-be91-ab177a8119d6",
   "metadata": {},
   "outputs": [
    {
     "name": "stdout",
     "output_type": "stream",
     "text": [
      "ravi\n",
      "ravi\n",
      "ravi\n",
      "ravi\n"
     ]
    }
   ],
   "source": [
    "#iteration\n",
    "for i in s:\n",
    "    print('ravi')"
   ]
  },
  {
   "cell_type": "code",
   "execution_count": 231,
   "id": "8bae2a63-1e09-4b1e-8780-4e82fa43d275",
   "metadata": {},
   "outputs": [
    {
     "name": "stdout",
     "output_type": "stream",
     "text": [
      "name Nitish\n",
      "college bit\n",
      "sem 4\n",
      "subjects {'dsa': 75, 'english': 34}\n"
     ]
    }
   ],
   "source": [
    "for i in s:\n",
    "    print(i,s[i])"
   ]
  },
  {
   "cell_type": "markdown",
   "id": "80f81ca7-a4a6-4b6b-bdb5-b6a5544ad54a",
   "metadata": {},
   "source": [
    "# Dictionary Functions"
   ]
  },
  {
   "cell_type": "code",
   "execution_count": 234,
   "id": "5b4b71f4-c06e-4969-8f49-f2e30f18b584",
   "metadata": {},
   "outputs": [
    {
     "data": {
      "text/plain": [
       "4"
      ]
     },
     "execution_count": 234,
     "metadata": {},
     "output_type": "execute_result"
    }
   ],
   "source": [
    "# len/sorted\n",
    "len(s)"
   ]
  },
  {
   "cell_type": "code",
   "execution_count": 238,
   "id": "b0a057ed-0a9a-48fd-a67e-c9aefd2b639f",
   "metadata": {},
   "outputs": [
    {
     "name": "stdout",
     "output_type": "stream",
     "text": [
      "{'name': 'Nitish', 'college': 'bit', 'sem': 4, 'subjects': {'dsa': 75, 'english': 34}}\n"
     ]
    }
   ],
   "source": [
    "print(s)"
   ]
  },
  {
   "cell_type": "code",
   "execution_count": 240,
   "id": "d878c90a-69e2-4ca1-a408-ee1cf09404c0",
   "metadata": {},
   "outputs": [
    {
     "data": {
      "text/plain": [
       "['college', 'name', 'sem', 'subjects']"
      ]
     },
     "execution_count": 240,
     "metadata": {},
     "output_type": "execute_result"
    }
   ],
   "source": [
    "sorted(s)"
   ]
  },
  {
   "cell_type": "code",
   "execution_count": 244,
   "id": "38b44c21-69e9-49a8-8f9d-908d8a94ea44",
   "metadata": {},
   "outputs": [
    {
     "data": {
      "text/plain": [
       "['subjects', 'sem', 'name', 'college']"
      ]
     },
     "execution_count": 244,
     "metadata": {},
     "output_type": "execute_result"
    }
   ],
   "source": [
    "sorted(s,reverse = True)"
   ]
  },
  {
   "cell_type": "markdown",
   "id": "a5fba9c5-58d6-41eb-991f-d25ec747ae63",
   "metadata": {},
   "source": [
    "max(s)"
   ]
  },
  {
   "cell_type": "code",
   "execution_count": 247,
   "id": "dad1c42b-488d-40a5-996b-d433b516ccfb",
   "metadata": {},
   "outputs": [
    {
     "data": {
      "text/plain": [
       "'subjects'"
      ]
     },
     "execution_count": 247,
     "metadata": {},
     "output_type": "execute_result"
    }
   ],
   "source": [
    "max(s)"
   ]
  },
  {
   "cell_type": "code",
   "execution_count": 251,
   "id": "af841b25-b01b-40b0-81b4-40a7a9ec27b5",
   "metadata": {},
   "outputs": [
    {
     "name": "stdout",
     "output_type": "stream",
     "text": [
      "dict_items([('name', 'Nitish'), ('college', 'bit'), ('sem', 4), ('subjects', {'dsa': 75, 'english': 34})])\n"
     ]
    }
   ],
   "source": [
    "# items/keys/values\n",
    "print(s.items())"
   ]
  },
  {
   "cell_type": "code",
   "execution_count": 253,
   "id": "067faf91-6cbb-46e0-9bc5-8c19eb5566e7",
   "metadata": {},
   "outputs": [
    {
     "name": "stdout",
     "output_type": "stream",
     "text": [
      "dict_items([('name', 'Nitish'), ('college', 'bit'), ('sem', 4), ('subjects', {'dsa': 75, 'english': 34})])\n"
     ]
    }
   ],
   "source": [
    "print(s.items())"
   ]
  },
  {
   "cell_type": "code",
   "execution_count": 255,
   "id": "818d6fb8-9991-4459-bf74-8d8b98a802d3",
   "metadata": {},
   "outputs": [
    {
     "name": "stdout",
     "output_type": "stream",
     "text": [
      "dict_keys(['name', 'college', 'sem', 'subjects'])\n"
     ]
    }
   ],
   "source": [
    "print(s.keys())"
   ]
  },
  {
   "cell_type": "code",
   "execution_count": 257,
   "id": "68f245b0-d90c-42e3-b3c0-cfb7e566c048",
   "metadata": {},
   "outputs": [
    {
     "name": "stdout",
     "output_type": "stream",
     "text": [
      "dict_values(['Nitish', 'bit', 4, {'dsa': 75, 'english': 34}])\n"
     ]
    }
   ],
   "source": [
    "print(s.values())"
   ]
  },
  {
   "cell_type": "code",
   "execution_count": 259,
   "id": "93df0c02-2825-4ac6-882f-72c608f4d25c",
   "metadata": {},
   "outputs": [
    {
     "name": "stdout",
     "output_type": "stream",
     "text": [
      "{1: 2, 3: 4, 4: 7, 6: 8}\n"
     ]
    }
   ],
   "source": [
    "# update\n",
    "d1 = {1:2,3:4,4:5}\n",
    "d2 = {4:7,6:8}\n",
    "d1.update(d2)\n",
    "print(d1)"
   ]
  },
  {
   "cell_type": "markdown",
   "id": "c1a9b7e0-b22b-45b5-b486-6ade574b3cdd",
   "metadata": {},
   "source": [
    "# Dictionary Comprehension"
   ]
  },
  {
   "cell_type": "code",
   "execution_count": null,
   "id": "658070e3-25b9-4c15-842a-cac2c53f4463",
   "metadata": {},
   "outputs": [],
   "source": []
  }
 ],
 "metadata": {
  "kernelspec": {
   "display_name": "Python 3 (ipykernel)",
   "language": "python",
   "name": "python3"
  },
  "language_info": {
   "codemirror_mode": {
    "name": "ipython",
    "version": 3
   },
   "file_extension": ".py",
   "mimetype": "text/x-python",
   "name": "python",
   "nbconvert_exporter": "python",
   "pygments_lexer": "ipython3",
   "version": "3.12.4"
  }
 },
 "nbformat": 4,
 "nbformat_minor": 5
}
