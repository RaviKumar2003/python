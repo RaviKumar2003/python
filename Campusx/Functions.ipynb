{
 "cells": [
  {
   "cell_type": "code",
   "execution_count": 1,
   "id": "3ca24a56-e938-4bc5-9010-9b8f12c4184e",
   "metadata": {},
   "outputs": [
    {
     "data": {
      "text/plain": [
       "True"
      ]
     },
     "execution_count": 1,
     "metadata": {},
     "output_type": "execute_result"
    }
   ],
   "source": [
    "def is_even(i):\n",
    "    \"\"\" \n",
    "    Optinal docstring which tells us about the function, things like what inputs are required, what will the function return\n",
    "    \"\"\"\n",
    "    x = (i%2 ==0)\n",
    "    return x\n",
    "is_even(6)"
   ]
  },
  {
   "cell_type": "code",
   "execution_count": 5,
   "id": "6733128e-4a72-442d-813d-04b0a185c9fd",
   "metadata": {},
   "outputs": [
    {
     "ename": "NameError",
     "evalue": "name 'i' is not defined",
     "output_type": "error",
     "traceback": [
      "\u001b[1;31m---------------------------------------------------------------------------\u001b[0m",
      "\u001b[1;31mNameError\u001b[0m                                 Traceback (most recent call last)",
      "Cell \u001b[1;32mIn[5], line 12\u001b[0m\n\u001b[0;32m     10\u001b[0m     \u001b[38;5;28;01melse\u001b[39;00m:\n\u001b[0;32m     11\u001b[0m         \u001b[38;5;28;01mreturn\u001b[39;00m \u001b[38;5;124m'\u001b[39m\u001b[38;5;124modd\u001b[39m\u001b[38;5;124m'\u001b[39m\n\u001b[1;32m---> 12\u001b[0m is_even(i)\n",
      "\u001b[1;31mNameError\u001b[0m: name 'i' is not defined"
     ]
    }
   ],
   "source": [
    "def is_even(num):\n",
    "    \"\"\"\n",
    "    This function returns if a given number is odd or even\n",
    "    input - any valid integer\n",
    "    output - odd/even\n",
    "    created on - 16th Nov 2022\n",
    "    \"\"\"\n",
    "    if num%2 == 0:\n",
    "        return 'even'\n",
    "    else:\n",
    "        return 'odd'\n",
    "is_even(i)"
   ]
  },
  {
   "cell_type": "code",
   "execution_count": 7,
   "id": "d26c04b7-7835-405a-af6a-2e4bf9569da2",
   "metadata": {},
   "outputs": [
    {
     "data": {
      "text/plain": [
       "'odd'"
      ]
     },
     "execution_count": 7,
     "metadata": {},
     "output_type": "execute_result"
    }
   ],
   "source": [
    "def is_even(num):\n",
    "    \"\"\"\n",
    "    This function returns if a given number is odd or even\n",
    "    input - any valid integer\n",
    "    output - odd/even\n",
    "    created on - 16th Nov 2022\n",
    "    \"\"\"\n",
    "    if num%2 == 0:\n",
    "        return 'even'\n",
    "    else:\n",
    "        return 'odd'\n",
    "is_even(9)"
   ]
  },
  {
   "cell_type": "code",
   "execution_count": 9,
   "id": "80913106-0b28-4a4c-8947-4fecde144399",
   "metadata": {},
   "outputs": [
    {
     "name": "stdout",
     "output_type": "stream",
     "text": [
      "odd\n",
      "even\n",
      "odd\n",
      "even\n",
      "odd\n",
      "even\n",
      "odd\n",
      "even\n",
      "odd\n",
      "even\n"
     ]
    }
   ],
   "source": [
    "#function_name(input)\n",
    "for i in range(1,11):\n",
    "    x = is_even(i)\n",
    "    print(x)"
   ]
  },
  {
   "cell_type": "markdown",
   "id": "4df627f8-a443-499b-94db-653b0486777b",
   "metadata": {},
   "source": [
    "# Two point of views "
   ]
  },
  {
   "cell_type": "code",
   "execution_count": 12,
   "id": "8a1b970a-8dee-4de0-b8da-64091a85f6ab",
   "metadata": {},
   "outputs": [
    {
     "ename": "TypeError",
     "evalue": "not all arguments converted during string formatting",
     "output_type": "error",
     "traceback": [
      "\u001b[1;31m---------------------------------------------------------------------------\u001b[0m",
      "\u001b[1;31mTypeError\u001b[0m                                 Traceback (most recent call last)",
      "Cell \u001b[1;32mIn[12], line 1\u001b[0m\n\u001b[1;32m----> 1\u001b[0m is_even(\u001b[38;5;124m'\u001b[39m\u001b[38;5;124mhello\u001b[39m\u001b[38;5;124m'\u001b[39m)\n",
      "Cell \u001b[1;32mIn[7], line 8\u001b[0m, in \u001b[0;36mis_even\u001b[1;34m(num)\u001b[0m\n\u001b[0;32m      1\u001b[0m \u001b[38;5;28;01mdef\u001b[39;00m \u001b[38;5;21mis_even\u001b[39m(num):\n\u001b[0;32m      2\u001b[0m \u001b[38;5;250m    \u001b[39m\u001b[38;5;124;03m\"\"\"\u001b[39;00m\n\u001b[0;32m      3\u001b[0m \u001b[38;5;124;03m    This function returns if a given number is odd or even\u001b[39;00m\n\u001b[0;32m      4\u001b[0m \u001b[38;5;124;03m    input - any valid integer\u001b[39;00m\n\u001b[0;32m      5\u001b[0m \u001b[38;5;124;03m    output - odd/even\u001b[39;00m\n\u001b[0;32m      6\u001b[0m \u001b[38;5;124;03m    created on - 16th Nov 2022\u001b[39;00m\n\u001b[0;32m      7\u001b[0m \u001b[38;5;124;03m    \"\"\"\u001b[39;00m\n\u001b[1;32m----> 8\u001b[0m     \u001b[38;5;28;01mif\u001b[39;00m num\u001b[38;5;241m%\u001b[39m\u001b[38;5;241m2\u001b[39m \u001b[38;5;241m==\u001b[39m \u001b[38;5;241m0\u001b[39m:\n\u001b[0;32m      9\u001b[0m         \u001b[38;5;28;01mreturn\u001b[39;00m \u001b[38;5;124m'\u001b[39m\u001b[38;5;124meven\u001b[39m\u001b[38;5;124m'\u001b[39m\n\u001b[0;32m     10\u001b[0m     \u001b[38;5;28;01melse\u001b[39;00m:\n",
      "\u001b[1;31mTypeError\u001b[0m: not all arguments converted during string formatting"
     ]
    }
   ],
   "source": [
    "is_even('hello')"
   ]
  },
  {
   "cell_type": "code",
   "execution_count": 14,
   "id": "eee9a15d-c6a3-4401-afda-edf9b62e4a39",
   "metadata": {},
   "outputs": [
    {
     "data": {
      "text/plain": [
       "'odd'"
      ]
     },
     "execution_count": 14,
     "metadata": {},
     "output_type": "execute_result"
    }
   ],
   "source": [
    "def is_even(num):\n",
    "    \"\"\"\n",
    "    This function returns if a given number is odd or even\n",
    "    input - any valid integer\n",
    "    output - odd/even\n",
    "    created on - 16th Nov 2022\n",
    "    \"\"\"\n",
    "    if type(num) == int:\n",
    "        if num%2 == 0:\n",
    "            return 'even'\n",
    "        else:\n",
    "            return 'odd'\n",
    "    else:\n",
    "        return 'pagal'\n",
    "is_even(9)"
   ]
  },
  {
   "cell_type": "code",
   "execution_count": 20,
   "id": "56b02e10-0290-41a8-aa74-f7d5e8aa4562",
   "metadata": {},
   "outputs": [
    {
     "data": {
      "text/plain": [
       "'pagal hai kya'"
      ]
     },
     "execution_count": 20,
     "metadata": {},
     "output_type": "execute_result"
    }
   ],
   "source": [
    "def is_even(num):\n",
    "    \"\"\"\n",
    "    This function returns if a given number is odd or even\n",
    "    input - any valid integer\n",
    "    output - odd/even\n",
    "    created on - 16th Nov 2022\n",
    "    \"\"\"\n",
    "    if type(num) == int:\n",
    "        if num%2 == 0:\n",
    "            return 'even'\n",
    "        else:\n",
    "            return 'odd'\n",
    "    else:\n",
    "        return 'pagal hai kya'\n",
    "is_even('ravi')"
   ]
  },
  {
   "cell_type": "code",
   "execution_count": 22,
   "id": "7f75f113-4bbb-4e27-81e3-5b4f626b4915",
   "metadata": {},
   "outputs": [
    {
     "data": {
      "text/plain": [
       "'pagal hai kya'"
      ]
     },
     "execution_count": 22,
     "metadata": {},
     "output_type": "execute_result"
    }
   ],
   "source": [
    "def is_even(num):   # here num is called parameter\n",
    "    \"\"\"\n",
    "    This function returns if a given number is odd or even\n",
    "    input - any valid integer\n",
    "    output - odd/even\n",
    "    created on - 16th Nov 2022\n",
    "    \"\"\"\n",
    "    if type(num) == int:\n",
    "        if num%2 == 0:\n",
    "            return 'even'\n",
    "        else:\n",
    "            return 'odd'\n",
    "    else:\n",
    "        return 'pagal hai kya'\n",
    "is_even('ravi')  #here ravi is called argument"
   ]
  },
  {
   "cell_type": "code",
   "execution_count": 24,
   "id": "adec6688-10c6-48f4-8c90-c28d76bfd200",
   "metadata": {},
   "outputs": [],
   "source": [
    "def power(a,b):\n",
    "    return a**b"
   ]
  },
  {
   "cell_type": "code",
   "execution_count": 26,
   "id": "b608a3d3-94fe-4ccc-88ee-6e510301fd06",
   "metadata": {},
   "outputs": [
    {
     "data": {
      "text/plain": [
       "16"
      ]
     },
     "execution_count": 26,
     "metadata": {},
     "output_type": "execute_result"
    }
   ],
   "source": [
    "power(2,4)"
   ]
  },
  {
   "cell_type": "markdown",
   "id": "ea011008-0713-444f-b24e-8168303efaae",
   "metadata": {},
   "source": [
    "# parameter vs argument"
   ]
  },
  {
   "cell_type": "markdown",
   "id": "f4e833e0-ad8b-4131-ab1b-a9cd8cfe89e8",
   "metadata": {},
   "source": [
    "# types of argument\n",
    "* Default argument\n",
    "* positional argument\n",
    "* Keyword argument"
   ]
  },
  {
   "cell_type": "code",
   "execution_count": 30,
   "id": "491c5885-1bfd-4091-986b-d632d649714d",
   "metadata": {},
   "outputs": [
    {
     "data": {
      "text/plain": [
       "8"
      ]
     },
     "execution_count": 30,
     "metadata": {},
     "output_type": "execute_result"
    }
   ],
   "source": [
    "power(2,3)"
   ]
  },
  {
   "cell_type": "code",
   "execution_count": null,
   "id": "c631cd1b-135e-49d5-a111-74d70722ee6f",
   "metadata": {},
   "outputs": [],
   "source": []
  }
 ],
 "metadata": {
  "kernelspec": {
   "display_name": "Python 3 (ipykernel)",
   "language": "python",
   "name": "python3"
  },
  "language_info": {
   "codemirror_mode": {
    "name": "ipython",
    "version": 3
   },
   "file_extension": ".py",
   "mimetype": "text/x-python",
   "name": "python",
   "nbconvert_exporter": "python",
   "pygments_lexer": "ipython3",
   "version": "3.12.4"
  }
 },
 "nbformat": 4,
 "nbformat_minor": 5
}
